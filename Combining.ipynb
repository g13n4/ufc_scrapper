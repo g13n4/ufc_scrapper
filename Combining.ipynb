{
 "cells": [
  {
   "cell_type": "code",
   "execution_count": 1,
   "metadata": {
    "ExecuteTime": {
     "end_time": "2019-06-03T11:28:09.314182Z",
     "start_time": "2019-06-03T11:28:08.968279Z"
    }
   },
   "outputs": [],
   "source": [
    "import pandas as pd\n",
    "import numpy as np\n",
    "\n",
    "from bs4 import BeautifulSoup\n",
    "import bs4\n",
    "from urllib.request import urlopen as uReq\n",
    "from urllib.request import Request, urlopen\n",
    "from unidecode import unidecode\n",
    "\n",
    "import os\n",
    "import re\n",
    "import pickle\n",
    "import json"
   ]
  },
  {
   "cell_type": "code",
   "execution_count": 2,
   "metadata": {
    "ExecuteTime": {
     "end_time": "2019-06-03T11:28:09.328164Z",
     "start_time": "2019-06-03T11:28:09.326164Z"
    },
    "run_control": {
     "marked": true
    }
   },
   "outputs": [],
   "source": [
    "# tapology_fighters = json.load(open('fighters_25-05-19.txt','r'))\n",
    "# ufc_stats_fighters = json.load(open('all_ufc_stats_info_May_22','r'))\n",
    "# sherdog_fighters = json.load(open('fighters_sherdog_May_22','r'))\n",
    "# site_rankings = json.load(open('ranking_dict','r'))"
   ]
  },
  {
   "cell_type": "code",
   "execution_count": 3,
   "metadata": {
    "ExecuteTime": {
     "end_time": "2019-06-03T11:28:11.793669Z",
     "start_time": "2019-06-03T11:28:09.861289Z"
    }
   },
   "outputs": [],
   "source": [
    "tapology_fighters = json.load(open('tapology_fighters_June_3.txt','r'))\n",
    "ufc_stats_fighters = json.load(open('all_ufc_stats_info_June_3','r'))\n",
    "sherdog_fighters = json.load(open('fighters_sherdog_June_3','r'))"
   ]
  },
  {
   "cell_type": "code",
   "execution_count": 4,
   "metadata": {
    "ExecuteTime": {
     "end_time": "2019-06-03T11:28:11.822662Z",
     "start_time": "2019-06-03T11:28:11.795669Z"
    }
   },
   "outputs": [],
   "source": [
    "site_rankings = json.load(open('ranking_dict','r'))"
   ]
  },
  {
   "cell_type": "code",
   "execution_count": 5,
   "metadata": {
    "ExecuteTime": {
     "end_time": "2019-06-03T11:28:11.949507Z",
     "start_time": "2019-06-03T11:28:11.941522Z"
    }
   },
   "outputs": [
    {
     "data": {
      "text/plain": [
       "(1934, 1934, 1934)"
      ]
     },
     "execution_count": 5,
     "metadata": {},
     "output_type": "execute_result"
    }
   ],
   "source": [
    "len(tapology_fighters),len(ufc_stats_fighters),len(sherdog_fighters)"
   ]
  },
  {
   "cell_type": "code",
   "execution_count": 6,
   "metadata": {
    "ExecuteTime": {
     "end_time": "2019-06-03T11:28:19.419467Z",
     "start_time": "2019-06-03T11:28:19.406459Z"
    },
    "code_folding": [
     0
    ],
    "run_control": {
     "marked": true
    }
   },
   "outputs": [],
   "source": [
    "tapology_to_ufcstats = {'Alberto Cerra Leon':'Alberta Cerra Leon',\n",
    " 'Aleksandra Albu':'Alexandra Albu',\n",
    " 'Alex Ricci':'Alessandro Ricci',\n",
    " 'Alexey Kunchenko':'Aleksei Kunchenko',\n",
    " 'Alexey Oleinik':'Aleksei Oleinik',\n",
    " 'Allen Berubie':'Allen Berube',\n",
    " 'Alp Ozkilic':'Alptekin Ozkilic',\n",
    " 'Alex da Silva':'Alex Da Silva',\n",
    " 'Alexander Torres':'Alex Torres',\n",
    " 'Anderson dos Santos':'Anderson Dos Santos',\n",
    " 'Andrey Semenov':'Andrei Semenov',\n",
    " 'Antonio dos Santos Jr.':'Antonio Dos Santos',\n",
    " 'Anying Wang':'An Ying Wang',\n",
    " 'Bharat Khandare':'Bharat Kandare',\n",
    " 'Brad Scott':'Bradley Scott',\n",
    " 'Bruno Mesquita':'Bruno Korea',\n",
    " 'C.B. Dollaway':'CB Dollaway',\n",
    " 'Carls John de Tomas':'Carls John De Tomas',\n",
    " 'Chan Mi Jeon':'Chanmi Jeon',\n",
    " 'Chris De La Rocha':'Chris de la Rocha',\n",
    " 'Cristophe Leninger':'Christophe Leninger',\n",
    " 'Cristiane Justino':'Cris Cyborg',\n",
    " 'Dan Spohn':'Daniel Spohn',\n",
    " 'Daniel Barrera':'Dan Barrera',\n",
    " 'Daniel Hooker':'Dan Hooker',\n",
    " 'Dave Kaplan':'David Kaplan',\n",
    " 'Des Green':'Desmond Green',\n",
    " 'Dmitrii Smolyakov':'Dmitrii Smoliakov',\n",
    " 'Dmitriy Sosnovskiy':'Dmitry Sosnovskiy',\n",
    " 'Dmitriy Stepanov':'Dmitri Stepanov',\n",
    " 'Doo Ho Choi':'Dooho Choi',\n",
    " 'Douglas Evans':'Doug Evans',\n",
    " 'Edwin Dewees':'Edwin DeWees',\n",
    " 'Eldo Dias Xavier':'Eldo Xavier Dias',\n",
    " 'Elizeu Zaleski':'Elizeu Zaleski dos Santos',\n",
    " 'Emil Weber Meek':'Emil Meek',\n",
    " 'Emily  Kagan':'Emily Peters Kagan',\n",
    " 'Felix Mitchell':'Felix Lee Mitchell',\n",
    " \"Francis N'Gannou\":'Francis Ngannou',\n",
    " 'Francisco Rivera Jr.':'Francisco Rivera',\n",
    " 'Georges St. Pierre':'Georges St-Pierre',\n",
    " 'Heather Clark':'Heather Jo Clark',\n",
    " 'Guilherme Bomba':'Guilherme Vasconcelos',\n",
    " 'Jim Wallhead':'Jimmy Wallhead',\n",
    " 'Humberto  Brown Morrison':'Humberto Brown',\n",
    " 'Joao Marcos Pierini':'Joao Pierini',\n",
    " 'Joey Merritt':'Joe Merritt',\n",
    " 'John Campatella':'John Campetella',\n",
    " 'John Macapa':'John Teixeira',\n",
    " 'John Olav Einemo':'Jon Olav Einemo',\n",
    " 'Jose Maria Tome':'Jose Maria',\n",
    " 'Josh Burkman':'Joshua Burkman',\n",
    " 'Josh Sampo':'Joshua Sampo',\n",
    " 'Jose Alberto Quinones':'Jose Quinonez',\n",
    " 'Josh Schockman':'Josh Shockman',\n",
    " 'Juan Manuel Puig':'Juan Puig',\n",
    " 'Junior dos Santos':'Junior Dos Santos',\n",
    " 'Khalil Rountree':'Khalil Rountree Jr.',\n",
    " 'Kris Rotharmel':'Kristian Rothaermel',\n",
    " 'LaVerne Clark':'Laverne Clark',\n",
    " 'Lance Gibson Sr.':'Lance Gibson',\n",
    " 'Livia Renata Souza':'Livinha Souza',\n",
    " 'Luiz Dutra Jr.':'Luiz Dutra',\n",
    " 'Maia Kahaunaele-Stevenson':'Maia Stevenson',\n",
    " 'Manny Gamburyan':'Manvel Gamburyan',\n",
    " 'Marcio Alexandre Jr.':'Marcio Alexandre Junior',\n",
    " 'Kimbo Slice':'Kevin Ferguson',\n",
    " 'Marco Antonio Beltran':'Marco Beltran',\n",
    " 'Matt Riddle':'Matthew Riddle',\n",
    " 'Mike Patt':'Michael Patt',\n",
    " 'Mike Trizano':'Michael Trizano',\n",
    " 'Mike Graves':'Michael Graves',\n",
    " 'Mike De La Torre':'Mike de la Torre',\n",
    " 'Mirko Filipovic':'Mirko Cro Cop',\n",
    " 'Antonio Rodrigo Nogueira':'Minotauro Nogueira',\n",
    " 'Mostapha Al Turk':'Mostapha Al-Turk',\n",
    " 'Nah-shon Burrell':'Nah-Shon Burrell',\n",
    " 'Nick Negumereanu':'Nicolae Negumereanu',\n",
    " 'Orlando Weit':'Orlando Wiet',\n",
    " 'Ovince St. Preux':'Ovince Saint Preux',\n",
    " 'Pat Walsh':'Patrick Walsh',\n",
    " 'Phil De Fries':'Philip De Fries',\n",
    " 'Quinton Jackson':'Rampage Jackson',\n",
    " 'Rafael dos Anjos':'Rafael Dos Anjos',\n",
    " 'Rich Crunkilton':'Richard Crunkilton',\n",
    " 'Rafael Cavalcante':'Rafael Feijao',\n",
    " 'Robbie Peralta':'Robert Peralta',\n",
    " 'Antonio Rogerio Nogueira':'Rogerio Nogueira',\n",
    " 'Ron Van Clief':'Ron van Clief',\n",
    " 'Rodolfo Rubio Perez':'Rodolfo Rubio',\n",
    " 'Sam Morgan':'Sammy Morgan',\n",
    " 'Ronaldo Souza':'Jacare Souza',\n",
    " 'Sergey Pavlovich':'Sergei Pavlovich',\n",
    " 'Sergey Spivak':'Serghei Spivac',\n",
    " 'Seung Woo Choi':'Seungwoo Choi',\n",
    " 'Shane Del Rosario':'Shane del Rosario',\n",
    " 'Steven Kennedy':'Steve Kennedy',\n",
    " 'Steven Lynch':'Stevie Lynch',\n",
    " 'T.J. Dillashaw':'TJ Dillashaw',\n",
    " \"T.J. O'Brien\":\"TJ O'Brien\",\n",
    " 'Thomas Speer':'Tommy Speer',\n",
    " 'Timothy Johnson':'Tim Johnson',\n",
    " 'Tsuyoshi Kosaka':'Tsuyoshi Kohsaka',\n",
    " 'William Macario':'William Patolino',\n",
    " 'Xiaonan Yan':'Yan Xiaonan',\n",
    " 'Yadong Song':'Song Yadong',\n",
    " 'Yanan Wu':'Wu Yanan',\n",
    " 'Yaozong Hu':'Hu Yaozong',\n",
    " 'Seo Hee Ham':'Seohee Ham',\n",
    " 'Tony Christodoulou':'Anthony Christodoulou',\n",
    " 'Douglas Andrade':'Douglas Silva de Andrade',\n",
    " 'Luis Henrique da Silva':'Henrique da Silva',\n",
    " 'Jian Ping Yang':'Jianping Yang',\n",
    " 'Edimilson Souza':'Kevin Souza',\n",
    " 'Guan Wang':'Wang Guan',\n",
    " 'Lipeng Zhang':'Zhang Lipeng',\n",
    " 'Azunna Anyanwu':'Zu Anyanwu',\n",
    " 'Zhikui Yao':'Yao Zhikui',\n",
    " 'War Machine':'Jon Koppenhaver',\n",
    " 'Kenan Song':'Song Kenan',\n",
    " 'Ronald Stallings':'Ron Stallings',\n",
    " 'Roli Delgado':'Rolando Delgado',\n",
    " 'Robert Whiteford':'Rob Whiteford',\n",
    " 'Guangyou Ning':'Ning Guangyou',\n",
    " 'Mike Van Arsdale':'Mike van Arsdale',\n",
    " 'Ramiro Hernandez':'Junior Hernandez',\n",
    " 'Leonardo Guimaraes':'Leonardo Augusto Leleco',\n",
    " 'Jingliang Li':'Li Jingliang',\n",
    " 'Pingyuan Liu':'Liu Pingyuan',\n",
    " 'Tuerxun Jumabieke':'Jumabieke Tuerxun',\n",
    " 'Kazuo Takahashi':'Yoshiki Takahashi'}\n",
    "ufcstats_to_tapology = {v: k for k, v in tapology_to_ufcstats.items()}"
   ]
  },
  {
   "cell_type": "code",
   "execution_count": 7,
   "metadata": {
    "ExecuteTime": {
     "end_time": "2019-06-03T11:28:19.790472Z",
     "start_time": "2019-06-03T11:28:19.774477Z"
    },
    "code_folding": [
     0
    ],
    "run_control": {
     "marked": false
    }
   },
   "outputs": [],
   "source": [
    "sherdog_to_ufcstats = {'Alan Patrick Silva Alves':'Alan Patrick',\n",
    " 'Alberto Cerra Leon':'Alberta Cerra Leon',\n",
    " 'Alexey Oleynik':'Aleksei Oleinik',\n",
    " 'Alex da Silva Coelho':'Alex Da Silva',\n",
    " 'Amanda Bobby Cooper':'Amanda Cooper',\n",
    " 'Aleksandra Albu':'Alexandra Albu',\n",
    " 'Anderson dos Santos':'Anderson Dos Santos',\n",
    " 'Alexey Kunchenko':'Aleksei Kunchenko',\n",
    " 'Antonio Carlos Jr.':'Antonio Carlos Junior',\n",
    " 'Antonio dos Santos Jr.':'Antonio Dos Santos',\n",
    " 'Anying Wang':'An Ying Wang',\n",
    " 'B.J. Penn':'BJ Penn',\n",
    " 'Arjan Singh Bhullar':'Arjan Bhullar',\n",
    " 'Anistavio Medeiros de Figueiredo':'Anistavio Medeiros',\n",
    " 'Alberto Emiliano Pereira':'Alberto Uda',\n",
    " 'Ben Alloway':'Benny Alloway',\n",
    " 'Bharat Khandare':'Bharat Kandare',\n",
    " 'C.B. Dollaway':'CB Dollaway',\n",
    " 'Bruno Rodrigues Mesquita':'Bruno Korea',\n",
    " 'C.J. Keith':'CJ Keith',\n",
    " 'Carlo Pedersoli Jr.':'Carlo Pedersoli',\n",
    " 'Carls John de Tomas':'Carls John De Tomas',\n",
    " 'Cesar Marcussi':'Cesar Marscucci',\n",
    " 'Claudio Henrique da Silva':'Claudio Silva',\n",
    " 'Dan Spohn':'Daniel Spohn',\n",
    " 'Daniel Barrera':'Dan Barrera',\n",
    " 'Daniel Downes':'Danny Downes',\n",
    " 'Daniel Stittgen':'Dan Stittgen',\n",
    " 'Dave Roberts':'David Roberts',\n",
    " 'Darrell Gholar':'Darrel Gholar',\n",
    " 'Carlos Diego Ferreira':'Diego Ferreira',\n",
    " 'Dieuseul Berto':'Dieusel Berto',\n",
    " 'Dmitriy Sosnovskiy':'Dmitry Sosnovskiy',\n",
    " 'Dmitry Smoliakov':'Dmitrii Smoliakov',\n",
    " 'Doo Ho Choi':'Dooho Choi',\n",
    " 'Douglas Evans':'Doug Evans',\n",
    " 'Duda Santanna':'Duda Santana',\n",
    " 'Edwin Dewees':'Edwin DeWees',\n",
    " 'Emily Kagan':'Emily Peters Kagan',\n",
    " 'Eldo Dias Xavier':'Eldo Xavier Dias',\n",
    " 'Felipe Dias Colares':'Felipe Colares',\n",
    " 'Georges St. Pierre':'Georges St-Pierre',\n",
    " 'Felix Mitchell':'Felix Lee Mitchell',\n",
    " 'Enrique Briones':'Henry Briones',\n",
    " 'Godofredo Castro':'Godofredo Pepey',\n",
    " 'Geraldo de Freitas Jr.':'Geraldo de Freitas',\n",
    " 'He-Man Ali Gipson':'He-Man Gipson',\n",
    " 'Henrique     da Silva':'Henrique da Silva',\n",
    " 'J.C. Cottrell':'JC Cottrell',\n",
    " 'J.J. Aldrich':'JJ Aldrich',\n",
    " 'Jack McLaughlin':'Jack McGlaughlin',\n",
    " 'Jim Crute':'Jimmy Crute',\n",
    " 'Jim Hettes':'Jimy Hettes',\n",
    " 'Jim Wallhead':'Jimmy Wallhead',\n",
    " 'Joao Marcos Pierini':'Joao Pierini',\n",
    " 'John Olav Einemo':'Jon Olav Einemo',\n",
    " 'Jose Alberto Quinonez':'Jose Quinonez',\n",
    " 'Jose Maria Tome':'Jose Maria',\n",
    " 'John Teixeira da Conceicao':'John Teixeira',\n",
    " 'Jon delos Reyes':'Jon Delos Reyes',\n",
    " 'Jorge Antonio Cezario de Oliveira':'Jorge de Oliveira',\n",
    " 'Josh Sampo':'Joshua Sampo',\n",
    " 'Josh Schockman':'Josh Shockman',\n",
    " 'Joseph Duffy':'Joe Duffy',\n",
    " 'Juan Francisco Espino Dieppa':'Juan Espino',\n",
    " 'Juan Manuel Puig':'Juan Puig',\n",
    " 'Junie Allen Browning':'Junie Browning',\n",
    " 'Junior dos Santos':'Junior Dos Santos',\n",
    " 'K.J. Noons':'KJ Noons',\n",
    " 'Khalil Rountree':'Khalil Rountree Jr.',\n",
    " 'LaVerne Clark':'Laverne Clark',\n",
    " 'Leonardo Mafra Texeira':'Leonardo Mafra',\n",
    " 'Luis Henrique Barbosa de Oliveira':'Luis Henrique',\n",
    " 'Luiz Jorge Dutra Jr.':'Luiz Dutra',\n",
    " 'Maia Kahaunaele-Stevenson':'Maia Stevenson',\n",
    " 'Manny Gamburyan':'Manvel Gamburyan',\n",
    " 'Marcio Alexandre Jr.':'Marcio Alexandre Junior',\n",
    " 'Marcos Vinicius Borges Pancini':'Marcos Vinicius',\n",
    " 'Matheus Nicolau Pereira':'Matheus Nicolau',\n",
    " 'Matt Riddle':'Matthew Riddle',\n",
    " 'Michael Guymon':'Mike Guymon',\n",
    " 'Mike Thomas Brown':'Mike Brown',\n",
    " 'Mike Van Arsdale':'Mike van Arsdale',\n",
    " 'Mirko Filipovic':'Mirko Cro Cop',\n",
    " 'Antonio Rogerio Nogueira':'Rogerio Nogueira',\n",
    " 'Antonio Rodrigo Nogueira':'Minotauro Nogueira',\n",
    " 'Nicholas Musoke':'Nico Musoke',\n",
    " 'Ovince St. Preux':'Ovince Saint Preux',\n",
    " 'Paulo Henrique Costa':'Paulo Costa',\n",
    " 'Rafael dos Anjos':'Rafael Dos Anjos',\n",
    " 'Robert Whiteford':'Rob Whiteford',\n",
    " 'Rich Crunkilton':'Richard Crunkilton',\n",
    " 'Robert Emerson':'Rob Emerson',\n",
    " 'Renato Carneiro':'Renato Moicano',\n",
    " 'Robbie Peralta':'Robert Peralta',\n",
    " 'Ronaldo Souza':'Jacare Souza',\n",
    " 'Rodrigo Goiana de Lima':'Rodrigo de Lima',\n",
    " 'Roli Delgado':'Rolando Delgado',\n",
    " 'Rony Mariano Bezerra':'Rony Jason',\n",
    " 'Sako Chivitchyan':'Sako Chivitchian',\n",
    " 'Sam Morgan':'Sammy Morgan',\n",
    " 'Seo Hee Ham':'Seohee Ham',\n",
    " 'Sergey Spivak':'Serghei Spivac',\n",
    " 'Steven Lynch':'Stevie Lynch',\n",
    " 'Steven Ray':'Stevie Ray',\n",
    " 'Sung Woo Choi':'Seungwoo Choi',\n",
    " 'T.J. Dillashaw':'TJ Dillashaw',\n",
    " 'T.J. Grant':'TJ Grant',\n",
    " \"T.J. O'Brien\":\"TJ O'Brien\",\n",
    " 'T.J. Waldburger':'TJ Waldburger',\n",
    " 'Thiago de Oliveira Perpetuo':'Thiago Perpetuo',\n",
    " 'Tiago dos Santos e Silva':'Tiago Trator',\n",
    " 'Timothy Johnson':'Tim Johnson',\n",
    " 'Tom Speer':'Tommy Speer',\n",
    " 'Tsuyoshi Kosaka':'Tsuyoshi Kohsaka',\n",
    " 'Wendell de Oliveira Marques':'Wendell Oliveira',\n",
    " 'Xiaonan Yan':'Yan Xiaonan',\n",
    " 'Yadong Song':'Song Yadong',\n",
    " 'Yanan Wu':'Wu Yanan',\n",
    " 'Saparbek Safarov':'Saparbeg Safarov',\n",
    " 'Vinicius Kappke de Queiroz':'Vinicius Queiroz',\n",
    " 'Yuta Sasaki':'Ulka Sasaki',\n",
    " 'Quinton Jackson':'Rampage Jackson',\n",
    " 'Phil Brooks':'CM Punk',\n",
    " 'Cristiane Justino':'Cris Cyborg',\n",
    " 'Leonardo Guimaraes':'Leonardo Augusto Leleco',\n",
    " 'Jussier da Silva':'Jussier Formiga',\n",
    " 'Carlos Augusto Inocente Filho':'Guto Inocente',\n",
    " 'Guan Wang':'Wang Guan',\n",
    " 'Patrick Holohan':'Paddy Holohan',\n",
    " 'Kenan Song':'Song Kenan',\n",
    " 'Azunna Anyanwu':'Zu Anyanwu',\n",
    " 'Kazuo Takahashi':'Yoshiki Takahashi',\n",
    " 'William Macario':'William Patolino',\n",
    " 'Marco Polo Reyes':'Polo Reyes',\n",
    " 'Wagner Silva Gomes':'Wagner Silva',\n",
    " 'Edimilson Souza':'Kevin Souza',\n",
    " 'Pingyuan Liu':'Liu Pingyuan',\n",
    " 'Rafael Cavalcante':'Rafael Feijao',\n",
    " 'Ramiro Hernandez':'Junior Hernandez',\n",
    " 'Yaozong Hu':'Hu Yaozong',\n",
    " 'Heather Clark':'Heather Jo Clark',\n",
    " 'Jingliang Li':'Li Jingliang',\n",
    " 'Guangyou Ning':'Ning Guangyou',\n",
    " 'Zhikui Yao':'Yao Zhikui',\n",
    " 'Lipeng Zhang':'Zhang Lipeng',\n",
    " 'War Machine':'Jon Koppenhaver',\n",
    " 'Benjamin Duffy':'James Giboo'}\n",
    "\n",
    "ufcstats_to_sherdog = {v: k for k, v in sherdog_to_ufcstats.items()}"
   ]
  },
  {
   "cell_type": "code",
   "execution_count": 8,
   "metadata": {
    "ExecuteTime": {
     "end_time": "2019-06-03T11:28:20.099291Z",
     "start_time": "2019-06-03T11:28:20.093283Z"
    }
   },
   "outputs": [],
   "source": [
    "set_ufc = set([x['Name'] for x in ufc_stats_fighters])\n",
    "set_tap = set([x['Name'] for x in tapology_fighters])\n",
    "set_sher = set([x['Name'] for x in sherdog_fighters])"
   ]
  },
  {
   "cell_type": "code",
   "execution_count": 9,
   "metadata": {
    "ExecuteTime": {
     "end_time": "2019-06-03T11:28:20.491559Z",
     "start_time": "2019-06-03T11:28:20.487561Z"
    }
   },
   "outputs": [],
   "source": [
    "for name in (set_sher - set_ufc):\n",
    "    if name not in sherdog_to_ufcstats:\n",
    "        print('In sherdog there is no name from ufc_stats',name)"
   ]
  },
  {
   "cell_type": "code",
   "execution_count": 10,
   "metadata": {
    "ExecuteTime": {
     "end_time": "2019-06-03T11:28:21.042456Z",
     "start_time": "2019-06-03T11:28:21.038470Z"
    }
   },
   "outputs": [],
   "source": [
    "for name in (set_tap - set_ufc):\n",
    "    if name not in tapology_to_ufcstats:\n",
    "        print('In tapology there is no name from ufc_stats',name)"
   ]
  },
  {
   "cell_type": "code",
   "execution_count": null,
   "metadata": {},
   "outputs": [],
   "source": []
  },
  {
   "cell_type": "code",
   "execution_count": 11,
   "metadata": {
    "ExecuteTime": {
     "end_time": "2019-06-03T11:28:22.451190Z",
     "start_time": "2019-06-03T11:28:22.446192Z"
    },
    "code_folding": [],
    "run_control": {
     "marked": false
    }
   },
   "outputs": [],
   "source": [
    "rankings_to_ufc_stats = {'Jussier Da Silva':'Jussier Formiga',\n",
    " 'Constantinos Philippou':'Costas Philippou',\n",
    " 'Antonio Rogerio Nogueira':'Rogerio Nogueira',\n",
    " 'Antonio Rodrigo Nogueira':'Minotauro Nogueira',\n",
    " 'Ronaldo Souza':'Jacare Souza',\n",
    " 'T.J. Dillashaw':'TJ Dillashaw',\n",
    " 'Rafael Cavalcante':'Rafael Feijao',\n",
    " 'Bigfoot Silva':'Antonio Silva',\n",
    " 'Heather Clark':\"Heather Jo Clark\",\n",
    " 'Jessica Rose Clark':\"Jessica-Rose Clark\",\n",
    " 'Elizeu dos Santos':\"'Elizeu Zaleski dos Santos'\",\n",
    " 'Kai Kara France':\"Kai Kara-France\",\n",
    " 'Casey  Kenney':'Casey Kenney'}\n",
    "ufcstats_to_rankings = {v: k for k, v in rankings_to_ufc_stats.items()}"
   ]
  },
  {
   "cell_type": "code",
   "execution_count": 12,
   "metadata": {
    "ExecuteTime": {
     "end_time": "2019-06-03T11:28:23.649654Z",
     "start_time": "2019-06-03T11:28:22.839903Z"
    }
   },
   "outputs": [],
   "source": [
    "combined = []\n",
    "for ufc_stat_fgtr in ufc_stats_fighters:\n",
    "    name = ufc_stat_fgtr['Name']\n",
    "    batch  = [ufc_stat_fgtr]\n",
    "\n",
    "    if name in ufcstats_to_sherdog:\n",
    "        sherdog_name = ufcstats_to_sherdog[name]\n",
    "    else: sherdog_name = name\n",
    "    batch += [x for x in sherdog_fighters if x['Name'] == sherdog_name]\n",
    "\n",
    "    if name in ufcstats_to_tapology:\n",
    "        tapology_name = ufcstats_to_tapology[name]\n",
    "    else: tapology_name = name\n",
    "    batch += [x for x in tapology_fighters if x['Name'] == tapology_name]\n",
    "\n",
    "    if name in ufcstats_to_rankings:\n",
    "        rankings_name = ufcstats_to_rankings[name]\n",
    "    else: rankings_name = name\n",
    "    \n",
    "    if rankings_name in site_rankings:\n",
    "        batch.append(site_rankings[rankings_name])\n",
    "    else:\n",
    "        batch.append({})\n",
    "    \n",
    "    combined.append(batch)"
   ]
  },
  {
   "cell_type": "code",
   "execution_count": 13,
   "metadata": {
    "ExecuteTime": {
     "end_time": "2019-06-03T11:28:45.713879Z",
     "start_time": "2019-06-03T11:28:23.651644Z"
    }
   },
   "outputs": [],
   "source": [
    "json.dump(combined,open('combined_dictionary_June_3','w'))"
   ]
  }
 ],
 "metadata": {
  "kernelspec": {
   "display_name": "Python 3",
   "language": "python",
   "name": "python3"
  },
  "language_info": {
   "codemirror_mode": {
    "name": "ipython",
    "version": 3
   },
   "file_extension": ".py",
   "mimetype": "text/x-python",
   "name": "python",
   "nbconvert_exporter": "python",
   "pygments_lexer": "ipython3",
   "version": "3.7.1"
  }
 },
 "nbformat": 4,
 "nbformat_minor": 2
}
