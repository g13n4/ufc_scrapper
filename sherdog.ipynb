{
 "cells": [
  {
   "cell_type": "code",
   "execution_count": 1,
   "metadata": {
    "ExecuteTime": {
     "end_time": "2019-05-23T14:49:07.295518Z",
     "start_time": "2019-05-23T14:49:06.657531Z"
    }
   },
   "outputs": [],
   "source": [
    "import pandas as pd\n",
    "import numpy as np\n",
    "\n",
    "from bs4 import BeautifulSoup\n",
    "import bs4\n",
    "from urllib.request import urlopen as uReq\n",
    "from urllib.request import Request, urlopen\n",
    "from unidecode import unidecode\n",
    "\n",
    "import os\n",
    "import re\n",
    "import pickle\n",
    "import json"
   ]
  },
  {
   "cell_type": "code",
   "execution_count": 2,
   "metadata": {
    "ExecuteTime": {
     "end_time": "2019-05-23T14:49:07.367503Z",
     "start_time": "2019-05-23T14:49:07.297509Z"
    }
   },
   "outputs": [],
   "source": [
    "from selenium import webdriver\n",
    "from selenium.webdriver.common.keys import Keys\n",
    "from selenium.webdriver.firefox.firefox_binary import FirefoxBinary\n",
    "\n",
    "from selenium.webdriver.common.by import By\n",
    "from selenium.webdriver.support.ui import WebDriverWait\n",
    "from selenium.webdriver.support import expected_conditions as EC"
   ]
  },
  {
   "cell_type": "code",
   "execution_count": 3,
   "metadata": {
    "ExecuteTime": {
     "end_time": "2019-05-23T14:49:12.977521Z",
     "start_time": "2019-05-23T14:49:07.698603Z"
    }
   },
   "outputs": [],
   "source": [
    "binary = FirefoxBinary(r'C:\\Program Files\\Mozilla Firefox\\firefox.exe')\n",
    "driver = webdriver.Firefox(firefox_binary=binary)"
   ]
  },
  {
   "cell_type": "code",
   "execution_count": 4,
   "metadata": {
    "ExecuteTime": {
     "end_time": "2019-05-23T14:49:12.985506Z",
     "start_time": "2019-05-23T14:49:12.979507Z"
    },
    "run_control": {
     "marked": false
    }
   },
   "outputs": [],
   "source": [
    "def get_all_ufc_cards():\n",
    "    cards_links = []\n",
    "    for x in range(5,0,-1):\n",
    "        driver.get(f\"https://www.sherdog.com/organizations/Ultimate-Fighting-Championship-UFC-2/recent-events/{x}\")\n",
    "        site =  BeautifulSoup(driver.page_source,'html.parser')\n",
    "        for line in site.find('div',{'id':'recent_tab'}).find('tbody').find_all('tr')[::-1]:\n",
    "            if line.find('a'):\n",
    "                cards_links.append(\"https://www.sherdog.com\"+line.a['href'])\n",
    "    return cards_links"
   ]
  },
  {
   "cell_type": "code",
   "execution_count": 5,
   "metadata": {
    "ExecuteTime": {
     "end_time": "2019-05-23T14:49:33.419258Z",
     "start_time": "2019-05-23T14:49:12.986505Z"
    }
   },
   "outputs": [],
   "source": [
    "cards = get_all_ufc_cards()"
   ]
  },
  {
   "cell_type": "code",
   "execution_count": 6,
   "metadata": {
    "ExecuteTime": {
     "end_time": "2019-05-23T14:49:33.424257Z",
     "start_time": "2019-05-23T14:49:33.421244Z"
    }
   },
   "outputs": [],
   "source": [
    "fighters_links = {}"
   ]
  },
  {
   "cell_type": "code",
   "execution_count": 7,
   "metadata": {
    "ExecuteTime": {
     "end_time": "2019-05-23T14:49:33.434240Z",
     "start_time": "2019-05-23T14:49:33.425243Z"
    }
   },
   "outputs": [],
   "source": [
    "def get_all_ufc_fighters(ufc_card_links):\n",
    "    for cnumber,card in enumerate(ufc_card_links):\n",
    "        print(cnumber,end=' ')\n",
    "        driver.implicitly_wait(1)\n",
    "        driver.get(card)\n",
    "        site = BeautifulSoup(driver.page_source,'html.parser')\n",
    "        if not site.find('div',class_='module fight_card'): continue\n",
    "        for main_card in site.find('div',class_='module fight_card').find_all('a'):\n",
    "            if main_card.find('span'):\n",
    "                if main_card.find('span').text not in fighters_links:\n",
    "                    fighters_links[main_card.find('span').text] = main_card['href']\n",
    "        \n",
    "        for fight in site.find('div',class_='content table').find_all('tr',{'itemprop':'subEvent'}):\n",
    "            for fighter in fight.find_all('td',{'itemprop':'performer'}):\n",
    "                if fighter.a.text not in fighters_links:\n",
    "                    fighters_links[fighter.a.text] = fighter.a['href']"
   ]
  },
  {
   "cell_type": "code",
   "execution_count": 8,
   "metadata": {
    "ExecuteTime": {
     "end_time": "2019-05-23T15:17:29.804859Z",
     "start_time": "2019-05-23T14:49:42.331985Z"
    },
    "scrolled": true
   },
   "outputs": [
    {
     "name": "stdout",
     "output_type": "stream",
     "text": [
      "0 1 2 3 4 5 6 7 8 9 10 11 12 13 14 15 16 17 18 19 20 21 22 23 24 25 26 27 28 29 30 31 32 33 34 35 36 37 38 39 40 41 42 43 44 45 46 47 48 49 50 51 52 53 54 55 56 57 58 59 60 61 62 63 64 65 66 67 68 69 70 71 72 73 74 75 76 77 78 79 80 81 82 83 84 85 86 87 88 89 90 91 92 93 94 95 96 97 98 99 100 101 102 103 104 105 106 107 108 109 110 111 112 113 114 115 116 117 118 119 120 121 122 123 124 125 126 127 128 129 130 131 132 133 134 135 136 137 138 139 140 141 142 143 144 145 146 147 148 149 150 151 152 153 154 155 156 157 158 159 160 161 162 163 164 165 166 167 168 169 170 171 172 173 174 175 176 177 178 179 180 181 182 183 184 185 186 187 188 189 190 191 192 193 194 195 196 197 198 199 200 201 202 203 204 205 206 207 208 209 210 211 212 213 214 215 216 217 218 219 220 221 222 223 224 225 226 227 228 229 230 231 232 233 234 235 236 237 238 239 240 241 242 243 244 245 246 247 248 249 250 251 252 253 254 255 256 257 258 259 260 261 262 263 264 265 266 267 268 269 270 271 272 273 274 275 276 277 278 279 280 281 282 283 284 285 286 287 288 289 290 291 292 293 294 295 296 297 298 299 300 301 302 303 304 305 306 307 308 309 310 311 312 313 314 315 316 317 318 319 320 321 322 323 324 325 326 327 328 329 330 331 332 333 334 335 336 337 338 339 340 341 342 343 344 345 346 347 348 349 350 351 352 353 354 355 356 357 358 359 360 361 362 363 364 365 366 367 368 369 370 371 372 373 374 375 376 377 378 379 380 381 382 383 384 385 386 387 388 389 390 391 392 393 394 395 396 397 398 399 400 401 402 403 404 405 406 407 408 409 410 411 412 413 414 415 416 417 418 419 420 421 422 423 424 425 426 427 428 429 430 431 432 433 434 435 436 437 438 439 440 441 442 443 444 445 446 447 448 449 450 451 452 453 454 455 456 457 458 459 460 461 462 463 464 465 466 467 468 469 470 471 472 473 474 475 476 477 478 479 480 "
     ]
    }
   ],
   "source": [
    "get_all_ufc_fighters(cards)"
   ]
  },
  {
   "cell_type": "code",
   "execution_count": 9,
   "metadata": {
    "ExecuteTime": {
     "end_time": "2019-05-23T15:17:35.655621Z",
     "start_time": "2019-05-23T15:17:35.650620Z"
    }
   },
   "outputs": [],
   "source": [
    "def sherdog_date_decoder(string):\n",
    "    months = {'Jan': '01','Feb': '02','Mar': '03',\n",
    "      'Apr': '04','May': '05','Jun': '06',\n",
    "      'Jul': '07','Aug': '08','Sep': '09',\n",
    "      'Oct': '10','Nov': '11','Dec': '12'}\n",
    "    new_date = string.split('/')\n",
    "    return new_date[2].strip()+'-'+months[new_date[0].strip()]+'-'+new_date[1].strip()"
   ]
  },
  {
   "cell_type": "code",
   "execution_count": 10,
   "metadata": {
    "ExecuteTime": {
     "end_time": "2019-05-23T15:17:36.213846Z",
     "start_time": "2019-05-23T15:17:36.194849Z"
    }
   },
   "outputs": [],
   "source": [
    "fighters_links = json.load(open('sherdog_fighters_link.txt','r'))\n",
    "fighters_links = [\"https://www.sherdog.com\"+fighters_links[x] for x in fighters_links]"
   ]
  },
  {
   "cell_type": "code",
   "execution_count": 11,
   "metadata": {
    "ExecuteTime": {
     "end_time": "2019-05-23T15:17:37.776900Z",
     "start_time": "2019-05-23T15:17:37.746923Z"
    },
    "code_folding": [],
    "run_control": {
     "marked": true
    }
   },
   "outputs": [],
   "source": [
    "def get_fighters_info(url):\n",
    "    fighter = {'Name':'',\n",
    "               'Nickname':'',\n",
    "               'Birth date':'',\n",
    "               'Height':'',\n",
    "               'Record':{'wins':'','loses':'','draws':'','nc':''},\n",
    "               'Affiliation':'',\n",
    "               'Nationality':'',\n",
    "               'Location region':'',\n",
    "               'Location city':'',\n",
    "               'Weight':'',\n",
    "               'wins summary': {'KO/TKO':'','SUBMISSIONS':'','DECISIONS':'','OTHERS':''},\n",
    "               'loses summary': {'KO/TKO':'','SUBMISSIONS':'','DECISIONS':'','OTHERS':''},\n",
    "               'bouts':[]}\n",
    "    \n",
    "    driver.get(url)\n",
    "    site = BeautifulSoup(driver.page_source,'html.parser')\n",
    "    \n",
    "    #fighters summary\n",
    "    bio = site.find('div',class_='module bio_fighter vcard')\n",
    "    \n",
    "    \n",
    "    if not site.find('div',class_='module bio_fighter tagged'):\n",
    "        if len(bio.find('h1').find_all('span')) > 1:\n",
    "            fighter['Name'],fighter['Nickname'] = [x.text for x in bio.find('h1').find_all('span')]\n",
    "        else:\n",
    "            fighter['Name'] = str(bio.find('h1').find('span').text)\n",
    "    else:\n",
    "        fighter['Name'] = str(site.find('span',class_='fn').text)\n",
    "        fighter['Nickname'] = str(site.find('span',class_='nickname').text if site.find('span',class_='nickname') else '')\n",
    "        \n",
    "    \n",
    "    fighter['Birth date'] = str(bio.find('span',{'itemprop':'birthDate'}).text if bio.find('span',{'itemprop':'birthDate'}) else '')\n",
    "    if re.search('(\\d+\\.\\d+) cm',bio.find('div',class_='size_info').find('span',class_='item height').text):\n",
    "        fighter['Height'] = str(re.search('(\\d+\\.\\d+) cm',bio.find('div',class_='size_info').find('span',class_='item height').text)[1])\n",
    "    if re.search('(\\d+\\.\\d+) kg',bio.find('div',class_='size_info').find('span',class_='item weight').text):\n",
    "        fighter['Weight'] = str(re.search('(\\d+\\.\\d+) kg',bio.find('div',class_='size_info').find('span',class_='item weight').text)[1])\n",
    "    fighter['Record']['wins'] = str(bio.find('span',class_='counter').text)\n",
    "    fighter['Record']['loses'] = str(bio.find('div',class_='bio_graph loser').find('span',class_='counter').text)\n",
    "    \n",
    "    if bio.find('div',class_='right_side'):\n",
    "        for outs in bio.find('div',class_='right_side').find_all('div',class_='bio_graph'):\n",
    "            if outs.find('span','result').text == 'Draws': fighter['Record']['draws'] = str(outs.find('span','counter').text)\n",
    "            if outs.find('span','result').text == 'N/C': fighter['Record']['nc'] = str(outs.find('span','counter').text)\n",
    "    \n",
    "    bouts_summary = [re.match('\\d+',x.text)[0] for x in bio.find_all('span',class_='graph_tag')]\n",
    "    if len(bouts_summary) == 8:\n",
    "        fighter['wins summary']['KO/TKO'], fighter['wins summary']['SUBMISSIONS'], fighter['wins summary']['DECISIONS'], fighter['wins summary']['OTHERS'] = bouts_summary[0:4]\n",
    "        fighter['loses summary']['KO/TKO'], fighter['loses summary']['SUBMISSIONS'], fighter['loses summary']['DECISIONS'], fighter['loses summary']['OTHERS'] = bouts_summary[4:]\n",
    "    else:\n",
    "        fighter['wins summary']['KO/TKO'], fighter['wins summary']['SUBMISSIONS'], fighter['wins summary']['DECISIONS'] = bouts_summary[0:3]\n",
    "        fighter['loses summary']['KO/TKO'], fighter['loses summary']['SUBMISSIONS'], fighter['loses summary']['DECISIONS'] = bouts_summary[3:]\n",
    "        \n",
    "    fighter['Nationality'] = str(bio.find('strong',{'itemprop':'nationality'}).text if bio.find('strong',{'itemprop':'nationality'}) else '')\n",
    "    fighter['Affiliation'] =str(bio.find('a',class_='association').text if bio.find('a',class_='association') else '')\n",
    "    \n",
    "    if bio.find('span',class_='locality'):\n",
    "        if ',' in bio.find('span',class_='locality').text:\n",
    "            fighter['Location city'], fighter['Location region'] = bio.find('span',class_='locality').text.split(',')\n",
    "        else:\n",
    "            fighter['Location city'] = str(bio.find('span',class_='locality').text)\n",
    "    \n",
    "    #fights description\n",
    "    for history in site.find_all('div',class_='module fight_history'):\n",
    "        if (re.search('Pro Exhibition',history.find('h2').text,re.IGNORECASE) or \n",
    "        re.search('Amateur',history.find('h2').text,re.IGNORECASE) or\n",
    "        re.search('Upcoming',history.find('h2').text,re.IGNORECASE)): continue\n",
    "\n",
    "        for bout in history.find_all('tr')[1:][::-1]:\n",
    "            bout_info = {'result':'','opponent':'','event':'','date':'','method':'','referee':'','round':'','time':'','dc reason':\"\"}\n",
    "            fight_info = bout.find_all('td')\n",
    "            bout_info['result'] = str(fight_info[0].text)\n",
    "            bout_info['opponent'] = str(fight_info[1].text)\n",
    "            bout_info['event'] = str(fight_info[2].a.text)\n",
    "            bout_info['date'] = str(sherdog_date_decoder(fight_info[2].find('span','sub_line').text) if fight_info[2].find('span','sub_line') else '')\n",
    "            bout_info['method'] = str(fight_info[3].contents[0])\n",
    "            if len(fight_info[3].contents) == 2:\n",
    "                pass\n",
    "            elif len(fight_info[3].contents[2]) == 1: bout_info['referee'] = str(fight_info[3].contents[2].text if fight_info[3].contents[2] else '')\n",
    "            else:\n",
    "                bout_info['referee'] = str(fight_info[3].contents[4].text if str(fight_info[3].contents[4]) != 'N/A' else '')\n",
    "                bout_info['dc reason'] = str(unidecode(fight_info[3].contents[2]))\n",
    "\n",
    "            bout_info['round'] = str(fight_info[4].text)\n",
    "            bout_info['time'] = str(fight_info[5].text)\n",
    "            fighter['bouts'].append(bout_info)\n",
    "        \n",
    "    return fighter"
   ]
  },
  {
   "cell_type": "code",
   "execution_count": 12,
   "metadata": {
    "ExecuteTime": {
     "end_time": "2019-05-23T15:17:39.109813Z",
     "start_time": "2019-05-23T15:17:39.106815Z"
    }
   },
   "outputs": [],
   "source": [
    "fighters = []"
   ]
  },
  {
   "cell_type": "code",
   "execution_count": 13,
   "metadata": {
    "ExecuteTime": {
     "end_time": "2019-05-23T15:17:39.756901Z",
     "start_time": "2019-05-23T15:17:39.753901Z"
    }
   },
   "outputs": [],
   "source": [
    "def get_information_about_all_fighters(sherdog_links: list):\n",
    "    for offset,link in enumerate(sherdog_links):\n",
    "        fighters.append(get_fighters_info(link))\n",
    "        print(offset,'\\t',link,end=' ')"
   ]
  },
  {
   "cell_type": "code",
   "execution_count": 14,
   "metadata": {
    "ExecuteTime": {
     "end_time": "2019-05-23T17:04:44.776516Z",
     "start_time": "2019-05-23T15:17:41.770895Z"
    },
    "scrolled": true
   },
   "outputs": [
    {
     "name": "stdout",
     "output_type": "stream",
     "text": [
      "0 \t https://www.sherdog.com/fighter/Royce-Gracie-19 1 \t https://www.sherdog.com/fighter/Gerard-Gordeau-15 2 \t https://www.sherdog.com/fighter/Jason-DeLucia-22 3 \t https://www.sherdog.com/fighter/Trent-Jenkins-23 4 \t https://www.sherdog.com/fighter/Ken-Shamrock-4 5 \t https://www.sherdog.com/fighter/Kevin-Rosier-17 6 \t https://www.sherdog.com/fighter/Patrick-Smith-21 7 \t https://www.sherdog.com/fighter/Art-Jimmerson-20 8 \t https://www.sherdog.com/fighter/Zane-Frazier-18 9 \t https://www.sherdog.com/fighter/Teila-Tuli-16 10 \t https://www.sherdog.com/fighter/Remco-Pardoel-33 11 \t https://www.sherdog.com/fighter/Johnny-Rhodes-27 12 \t https://www.sherdog.com/fighter/Orlando-Wiet-31 13 \t https://www.sherdog.com/fighter/Fred-Ettish-36 14 \t https://www.sherdog.com/fighter/Scott-Morris-24 15 \t https://www.sherdog.com/fighter/Minoki-Ichihara-35 16 \t https://www.sherdog.com/fighter/Scott-Baker-34 17 \t https://www.sherdog.com/fighter/Alberto-Cerra-Leon-37 18 \t https://www.sherdog.com/fighter/Robert-Lucarelli-32 19 \t https://www.sherdog.com/fighter/Frank-Hamaker-29 20 \t https://www.sherdog.com/fighter/Thaddeus-Luster-30 21 \t https://www.sherdog.com/fighter/David-Levicki-28 22 \t https://www.sherdog.com/fighter/Ray-Wizard-26 23 \t https://www.sherdog.com/fighter/Sean-Daugherty-25 24 \t https://www.sherdog.com/fighter/Steve-Jennum-44 25 \t https://www.sherdog.com/fighter/Harold-Howard-41 26 \t https://www.sherdog.com/fighter/Felix-Mitchell-45 27 \t https://www.sherdog.com/fighter/Kimo-Leopoldo-43 28 \t https://www.sherdog.com/fighter/Roland-Payne-42 29 \t https://www.sherdog.com/fighter/Christophe-Leninger-40 30 \t https://www.sherdog.com/fighter/Keith-Hackney-38 31 \t https://www.sherdog.com/fighter/Emmanuel-Yarborough-39 32 \t https://www.sherdog.com/fighter/Dan-Severn-52 33 \t https://www.sherdog.com/fighter/Guy-Mezger-14 34 \t https://www.sherdog.com/fighter/Jason-Fairn-48 35 \t https://www.sherdog.com/fighter/Marcus-Bossett-54 36 \t https://www.sherdog.com/fighter/Anthony-Macias-53 37 \t https://www.sherdog.com/fighter/Melton-Bowen-51 38 \t https://www.sherdog.com/fighter/Joe-Son-50 39 \t https://www.sherdog.com/fighter/Ron-van-Clief-49 40 \t https://www.sherdog.com/fighter/Eldo-Dias-Xavier-55 41 \t https://www.sherdog.com/fighter/Joe-Charles-46 42 \t https://www.sherdog.com/fighter/Dave-Beneteau-56 43 \t https://www.sherdog.com/fighter/Oleg-Taktarov-47 44 \t https://www.sherdog.com/fighter/Todd-Medina-61 45 \t https://www.sherdog.com/fighter/Ernie-Verdicia-63 46 \t https://www.sherdog.com/fighter/Larry-Cureton-62 47 \t https://www.sherdog.com/fighter/Jon-Hess-59 48 \t https://www.sherdog.com/fighter/Andy-Anderson-60 49 \t https://www.sherdog.com/fighter/John-Dowdy-58 50 \t https://www.sherdog.com/fighter/Asbel-Cancio-57 51 \t https://www.sherdog.com/fighter/David-Abbott-110 52 \t https://www.sherdog.com/fighter/Paul-Varelans-112 53 \t https://www.sherdog.com/fighter/Rudyard-Moncayo-114 54 \t https://www.sherdog.com/fighter/Cal-Worsham-113 55 \t https://www.sherdog.com/fighter/John-Matua-111 56 \t https://www.sherdog.com/fighter/HeMan-Ali-Gipson-109 57 \t https://www.sherdog.com/fighter/Joel-Sutton-107 58 \t https://www.sherdog.com/fighter/Jack-McLaughlin-885 59 \t https://www.sherdog.com/fighter/Marco-Ruas-120 60 \t https://www.sherdog.com/fighter/Mark-Hall-118 61 \t https://www.sherdog.com/fighter/Ryan-Parker-119 62 \t https://www.sherdog.com/fighter/Gerry-Harris-83 63 \t https://www.sherdog.com/fighter/Scott-Bessac-121 64 \t https://www.sherdog.com/fighter/David-Hood-1720 65 \t https://www.sherdog.com/fighter/Onassis-Parungao-116 66 \t https://www.sherdog.com/fighter/Francesco-Maturi-117 67 \t https://www.sherdog.com/fighter/Geza-Kalman-115 68 \t https://www.sherdog.com/fighter/Don-Frye-124 69 \t https://www.sherdog.com/fighter/Gary-Goodridge-129 70 \t https://www.sherdog.com/fighter/Jerry-Bohlander-127 71 \t https://www.sherdog.com/fighter/Sam-Adkins-122 72 \t https://www.sherdog.com/fighter/Paul-Herrera-130 73 \t https://www.sherdog.com/fighter/Scott-Ferrozzo-128 74 \t https://www.sherdog.com/fighter/Joe-Moreira-126 75 \t https://www.sherdog.com/fighter/Thomas-Ramirez-125 76 \t https://www.sherdog.com/fighter/Keith-Mielke-123 77 \t https://www.sherdog.com/fighter/Amaury-Bitetti-135 78 \t https://www.sherdog.com/fighter/Koji-Kitao-134 79 \t https://www.sherdog.com/fighter/Mark-Schultz-133 80 \t https://www.sherdog.com/fighter/Rafael-Carino-131 81 \t https://www.sherdog.com/fighter/Matt-Andersen-132 82 \t https://www.sherdog.com/fighter/Steve-Nelmark-147 83 \t https://www.sherdog.com/fighter/Tai-Bowden-6950 84 \t https://www.sherdog.com/fighter/Mark-Coleman-136 85 \t https://www.sherdog.com/fighter/Brian-Johnston-137 86 \t https://www.sherdog.com/fighter/John-Campetella-140 87 \t https://www.sherdog.com/fighter/Moti-Horenstein-139 88 \t https://www.sherdog.com/fighter/Scott-Fiedler-138 89 \t https://www.sherdog.com/fighter/Dieuseul-Berto-2007 90 \t https://www.sherdog.com/fighter/Fabio-Gurgel-146 91 \t https://www.sherdog.com/fighter/Reza-Nasri-145 92 \t https://www.sherdog.com/fighter/Julian-Sanchez-144 93 \t https://www.sherdog.com/fighter/Roberto-Traven-142 94 \t https://www.sherdog.com/fighter/Dave-Berry-143 95 \t https://www.sherdog.com/fighter/Sam-Fulton-141 96 \t https://www.sherdog.com/fighter/Jack-Nilson-161 97 \t https://www.sherdog.com/fighter/Vitor-Belfort-156 98 \t https://www.sherdog.com/fighter/Nick-Sanzo-148 99 \t https://www.sherdog.com/fighter/Tra-Telligman-157 100 \t https://www.sherdog.com/fighter/Jim-Mullen-155 101 \t https://www.sherdog.com/fighter/Kazuo-Takahashi-153 102 \t https://www.sherdog.com/fighter/Wallid-Ismail-154 103 \t https://www.sherdog.com/fighter/Rainy-Martinez-152 104 \t https://www.sherdog.com/fighter/Justin-Martin-150 105 \t https://www.sherdog.com/fighter/Eric-Martin-151 106 \t https://www.sherdog.com/fighter/Jackie-Lee-149 107 \t https://www.sherdog.com/fighter/Randy-Couture-166 108 \t https://www.sherdog.com/fighter/Steven-Graham-164 109 \t https://www.sherdog.com/fighter/Tito-Ortiz-158 110 \t https://www.sherdog.com/fighter/Tony-Halme-167 111 \t https://www.sherdog.com/fighter/Dmitri-Stepanov-165 112 \t https://www.sherdog.com/fighter/Enson-Inoue-12 113 \t https://www.sherdog.com/fighter/Royce-Alger-163 114 \t https://www.sherdog.com/fighter/Saeed-Hosseini-160 115 \t https://www.sherdog.com/fighter/Wes-Albritton-159 116 \t https://www.sherdog.com/fighter/Maurice-Smith-175 117 \t https://www.sherdog.com/fighter/Mark-Kerr-71 118 \t https://www.sherdog.com/fighter/Dan-Bobish-174 119 \t https://www.sherdog.com/fighter/Kevin-Jackson-172 120 \t https://www.sherdog.com/fighter/Tony-Fryklund-168 121 \t https://www.sherdog.com/fighter/Todd-Butler-173 122 \t https://www.sherdog.com/fighter/Yuri-Vaulin-171 123 \t https://www.sherdog.com/fighter/Alex-Hunter-170 124 \t https://www.sherdog.com/fighter/Donnie-Chappell-169 125 \t https://www.sherdog.com/fighter/Dwayne-Cason-177 126 \t https://www.sherdog.com/fighter/Carlos-Barreto-180 127 \t https://www.sherdog.com/fighter/Greg-Stott-179 128 \t https://www.sherdog.com/fighter/Houston-Dorr-178 129 \t https://www.sherdog.com/fighter/Harry-Moskowitz-176 130 \t https://www.sherdog.com/fighter/Kazushi-Sakuraba-84 131 \t https://www.sherdog.com/fighter/Marcus-Silveira-183 132 \t https://www.sherdog.com/fighter/Frank-Shamrock-284 133 \t https://www.sherdog.com/fighter/Yoji-Anjo-182 134 \t https://www.sherdog.com/fighter/Brad-Kohler-181 135 \t https://www.sherdog.com/fighter/Igor-Zinoviev-191 136 \t https://www.sherdog.com/fighter/Tsuyoshi-Kosaka-190 137 \t https://www.sherdog.com/fighter/Pat-Miletich-188 138 \t https://www.sherdog.com/fighter/Chris-Brennan-64 139 \t https://www.sherdog.com/fighter/Townsend-Saunders-189 140 \t https://www.sherdog.com/fighter/Mikey-Burnett-186 141 \t https://www.sherdog.com/fighter/Eugenio-Tadeu-187 142 \t https://www.sherdog.com/fighter/Courtney-Turner-285 143 \t https://www.sherdog.com/fighter/LaVerne-Clark-184 144 \t https://www.sherdog.com/fighter/Josh-Stuart-185 145 \t https://www.sherdog.com/fighter/Jeremy-Horn-202 146 \t https://www.sherdog.com/fighter/Pete-Williams-201 147 \t https://www.sherdog.com/fighter/Dan-Henderson-195 148 \t https://www.sherdog.com/fighter/Carlos-Newton-7 149 \t https://www.sherdog.com/fighter/Hugo-Duarte-200 150 \t https://www.sherdog.com/fighter/Mike-Van-Arsdale-198 "
     ]
    },
    {
     "name": "stdout",
     "output_type": "stream",
     "text": [
      "151 \t https://www.sherdog.com/fighter/Joe-Pardo-199 152 \t https://www.sherdog.com/fighter/Bob-Gilstrap-197 153 \t https://www.sherdog.com/fighter/Allan-Goes-196 154 \t https://www.sherdog.com/fighter/Andre-Roberts-194 155 \t https://www.sherdog.com/fighter/Chuck-Liddell-192 156 \t https://www.sherdog.com/fighter/Noe-Hernandez-193 157 \t https://www.sherdog.com/fighter/John-Lober-210 158 \t https://www.sherdog.com/fighter/Wanderlei-Silva-209 159 \t https://www.sherdog.com/fighter/Pedro-Rizzo-208 160 \t https://www.sherdog.com/fighter/Ebenezer-Fontes-Braga-207 161 \t https://www.sherdog.com/fighter/Tulio-Palhares-205 162 \t https://www.sherdog.com/fighter/Adriano-Santos-206 163 \t https://www.sherdog.com/fighter/Cesar-Marcussi-203 164 \t https://www.sherdog.com/fighter/Paulo-Santos-204 165 \t https://www.sherdog.com/fighter/Bas-Rutten-214 166 \t https://www.sherdog.com/fighter/Jorge-Patino-1015 167 \t https://www.sherdog.com/fighter/Evan-Tanner-212 168 \t https://www.sherdog.com/fighter/Darrell-Gholar-213 169 \t https://www.sherdog.com/fighter/Frank-Caracci-211 170 \t https://www.sherdog.com/fighter/Kevin-Randleman-162 171 \t https://www.sherdog.com/fighter/Valeri-Ignatov-216 172 \t https://www.sherdog.com/fighter/Jason-Godsey-215 173 \t https://www.sherdog.com/fighter/Sione-Latu-9977 174 \t https://www.sherdog.com/fighter/Joey-Roberts-1629 175 \t https://www.sherdog.com/fighter/Travis-Fulton-80 176 \t https://www.sherdog.com/fighter/Tony-Petarra-221 177 \t https://www.sherdog.com/fighter/Marcelo-Mello-219 178 \t https://www.sherdog.com/fighter/Dave-Roberts-220 179 \t https://www.sherdog.com/fighter/Fabiano-Iha-218 180 \t https://www.sherdog.com/fighter/Ron-Waterman-217 181 \t https://www.sherdog.com/fighter/Chris-Condo-287 182 \t https://www.sherdog.com/fighter/Andre-Pederneiras-227 183 \t https://www.sherdog.com/fighter/Daiju-Takase-226 184 \t https://www.sherdog.com/fighter/Paul-Jones-224 185 \t https://www.sherdog.com/fighter/Flavio-Luiz-Moura-225 186 \t https://www.sherdog.com/fighter/Tim-Lajcik-223 187 \t https://www.sherdog.com/fighter/Eugene-Jackson-222 188 \t https://www.sherdog.com/fighter/David-Dodd-81 189 \t https://www.sherdog.com/fighter/Steve-Judson-233 190 \t https://www.sherdog.com/fighter/Matt-Hughes-232 191 \t https://www.sherdog.com/fighter/John-Lewis-230 192 \t https://www.sherdog.com/fighter/Lowell-Anderson-231 193 \t https://www.sherdog.com/fighter/Jens-Pulver-228 194 \t https://www.sherdog.com/fighter/Alfonso-Alcarez-229 195 \t https://www.sherdog.com/fighter/Kenichi-Yamamoto-236 196 \t https://www.sherdog.com/fighter/Katsuhisa-Fujii-234 197 \t https://www.sherdog.com/fighter/Joe-Slick-238 198 \t https://www.sherdog.com/fighter/Keiichiro-Yamamiya-237 199 \t https://www.sherdog.com/fighter/Masutatsu-Yano-235 200 \t https://www.sherdog.com/fighter/Tedd-Williams-248 201 \t https://www.sherdog.com/fighter/Lance-Gibson-246 202 \t https://www.sherdog.com/fighter/Jermaine-Andre-247 203 \t https://www.sherdog.com/fighter/Dave-Menne-245 204 \t https://www.sherdog.com/fighter/Bob-Cook-244 205 \t https://www.sherdog.com/fighter/Tiki-Ghosn-88 206 \t https://www.sherdog.com/fighter/David-Velasquez-243 207 \t https://www.sherdog.com/fighter/Scott-Adams-241 208 \t https://www.sherdog.com/fighter/Ian-Freeman-242 209 \t https://www.sherdog.com/fighter/Shonie-Carter-239 210 \t https://www.sherdog.com/fighter/Brad-Gumm-240 211 \t https://www.sherdog.com/fighter/Murilo-Bustamante-253 212 \t https://www.sherdog.com/fighter/Sanae-Kikuta-252 213 \t https://www.sherdog.com/fighter/Satoshi-Honma-251 214 \t https://www.sherdog.com/fighter/Ikuhisa-Minowa-250 215 \t https://www.sherdog.com/fighter/Koji-Oishi-249 216 \t https://www.sherdog.com/fighter/Tyrone-Roberts-260 217 \t https://www.sherdog.com/fighter/John-Alessio-259 218 \t https://www.sherdog.com/fighter/Alex-Andrade-258 219 \t https://www.sherdog.com/fighter/Marcelo-Aguiar-257 220 \t https://www.sherdog.com/fighter/Joao-Roque-256 221 \t https://www.sherdog.com/fighter/Nate-Schroeder-255 222 \t https://www.sherdog.com/fighter/Adrian-Serrano-254 223 \t https://www.sherdog.com/fighter/Bobby-Hoffman-265 224 \t https://www.sherdog.com/fighter/Yuki-Kondo-263 225 \t https://www.sherdog.com/fighter/Alexandre-Dantas-264 226 \t https://www.sherdog.com/fighter/Jeff-Monson-262 227 \t https://www.sherdog.com/fighter/CJ-Fernandes-261 228 \t https://www.sherdog.com/fighter/Renato-Sobral-274 229 \t https://www.sherdog.com/fighter/Josh-Barnett-272 230 \t https://www.sherdog.com/fighter/Gan-McGee-273 231 \t https://www.sherdog.com/fighter/Andrei-Arlovski-270 232 \t https://www.sherdog.com/fighter/Aaron-Brink-271 233 \t https://www.sherdog.com/fighter/Mark-Hughes-268 234 \t https://www.sherdog.com/fighter/Alex-Stiebling-269 235 \t https://www.sherdog.com/fighter/Ben-Earwood-266 236 \t https://www.sherdog.com/fighter/Chris-Lytle-267 237 \t https://www.sherdog.com/fighter/Matt-Lindland-276 238 \t https://www.sherdog.com/fighter/Dennis-Hallman-275 239 \t https://www.sherdog.com/fighter/Caol-Uno-283 240 \t https://www.sherdog.com/fighter/Phil-Johns-282 241 \t https://www.sherdog.com/fighter/Elvis-Sinosic-281 242 \t https://www.sherdog.com/fighter/Mark-Robinson-280 243 \t https://www.sherdog.com/fighter/Phil-Baroni-278 244 \t https://www.sherdog.com/fighter/Curtis-Stout-279 245 \t https://www.sherdog.com/fighter/Sean-Sherk-277 246 \t https://www.sherdog.com/fighter/Matt-Serra-1305 247 \t https://www.sherdog.com/fighter/Semmy-Schilt-467 248 \t https://www.sherdog.com/fighter/Ricardo-Almeida-11 249 \t https://www.sherdog.com/fighter/BJ-Penn-1307 250 \t https://www.sherdog.com/fighter/Joey-Gilbert-1306 251 \t https://www.sherdog.com/fighter/Tony-DeSouza-487 252 \t https://www.sherdog.com/fighter/Steve-Berger-1303 253 \t https://www.sherdog.com/fighter/Din-Thomas-1301 254 \t https://www.sherdog.com/fighter/Vladimir-Matyushenko-435 255 \t https://www.sherdog.com/fighter/Ricco-Rodriguez-8 256 \t https://www.sherdog.com/fighter/Paul-Rodriguez-1332 257 \t https://www.sherdog.com/fighter/Yves-Edwards-344 258 \t https://www.sherdog.com/fighter/Gil-Castillo-553 259 \t https://www.sherdog.com/fighter/Jutaro-Nakao-438 260 \t https://www.sherdog.com/fighter/Homer-Moore-853 261 \t https://www.sherdog.com/fighter/Frank-Mir-2329 262 \t https://www.sherdog.com/fighter/Amar-Suloev-1995 263 \t https://www.sherdog.com/fighter/Andrei-Semenov-1870 264 \t https://www.sherdog.com/fighter/Keith-Rockel-2093 265 \t https://www.sherdog.com/fighter/Hayato-Sakurai-432 266 \t https://www.sherdog.com/fighter/Kelly-Dullanty-354 267 \t https://www.sherdog.com/fighter/Paul-Creighton-4441 268 \t https://www.sherdog.com/fighter/Ivan-Salaverry-1351 269 \t https://www.sherdog.com/fighter/Benji-Radach-2294 270 \t https://www.sherdog.com/fighter/Robbie-Lawler-2245 271 \t https://www.sherdog.com/fighter/Aaron-Riley-1567 272 \t https://www.sherdog.com/fighter/Nick-Serra-3225 273 \t https://www.sherdog.com/fighter/Pete-Spratt-3195 274 \t https://www.sherdog.com/fighter/Zach-Light-3919 275 \t https://www.sherdog.com/fighter/Rodrigo-Ruas-1562 276 \t https://www.sherdog.com/fighter/Joao-Marcos-Pierini-2490 277 \t https://www.sherdog.com/fighter/Mark-Weir-3599 278 \t https://www.sherdog.com/fighter/Genki-Sudo-1227 279 \t https://www.sherdog.com/fighter/Leigh-Remedios-3071 280 \t https://www.sherdog.com/fighter/Phillip-Miller-482 281 \t https://www.sherdog.com/fighter/James-Zikic-1767 282 \t https://www.sherdog.com/fighter/Chris-Haseman-1449 283 \t https://www.sherdog.com/fighter/Tim-Sylvia-1061 284 \t https://www.sherdog.com/fighter/Wesley-Correira-2829 285 \t https://www.sherdog.com/fighter/Travis-Wiuff-3660 286 \t https://www.sherdog.com/fighter/Rich-Clementi-1046 287 \t https://www.sherdog.com/fighter/Dave-Strasser-615 288 \t https://www.sherdog.com/fighter/Romie-Aram-85 289 \t https://www.sherdog.com/fighter/Sean-Alvarez-1964 290 \t https://www.sherdog.com/fighter/Rich-Franklin-392 291 \t https://www.sherdog.com/fighter/Duane-Ludwig-101 292 \t https://www.sherdog.com/fighter/Hermes-Franca-3068 293 \t https://www.sherdog.com/fighter/Rich-Crunkilton-1542 294 \t https://www.sherdog.com/fighter/David-Loiseau-903 295 \t https://www.sherdog.com/fighter/Eddie-Ruiz-3265 296 \t https://www.sherdog.com/fighter/Marvin-Eastman-339 297 \t https://www.sherdog.com/fighter/Vernon-White-296 298 \t https://www.sherdog.com/fighter/Wes-Sims-2713 "
     ]
    },
    {
     "name": "stdout",
     "output_type": "stream",
     "text": [
      "299 \t https://www.sherdog.com/fighter/Falaniko-Vitale-370 300 \t https://www.sherdog.com/fighter/Jorge-Rivera-2712 301 \t https://www.sherdog.com/fighter/Edwin-Dewees-720 302 \t https://www.sherdog.com/fighter/Karo-Parisyan-5153 303 \t https://www.sherdog.com/fighter/Josh-Thomson-2394 304 \t https://www.sherdog.com/fighter/Gerald-Strebendt-2327 305 \t https://www.sherdog.com/fighter/Nick-Diaz-2831 306 \t https://www.sherdog.com/fighter/Jeremy-Jackson-2651 307 \t https://www.sherdog.com/fighter/Frank-Trigg-311 308 \t https://www.sherdog.com/fighter/Chris-Liguori-4102 309 \t https://www.sherdog.com/fighter/Nick-Agallar-2295 310 \t https://www.sherdog.com/fighter/Renato-Verissimo-4095 311 \t https://www.sherdog.com/fighter/Lee-Murray-1659 312 \t https://www.sherdog.com/fighter/Georges-St-Pierre-3500 313 \t https://www.sherdog.com/fighter/Jeff-Curran-770 314 \t https://www.sherdog.com/fighter/Mike-Kyle-3619 315 \t https://www.sherdog.com/fighter/Jonathan-Wiezorek-2688 316 \t https://www.sherdog.com/fighter/Wade-Shipp-2304 317 \t https://www.sherdog.com/fighter/Mike-Thomas-Brown-3069 318 \t https://www.sherdog.com/fighter/Ivan-Menjivar-993 319 \t https://www.sherdog.com/fighter/Trevor-Prangley-4789 320 \t https://www.sherdog.com/fighter/Jay-Hieron-9267 321 \t https://www.sherdog.com/fighter/Joe-Riggs-2765 322 \t https://www.sherdog.com/fighter/Joe-Doerksen-390 323 \t https://www.sherdog.com/fighter/David-Terrell-536 324 \t https://www.sherdog.com/fighter/Justin-Eilers-5936 325 \t https://www.sherdog.com/fighter/Ronald-Jhun-524 326 \t https://www.sherdog.com/fighter/Patrick-Cote-6612 327 \t https://www.sherdog.com/fighter/Travis-Lutter-4586 328 \t https://www.sherdog.com/fighter/Pete-Sell-7795 329 \t https://www.sherdog.com/fighter/Paul-Buentello-347 330 \t https://www.sherdog.com/fighter/James-Irvin-7780 331 \t https://www.sherdog.com/fighter/Gideon-Ray-4555 332 \t https://www.sherdog.com/fighter/Drew-Fickett-725 333 \t https://www.sherdog.com/fighter/Forrest-Griffin-3526 334 \t https://www.sherdog.com/fighter/Stephan-Bonnar-3014 335 \t https://www.sherdog.com/fighter/Diego-Sanchez-4824 336 \t https://www.sherdog.com/fighter/Kenny-Florian-8021 337 \t https://www.sherdog.com/fighter/Sam-Hoger-6445 338 \t https://www.sherdog.com/fighter/Bobby-Southworth-551 339 \t https://www.sherdog.com/fighter/Chris-Leben-6258 340 \t https://www.sherdog.com/fighter/Jason-Thacker-12690 341 \t https://www.sherdog.com/fighter/Josh-Koscheck-9418 342 \t https://www.sherdog.com/fighter/Chris-Sanford-2656 343 \t https://www.sherdog.com/fighter/Nate-Quarry-2383 344 \t https://www.sherdog.com/fighter/Lodune-Sincaid-4208 345 \t https://www.sherdog.com/fighter/Mike-Swick-5199 346 \t https://www.sherdog.com/fighter/Alex-Schoenauer-4000 347 \t https://www.sherdog.com/fighter/Alex-Karalexis-11941 348 \t https://www.sherdog.com/fighter/Josh-Rafferty-2682 349 \t https://www.sherdog.com/fighter/Jason-Miller-7798 350 \t https://www.sherdog.com/fighter/John-Marsh-9 351 \t https://www.sherdog.com/fighter/Bill-Mahood-4388 352 \t https://www.sherdog.com/fighter/Kevin-Jordan-4399 353 \t https://www.sherdog.com/fighter/Charles-McCarthy-7987 354 \t https://www.sherdog.com/fighter/Nate-Marquardt-1712 355 \t https://www.sherdog.com/fighter/Josh-Neer-9179 356 \t https://www.sherdog.com/fighter/Brian-Gassaway-886 357 \t https://www.sherdog.com/fighter/Terry-Martin-7202 358 \t https://www.sherdog.com/fighter/Brandon-Vera-4886 359 \t https://www.sherdog.com/fighter/Fabiano-Scherner-7690 360 \t https://www.sherdog.com/fighter/Spencer-Fisher-5118 361 \t https://www.sherdog.com/fighter/Thiago-Alves-5998 362 \t https://www.sherdog.com/fighter/Jon-Fitch-4865 363 \t https://www.sherdog.com/fighter/Brock-Larson-6373 364 \t https://www.sherdog.com/fighter/Jonathan-Goulet-4120 365 \t https://www.sherdog.com/fighter/Branden-Lee-Hinkle-437 366 \t https://www.sherdog.com/fighter/Sean-Gannon-11962 367 \t https://www.sherdog.com/fighter/Chael-Sonnen-4112 368 \t https://www.sherdog.com/fighter/Marcio-Cruz-13976 369 \t https://www.sherdog.com/fighter/Keigo-Kunihara-8198 370 \t https://www.sherdog.com/fighter/Alessio-Sakara-5366 371 \t https://www.sherdog.com/fighter/Ron-Faircloth-2290 372 \t https://www.sherdog.com/fighter/Rashad-Evans-10200 373 \t https://www.sherdog.com/fighter/Brad-Imes-11453 374 \t https://www.sherdog.com/fighter/Joe-Stevenson-65 375 \t https://www.sherdog.com/fighter/Luke-Cummo-6428 376 \t https://www.sherdog.com/fighter/Kit-Cope-67 377 \t https://www.sherdog.com/fighter/Joshua-Burkman-10003 378 \t https://www.sherdog.com/fighter/Sam-Morgan-3139 379 \t https://www.sherdog.com/fighter/Melvin-Guillard-7431 380 \t https://www.sherdog.com/fighter/Marcus-Davis-8592 381 \t https://www.sherdog.com/fighter/Keith-Jardine-2638 382 \t https://www.sherdog.com/fighter/Kerry-Schall-397 383 \t https://www.sherdog.com/fighter/Gabriel-Gonzaga-7306 384 \t https://www.sherdog.com/fighter/Jeff-Newton-3263 385 \t https://www.sherdog.com/fighter/Ansar-Chalangov-7148 386 \t https://www.sherdog.com/fighter/Nick-Thompson-7124 387 \t https://www.sherdog.com/fighter/Keith-Wisniewski-2095 388 \t https://www.sherdog.com/fighter/Assuerio-Silva-1587 389 \t https://www.sherdog.com/fighter/Jason-Von-Flue-549 390 \t https://www.sherdog.com/fighter/Gilbert-Aldana-10334 391 \t https://www.sherdog.com/fighter/Mike-Whitehead-4397 392 \t https://www.sherdog.com/fighter/Steve-Vigneault-900 393 \t https://www.sherdog.com/fighter/Mark-Hominick-4728 394 \t https://www.sherdog.com/fighter/Sam-Stout-9901 395 \t https://www.sherdog.com/fighter/Jason-Lambert-495 396 \t https://www.sherdog.com/fighter/Rob-MacDonald-4638 397 \t https://www.sherdog.com/fighter/Tom-Murphy-12284 398 \t https://www.sherdog.com/fighter/Icho-Larenas-10502 399 \t https://www.sherdog.com/fighter/Luigi-Fioravanti-12199 400 \t https://www.sherdog.com/fighter/Dan-Christison-2646 401 \t https://www.sherdog.com/fighter/Justin-Levens-10226 402 \t https://www.sherdog.com/fighter/Scott-Smith-2578 403 \t https://www.sherdog.com/fighter/Derrick-Noble-4556 404 \t https://www.sherdog.com/fighter/Dean-Lister-338 405 \t https://www.sherdog.com/fighter/Matt-Wiman-12236 406 \t https://www.sherdog.com/fighter/Rick-Davis-4832 407 \t https://www.sherdog.com/fighter/Michael-Bisping-10196 408 \t https://www.sherdog.com/fighter/Josh-Haynes-6254 409 \t https://www.sherdog.com/fighter/Kendall-Grove-10126 410 \t https://www.sherdog.com/fighter/Ed-Herman-6561 411 \t https://www.sherdog.com/fighter/Wilson-Gouveia-3070 412 \t https://www.sherdog.com/fighter/Rory-Singer-3525 413 \t https://www.sherdog.com/fighter/Ross-Pointon-6541 414 \t https://www.sherdog.com/fighter/Kalib-Starnes-8095 415 \t https://www.sherdog.com/fighter/Danny-Abbadi-16696 416 \t https://www.sherdog.com/fighter/Solomon-Hutcherson-5342 417 \t https://www.sherdog.com/fighter/Matt-Hamill-16695 418 \t https://www.sherdog.com/fighter/Jesse-Forbes-13453 419 \t https://www.sherdog.com/fighter/Mike-Nickels-11278 420 \t https://www.sherdog.com/fighter/Wes-Combs-4371 421 \t https://www.sherdog.com/fighter/Anderson-Silva-1356 422 \t https://www.sherdog.com/fighter/Jorge-Gurgel-4025 423 \t https://www.sherdog.com/fighter/Kristian-Rothaermel-949 424 \t https://www.sherdog.com/fighter/Jorge-Santiago-5735 425 \t https://www.sherdog.com/fighter/Joe-Jordan-4582 426 \t https://www.sherdog.com/fighter/Anthony-Perosh-9491 427 \t https://www.sherdog.com/fighter/Cheick-Kongo-2193 428 \t https://www.sherdog.com/fighter/Kurt-Pellegrino-4153 429 \t https://www.sherdog.com/fighter/Yuki-Sasaki-1255 430 \t https://www.sherdog.com/fighter/Martin-Kampmann-5344 431 \t https://www.sherdog.com/fighter/Crafton-Wallace-8269 432 \t https://www.sherdog.com/fighter/Jake-OBrien-14892 433 \t https://www.sherdog.com/fighter/Kristof-Midoux-3363 434 \t https://www.sherdog.com/fighter/Forrest-Petz-4411 435 \t https://www.sherdog.com/fighter/Anthony-Torres-1884 436 \t https://www.sherdog.com/fighter/Pat-Healy-6246 437 \t https://www.sherdog.com/fighter/Christian-Wellisch-3328 438 \t https://www.sherdog.com/fighter/Jamie-Varner-7168 439 \t https://www.sherdog.com/fighter/Eric-Schafer-13275 440 \t https://www.sherdog.com/fighter/David-Heath-11483 441 \t https://www.sherdog.com/fighter/Cory-Walmsley-5170 442 \t https://www.sherdog.com/fighter/Yushin-Okami-5569 443 \t https://www.sherdog.com/fighter/Alan-Belcher-10967 "
     ]
    },
    {
     "name": "stdout",
     "output_type": "stream",
     "text": [
      "444 \t https://www.sherdog.com/fighter/Gabe-Ruediger-5542 445 \t https://www.sherdog.com/fighter/Joe-Lauzon-4923 446 \t https://www.sherdog.com/fighter/Roger-Huerta-10089 447 \t https://www.sherdog.com/fighter/Jason-Dent-8321 448 \t https://www.sherdog.com/fighter/Eddie-Sanchez-12098 449 \t https://www.sherdog.com/fighter/Mario-Neto-1950 450 \t https://www.sherdog.com/fighter/Tyson-Griffin-11689 451 \t https://www.sherdog.com/fighter/David-Lee-6945 452 \t https://www.sherdog.com/fighter/Chris-Price-14121 453 \t https://www.sherdog.com/fighter/Jason-MacDonald-4389 454 \t https://www.sherdog.com/fighter/Seth-Petruzelli-2738 455 \t https://www.sherdog.com/fighter/Dustin-Hazelett-11481 456 \t https://www.sherdog.com/fighter/Kuniyoshi-Hironaka-2575 457 \t https://www.sherdog.com/fighter/Carmelo-Marrero-12855 458 \t https://www.sherdog.com/fighter/Dan-Lauzon-16556 459 \t https://www.sherdog.com/fighter/Clay-Guida-8184 460 \t https://www.sherdog.com/fighter/Justin-James-1926 461 \t https://www.sherdog.com/fighter/Junior-Assuncao-10380 462 \t https://www.sherdog.com/fighter/Thales-Leites-8593 463 \t https://www.sherdog.com/fighter/Drew-McFedries-2386 464 \t https://www.sherdog.com/fighter/Dokonjonosuke-Mishima-1170 465 \t https://www.sherdog.com/fighter/Gleison-Tibau-5993 466 \t https://www.sherdog.com/fighter/Antoni-Hardonk-1518 467 \t https://www.sherdog.com/fighter/Sherman-Pendergarst-12854 468 \t https://www.sherdog.com/fighter/Hector-Ramirez-10581 469 \t https://www.sherdog.com/fighter/Josh-Schockman-13270 470 \t https://www.sherdog.com/fighter/Jeff-Joslin-6606 471 \t https://www.sherdog.com/fighter/Victor-Valimaki-4391 472 \t https://www.sherdog.com/fighter/Keita-Nakamura-9572 473 \t https://www.sherdog.com/fighter/Logan-Clark-19478 474 \t https://www.sherdog.com/fighter/Steve-Byrnes-12079 475 \t https://www.sherdog.com/fighter/Sean-Salmon-14515 476 \t https://www.sherdog.com/fighter/Heath-Herring-13 477 \t https://www.sherdog.com/fighter/Chad-Reiner-14016 478 \t https://www.sherdog.com/fighter/Mirko-Filipovic-2326 479 \t https://www.sherdog.com/fighter/John-Halverson-7407 480 \t https://www.sherdog.com/fighter/Quinton-Jackson-348 481 \t https://www.sherdog.com/fighter/Frankie-Edgar-14204 482 \t https://www.sherdog.com/fighter/Lyoto-Machida-7513 483 \t https://www.sherdog.com/fighter/Diego-Saraiva-9534 484 \t https://www.sherdog.com/fighter/Rex-Holman-13745 485 \t https://www.sherdog.com/fighter/Jason-Gilliam-10754 486 \t https://www.sherdog.com/fighter/Justin-McCully-930 487 \t https://www.sherdog.com/fighter/Nate-Mohr-8396 488 \t https://www.sherdog.com/fighter/Roan-Carneiro-2886 489 \t https://www.sherdog.com/fighter/Thiago-Tavares-4647 490 \t https://www.sherdog.com/fighter/Naoyuki-Kotani-393 491 \t https://www.sherdog.com/fighter/Leonard-Garcia-2815 492 \t https://www.sherdog.com/fighter/Fabricio-Werdum-8390 493 \t https://www.sherdog.com/fighter/Terry-Etim-13332 494 \t https://www.sherdog.com/fighter/Matt-Grice-14539 495 \t https://www.sherdog.com/fighter/Jess-Liaudin-3368 496 \t https://www.sherdog.com/fighter/Dennis-Siver-9817 497 \t https://www.sherdog.com/fighter/Paul-Taylor-6326 498 \t https://www.sherdog.com/fighter/Edilberto-de-Oliveira-11907 499 \t https://www.sherdog.com/fighter/Houston-Alexander-2352 500 \t https://www.sherdog.com/fighter/Thiago-Silva-14396 501 \t https://www.sherdog.com/fighter/Jeremy-Stephens-12179 502 \t https://www.sherdog.com/fighter/Jordan-Radev-5925 503 \t https://www.sherdog.com/fighter/Jason-Black-1042 504 \t https://www.sherdog.com/fighter/Tamdan-McCrory-16470 505 \t https://www.sherdog.com/fighter/Jeff-Cox-9785 506 \t https://www.sherdog.com/fighter/Anthony-Johnson-17662 507 \t https://www.sherdog.com/fighter/Luke-Caudillo-7406 508 \t https://www.sherdog.com/fighter/Jason-Tan-12369 509 \t https://www.sherdog.com/fighter/Colin-Robinson-13660 510 \t https://www.sherdog.com/fighter/Steven-Lynch-15882 511 \t https://www.sherdog.com/fighter/Nate-Diaz-11451 512 \t https://www.sherdog.com/fighter/Manny-Gamburyan-5185 513 \t https://www.sherdog.com/fighter/Floyd-Sword-340 514 \t https://www.sherdog.com/fighter/Douglas-Evans-18184 515 \t https://www.sherdog.com/fighter/Brandon-Melendez-10515 516 \t https://www.sherdog.com/fighter/Cole-Miller-13133 517 \t https://www.sherdog.com/fighter/Andy-Wang-1331 518 \t https://www.sherdog.com/fighter/Gray-Maynard-15835 519 \t https://www.sherdog.com/fighter/Robert-Emerson-5286 520 \t https://www.sherdog.com/fighter/Allen-Berube-16459 521 \t https://www.sherdog.com/fighter/Brian-Geraghty-5269 522 \t https://www.sherdog.com/fighter/Alvin-Robinson-12212 523 \t https://www.sherdog.com/fighter/Antonio-Rodrigo-Nogueira-1440 524 \t https://www.sherdog.com/fighter/Mark-Bocek-9781 525 \t https://www.sherdog.com/fighter/Alberto-Crane-4767 526 \t https://www.sherdog.com/fighter/Ryan-Jensen-662 527 \t https://www.sherdog.com/fighter/Marcus-Aurelio-4833 528 \t https://www.sherdog.com/fighter/Tomasz-Drwal-10047 529 \t https://www.sherdog.com/fighter/Joe-Veres-7329 530 \t https://www.sherdog.com/fighter/Mauricio-Rua-5707 531 \t https://www.sherdog.com/fighter/Kazuhiro-Nakamura-6943 532 \t https://www.sherdog.com/fighter/Scott-Junk-12943 533 \t https://www.sherdog.com/fighter/Michihiro-Omigawa-13005 534 \t https://www.sherdog.com/fighter/Demian-Maia-14637 535 \t https://www.sherdog.com/fighter/Ryo-Chonan-1831 536 \t https://www.sherdog.com/fighter/Jason-Reinhardt-2347 537 \t https://www.sherdog.com/fighter/Akihiro-Gono-1217 538 \t https://www.sherdog.com/fighter/Mac-Danzig-3396 539 \t https://www.sherdog.com/fighter/Tom-Speer-16635 540 \t https://www.sherdog.com/fighter/War-Machine-10999 541 \t https://www.sherdog.com/fighter/Jared-Rollins-5781 542 \t https://www.sherdog.com/fighter/George-Sotiropoulos-11702 543 \t https://www.sherdog.com/fighter/Billy-Miles-8845 544 \t https://www.sherdog.com/fighter/Ben-Saunders-10339 545 \t https://www.sherdog.com/fighter/Daniel-Barrera-23762 546 \t https://www.sherdog.com/fighter/Troy-Mandaloniz-12096 547 \t https://www.sherdog.com/fighter/Richie-Hightower-10346 548 \t https://www.sherdog.com/fighter/Matt-Arroyo-19456 549 \t https://www.sherdog.com/fighter/John-Kolosci-9062 550 \t https://www.sherdog.com/fighter/Roman-Mitichyan-6525 551 \t https://www.sherdog.com/fighter/Dorian-Price-9786 552 \t https://www.sherdog.com/fighter/Paul-Georgieff-11408 553 \t https://www.sherdog.com/fighter/Soa-Palelei-9680 554 \t https://www.sherdog.com/fighter/Rameau-Thierry-Sokoudjou-17010 555 \t https://www.sherdog.com/fighter/Luiz-Cane-17559 556 \t https://www.sherdog.com/fighter/Paul-Kelly-14028 557 \t https://www.sherdog.com/fighter/James-Lee-2224 558 \t https://www.sherdog.com/fighter/Per-Eklund-3707 559 \t https://www.sherdog.com/fighter/Corey-Hill-23864 560 \t https://www.sherdog.com/fighter/Justin-Buchholz-18062 561 \t https://www.sherdog.com/fighter/Brock-Lesnar-17522 562 \t https://www.sherdog.com/fighter/Rob-Yundt-16858 563 \t https://www.sherdog.com/fighter/Kyle-Bradley-7918 564 \t https://www.sherdog.com/fighter/Tim-Boetsch-19544 565 \t https://www.sherdog.com/fighter/Chris-Wilson-9281 566 \t https://www.sherdog.com/fighter/David-Bielkheden-3863 567 \t https://www.sherdog.com/fighter/Ryan-Roberts-19761 568 \t https://www.sherdog.com/fighter/Samy-Schiavo-4038 569 \t https://www.sherdog.com/fighter/Jason-Day-6811 570 \t https://www.sherdog.com/fighter/Cain-Velasquez-19102 571 \t https://www.sherdog.com/fighter/Brad-Morris-9024 572 \t https://www.sherdog.com/fighter/Goran-Reljic-10165 573 \t https://www.sherdog.com/fighter/Antonio-Mendes-7110 574 \t https://www.sherdog.com/fighter/Rousimar-Palhares-16286 575 \t https://www.sherdog.com/fighter/Yoshiyuki-Yoshida-12073 576 \t https://www.sherdog.com/fighter/Dong-Hyun-Kim-16374 577 \t https://www.sherdog.com/fighter/Shane-Carwin-14013 578 \t https://www.sherdog.com/fighter/Kevin-Burns-20512 579 \t https://www.sherdog.com/fighter/Amir-Sadollah-34071 580 \t https://www.sherdog.com/fighter/CB-Dollaway-22350 581 \t https://www.sherdog.com/fighter/Matt-Riddle-34072 582 \t https://www.sherdog.com/fighter/Dante-Rivera-5746 583 \t https://www.sherdog.com/fighter/Matt-Brown-14310 584 \t https://www.sherdog.com/fighter/Rob-Kimmons-9863 585 \t https://www.sherdog.com/fighter/Reese-Andy-12692 586 \t https://www.sherdog.com/fighter/Jesse-Taylor-17389 587 \t https://www.sherdog.com/fighter/Tim-Credeur-1804 "
     ]
    },
    {
     "name": "stdout",
     "output_type": "stream",
     "text": [
      "588 \t https://www.sherdog.com/fighter/Cale-Yarbrough-34073 589 \t https://www.sherdog.com/fighter/Rory-Markham-10768 590 \t https://www.sherdog.com/fighter/Brodie-Farber-6123 591 \t https://www.sherdog.com/fighter/Nate-Loughran-15626 592 \t https://www.sherdog.com/fighter/Johnny-Rees-14891 593 \t https://www.sherdog.com/fighter/Brad-Blackburn-2920 594 \t https://www.sherdog.com/fighter/James-Giboo-14266 595 \t https://www.sherdog.com/fighter/Shannon-Gugerty-11001 596 \t https://www.sherdog.com/fighter/Dale-Hartt-11970 597 \t https://www.sherdog.com/fighter/Dan-Evensen-10584 598 \t https://www.sherdog.com/fighter/Jon-Jones-27944 599 \t https://www.sherdog.com/fighter/Andre-Gusmao-15806 600 \t https://www.sherdog.com/fighter/Steve-Bruno-4367 601 \t https://www.sherdog.com/fighter/Ryan-Thomas-20224 602 \t https://www.sherdog.com/fighter/Michael-Patt-3506 603 \t https://www.sherdog.com/fighter/Joe-Vedepo-15833 604 \t https://www.sherdog.com/fighter/Jason-Brilz-1927 605 \t https://www.sherdog.com/fighter/Mike-Massenzio-12852 606 \t https://www.sherdog.com/fighter/Dan-Miller-14464 607 \t https://www.sherdog.com/fighter/Dan-Hardy-10629 608 \t https://www.sherdog.com/fighter/Neil-Wain-20121 609 \t https://www.sherdog.com/fighter/Jim-Miller-14463 610 \t https://www.sherdog.com/fighter/David-Baron-2860 611 \t https://www.sherdog.com/fighter/Junior-dos-Santos-17272 612 \t https://www.sherdog.com/fighter/Matt-Horwich-8654 613 \t https://www.sherdog.com/fighter/Josh-Hendricks-7652 614 \t https://www.sherdog.com/fighter/Rafael-dos-Anjos-11675 615 \t https://www.sherdog.com/fighter/Steve-Cantwell-12785 616 \t https://www.sherdog.com/fighter/Razak-AlHassan-23326 617 \t https://www.sherdog.com/fighter/Brandon-Wolff-4673 618 \t https://www.sherdog.com/fighter/Efrain-Escudero-16555 619 \t https://www.sherdog.com/fighter/Phillipe-Nover-7415 620 \t https://www.sherdog.com/fighter/Ryan-Bader-22858 621 \t https://www.sherdog.com/fighter/Vinny-Magalhaes-10709 622 \t https://www.sherdog.com/fighter/Junie-Allen-Browning-28041 623 \t https://www.sherdog.com/fighter/David-Kaplan-13848 624 \t https://www.sherdog.com/fighter/Krzysztof-Soszynski-9178 625 \t https://www.sherdog.com/fighter/Shane-Primm-18304 626 \t https://www.sherdog.com/fighter/Eliot-Marshall-15104 627 \t https://www.sherdog.com/fighter/Jules-Bruchez-41539 628 \t https://www.sherdog.com/fighter/Tom-Lawlor-21940 629 \t https://www.sherdog.com/fighter/Kyle-Kingsbury-16558 630 \t https://www.sherdog.com/fighter/Shane-Nelson-11262 631 \t https://www.sherdog.com/fighter/George-Roop-16415 632 \t https://www.sherdog.com/fighter/Roli-Delgado-3669 633 \t https://www.sherdog.com/fighter/John-Polakowski-9512 634 \t https://www.sherdog.com/fighter/Mostapha-AlTurk-8224 635 \t https://www.sherdog.com/fighter/Mike-Wessel-25524 636 \t https://www.sherdog.com/fighter/Pat-Barry-33342 637 \t https://www.sherdog.com/fighter/Denis-Kang-935 638 \t https://www.sherdog.com/fighter/John-Hathaway-16704 639 \t https://www.sherdog.com/fighter/Tom-Egan-29690 640 \t https://www.sherdog.com/fighter/Alexandre-Barros-1424 641 \t https://www.sherdog.com/fighter/Ivan-Serati-16300 642 \t https://www.sherdog.com/fighter/John-Howard-11798 643 \t https://www.sherdog.com/fighter/Dan-Cramer-42310 644 \t https://www.sherdog.com/fighter/Denis-Stojnic-12955 645 \t https://www.sherdog.com/fighter/Jake-Rosholt-23322 646 \t https://www.sherdog.com/fighter/Matt-Veach-23350 647 \t https://www.sherdog.com/fighter/Nick-Catone-23006 648 \t https://www.sherdog.com/fighter/Derek-Downey-12234 649 \t https://www.sherdog.com/fighter/Paulo-Thiago-13336 650 \t https://www.sherdog.com/fighter/Brian-Cobb-5739 651 \t https://www.sherdog.com/fighter/Stefan-Struve-15063 652 \t https://www.sherdog.com/fighter/Evan-Dunham-22038 653 \t https://www.sherdog.com/fighter/Mike-Ciesnolevicz-14047 654 \t https://www.sherdog.com/fighter/Neil-Grove-23219 655 \t https://www.sherdog.com/fighter/Mark-Munoz-22411 656 \t https://www.sherdog.com/fighter/Ryan-Madigan-16551 657 \t https://www.sherdog.com/fighter/Carlos-Condit-6765 658 \t https://www.sherdog.com/fighter/Jesse-Sanders-16098 659 \t https://www.sherdog.com/fighter/Nissen-Osterneck-17591 660 \t https://www.sherdog.com/fighter/Aaron-Simpson-24986 661 \t https://www.sherdog.com/fighter/Tim-McKenzie-3089 662 \t https://www.sherdog.com/fighter/Brian-Stann-14829 663 \t https://www.sherdog.com/fighter/Xavier-FoupaPokam-8761 664 \t https://www.sherdog.com/fighter/TJ-Grant-15906 665 \t https://www.sherdog.com/fighter/Mike-Pyle-4577 666 \t https://www.sherdog.com/fighter/Tim-Hague-19599 667 \t https://www.sherdog.com/fighter/Peter-Sobotta-15816 668 \t https://www.sherdog.com/fighter/Rick-Story-25989 669 \t https://www.sherdog.com/fighter/James-Wilks-10569 670 \t https://www.sherdog.com/fighter/DaMarques-Johnson-12913 671 \t https://www.sherdog.com/fighter/Ross-Pearson-11884 672 \t https://www.sherdog.com/fighter/Andre-Winner-17034 673 \t https://www.sherdog.com/fighter/Edgar-Garcia-23108 674 \t https://www.sherdog.com/fighter/Nick-Osipczak-30033 675 \t https://www.sherdog.com/fighter/Frank-Lester-22791 676 \t https://www.sherdog.com/fighter/Cameron-Dollar-25531 677 \t https://www.sherdog.com/fighter/Yoshihiro-Akiyama-11895 678 \t https://www.sherdog.com/fighter/Johny-Hendricks-24539 679 \t https://www.sherdog.com/fighter/Jesse-Lennox-17139 680 \t https://www.sherdog.com/fighter/Danillo-Villefort-13093 681 \t https://www.sherdog.com/fighter/Chris-Tuchscherer-10669 682 \t https://www.sherdog.com/fighter/Mike-Russow-20552 683 \t https://www.sherdog.com/fighter/Todd-Duffee-22903 684 \t https://www.sherdog.com/fighter/Jake-Ellenberger-13068 685 \t https://www.sherdog.com/fighter/Jay-Silva-34408 686 \t https://www.sherdog.com/fighter/Mike-Pierce-25415 687 \t https://www.sherdog.com/fighter/Steve-Steinbeiss-21627 688 \t https://www.sherdog.com/fighter/Paul-Daley-4270 689 \t https://www.sherdog.com/fighter/Steve-Lopez-29129 690 \t https://www.sherdog.com/fighter/Nik-Lentz-15058 691 \t https://www.sherdog.com/fighter/Rafaello-Oliveira-37260 692 \t https://www.sherdog.com/fighter/Brian-Foster-17723 693 \t https://www.sherdog.com/fighter/Igor-Pokrajac-7621 694 \t https://www.sherdog.com/fighter/Ben-Rothwell-2262 695 \t https://www.sherdog.com/fighter/Chase-Gormley-22247 696 \t https://www.sherdog.com/fighter/Alexander-Gustafsson-26162 697 \t https://www.sherdog.com/fighter/Jared-Hamman-15949 698 \t https://www.sherdog.com/fighter/Jacob-Volkmann-24765 699 \t https://www.sherdog.com/fighter/Antonio-Rogerio-Nogueira-2270 700 \t https://www.sherdog.com/fighter/Fabricio-Camoes-2427 701 \t https://www.sherdog.com/fighter/Roy-Nelson-10249 702 \t https://www.sherdog.com/fighter/Brendan-Schaub-33926 703 \t https://www.sherdog.com/fighter/Kevin-Ferguson-22388 704 \t https://www.sherdog.com/fighter/Matt-Mitrione-49519 705 \t https://www.sherdog.com/fighter/Marcus-Jones-25912 706 \t https://www.sherdog.com/fighter/James-McSweeney-22111 707 \t https://www.sherdog.com/fighter/Darrill-Schoonover-33084 708 \t https://www.sherdog.com/fighter/Jon-Madsen-48820 709 \t https://www.sherdog.com/fighter/Justin-Wren-21401 710 \t https://www.sherdog.com/fighter/Rodney-Wallace-33343 711 \t https://www.sherdog.com/fighter/Joe-Brammer-17016 712 \t https://www.sherdog.com/fighter/Ricardo-Funch-24057 713 \t https://www.sherdog.com/fighter/Lucio-Linhares-10543 714 \t https://www.sherdog.com/fighter/Gilbert-Yvel-323 715 \t https://www.sherdog.com/fighter/John-Gunderson-7018 716 \t https://www.sherdog.com/fighter/Rory-MacDonald-14018 717 \t https://www.sherdog.com/fighter/Michael-Guymon-4015 718 \t https://www.sherdog.com/fighter/Gerald-Harris-17903 719 \t https://www.sherdog.com/fighter/John-Salter-44683 720 \t https://www.sherdog.com/fighter/Ronys-Torres-20447 721 \t https://www.sherdog.com/fighter/Phil-Davis-27802 722 \t https://www.sherdog.com/fighter/Joey-Beltran-21219 723 \t https://www.sherdog.com/fighter/Rolles-Gracie-24217 724 \t https://www.sherdog.com/fighter/James-Te-Huna-9033 725 \t https://www.sherdog.com/fighter/Darren-Elkins-22094 726 \t https://www.sherdog.com/fighter/Daniel-Roberts-23999 727 \t https://www.sherdog.com/fighter/Julio-Paulino-18106 728 \t https://www.sherdog.com/fighter/Greg-Soto-19080 729 \t https://www.sherdog.com/fighter/Takanori-Gomi-425 730 \t https://www.sherdog.com/fighter/Mario-Miranda-23852 "
     ]
    },
    {
     "name": "stdout",
     "output_type": "stream",
     "text": [
      "731 \t https://www.sherdog.com/fighter/Charlie-Brenneman-23403 732 \t https://www.sherdog.com/fighter/Jason-High-14185 733 \t https://www.sherdog.com/fighter/Renzo-Gracie-290 734 \t https://www.sherdog.com/fighter/Waylon-Lowe-18744 735 \t https://www.sherdog.com/fighter/Cyrille-Diabate-2191 736 \t https://www.sherdog.com/fighter/Claude-Patrick-4114 737 \t https://www.sherdog.com/fighter/Court-McGee-34124 738 \t https://www.sherdog.com/fighter/Kris-McCray-39432 739 \t https://www.sherdog.com/fighter/Rich-Attonito-11955 740 \t https://www.sherdog.com/fighter/Jamie-Yager-42309 741 \t https://www.sherdog.com/fighter/Mark-Holst-14862 742 \t https://www.sherdog.com/fighter/Brad-Tavares-33095 743 \t https://www.sherdog.com/fighter/Seth-Baczynski-13827 744 \t https://www.sherdog.com/fighter/Kyle-Noke-7632 745 \t https://www.sherdog.com/fighter/Josh-Bryant-21971 746 \t https://www.sherdog.com/fighter/Chris-Camozzi-17224 747 \t https://www.sherdog.com/fighter/James-Hammortree-42479 748 \t https://www.sherdog.com/fighter/Travis-Browne-16785 749 \t https://www.sherdog.com/fighter/Ricardo-Romero-23978 750 \t https://www.sherdog.com/fighter/David-Branch-32431 751 \t https://www.sherdog.com/fighter/Karlos-Vemola-40238 752 \t https://www.sherdog.com/fighter/Charles-Oliveira-30300 753 \t https://www.sherdog.com/fighter/Todd-Brown-21887 754 \t https://www.sherdog.com/fighter/Christian-Morecraft-34376 755 \t https://www.sherdog.com/fighter/James-Toney-60940 756 \t https://www.sherdog.com/fighter/Amilcar-Alves-23841 757 \t https://www.sherdog.com/fighter/Rafael-Natal-13968 758 \t https://www.sherdog.com/fighter/TJ-Waldburger-15125 759 \t https://www.sherdog.com/fighter/David-Mitchell-16830 760 \t https://www.sherdog.com/fighter/Pat-Audinwood-25476 761 \t https://www.sherdog.com/fighter/Sean-McCorkle-19640 762 \t https://www.sherdog.com/fighter/Mark-Hunt-10668 763 \t https://www.sherdog.com/fighter/Rob-Broughton-10924 764 \t https://www.sherdog.com/fighter/Vinicius-Kappke-de-Queiroz-48631 765 \t https://www.sherdog.com/fighter/Paul-Sass-23531 766 \t https://www.sherdog.com/fighter/Curt-Warburton-34623 767 \t https://www.sherdog.com/fighter/Fabio-Maldonado-16426 768 \t https://www.sherdog.com/fighter/Jake-Shields-502 769 \t https://www.sherdog.com/fighter/Dongi-Yang-23501 770 \t https://www.sherdog.com/fighter/Alexandre-Ferreira-1398 771 \t https://www.sherdog.com/fighter/Pascal-Krauss-43439 772 \t https://www.sherdog.com/fighter/Mark-Scanlon-18253 773 \t https://www.sherdog.com/fighter/Carlos-Eduardo-Rocha-35142 774 \t https://www.sherdog.com/fighter/Maiquel-Falcao-30304 775 \t https://www.sherdog.com/fighter/Edson-Barboza-46259 776 \t https://www.sherdog.com/fighter/Mike-Lullo-36885 777 \t https://www.sherdog.com/fighter/TJ-OBrien-22127 778 \t https://www.sherdog.com/fighter/Jonathan-Brookins-17316 779 \t https://www.sherdog.com/fighter/Michael-Johnson-68788 780 \t https://www.sherdog.com/fighter/Nam-Phan-5778 781 \t https://www.sherdog.com/fighter/Cody-McKenzie-22173 782 \t https://www.sherdog.com/fighter/Aaron-Wilkinson-39265 783 \t https://www.sherdog.com/fighter/Ian-Loveland-13793 784 \t https://www.sherdog.com/fighter/Tyler-Toner-13539 785 \t https://www.sherdog.com/fighter/Kyle-Watson-7127 786 \t https://www.sherdog.com/fighter/Sako-Chivitchyan-6527 787 \t https://www.sherdog.com/fighter/Nick-Pace-40956 788 \t https://www.sherdog.com/fighter/Will-Campuzano-35521 789 \t https://www.sherdog.com/fighter/Pablo-Garza-35448 790 \t https://www.sherdog.com/fighter/Fredson-Paixao-10432 791 \t https://www.sherdog.com/fighter/Jesse-Bongfeldt-6809 792 \t https://www.sherdog.com/fighter/Sean-Pierson-573 793 \t https://www.sherdog.com/fighter/John-Makdessi-37402 794 \t https://www.sherdog.com/fighter/Dustin-Poirier-50529 795 \t https://www.sherdog.com/fighter/Josh-Grispi-20416 796 \t https://www.sherdog.com/fighter/Diego-Nunes-25981 797 \t https://www.sherdog.com/fighter/Antonio-McKee-515 798 \t https://www.sherdog.com/fighter/Rani-Yahya-10425 799 \t https://www.sherdog.com/fighter/Willamy-Freire-12553 800 \t https://www.sherdog.com/fighter/Chris-Cariaso-16467 801 \t https://www.sherdog.com/fighter/Miguel-Torres-3006 802 \t https://www.sherdog.com/fighter/Antonio-Banuelos-2580 803 \t https://www.sherdog.com/fighter/Donald-Cerrone-15105 804 \t https://www.sherdog.com/fighter/Chad-Mendes-38393 805 \t https://www.sherdog.com/fighter/Demetrious-Johnson-45452 806 \t https://www.sherdog.com/fighter/Norifumi-Yamamoto-1354 807 \t https://www.sherdog.com/fighter/Kenny-Robertson-31978 808 \t https://www.sherdog.com/fighter/Brian-Ebersole-3015 809 \t https://www.sherdog.com/fighter/Nick-Ring-6748 810 \t https://www.sherdog.com/fighter/Riki-Fukuda-10229 811 \t https://www.sherdog.com/fighter/Tom-Blackledge-3953 812 \t https://www.sherdog.com/fighter/Tiequan-Zhang-16984 813 \t https://www.sherdog.com/fighter/Maciej-Jewtuszko-27440 814 \t https://www.sherdog.com/fighter/Chris-Weidman-42804 815 \t https://www.sherdog.com/fighter/Brian-Bowles-18944 816 \t https://www.sherdog.com/fighter/Damacio-Page-12158 817 \t https://www.sherdog.com/fighter/Danny-Castillo-26070 818 \t https://www.sherdog.com/fighter/Shane-Roller-24540 819 \t https://www.sherdog.com/fighter/Takeya-Mizugaki-12074 820 \t https://www.sherdog.com/fighter/Reuben-Duran-26602 821 \t https://www.sherdog.com/fighter/Urijah-Faber-8847 822 \t https://www.sherdog.com/fighter/Eddie-Wineland-4173 823 \t https://www.sherdog.com/fighter/Kamal-Shalorus-31151 824 \t https://www.sherdog.com/fighter/Anthony-Njokuani-7540 825 \t https://www.sherdog.com/fighter/Joseph-Benavidez-15008 826 \t https://www.sherdog.com/fighter/Costas-Philippou-32432 827 \t https://www.sherdog.com/fighter/Erik-Koch-23390 828 \t https://www.sherdog.com/fighter/Raphael-Assuncao-9574 829 \t https://www.sherdog.com/fighter/Chan-Sung-Jung-36155 830 \t https://www.sherdog.com/fighter/Mackens-Semerzier-38841 831 \t https://www.sherdog.com/fighter/Alex-Caceres-41586 832 \t https://www.sherdog.com/fighter/Michael-McDonald-30297 833 \t https://www.sherdog.com/fighter/Edwin-Figueroa-22490 834 \t https://www.sherdog.com/fighter/Jose-Aldo-11506 835 \t https://www.sherdog.com/fighter/Benson-Henderson-20548 836 \t https://www.sherdog.com/fighter/Charlie-Valencia-503 837 \t https://www.sherdog.com/fighter/Yves-Jabouin-1693 838 \t https://www.sherdog.com/fighter/Renan-Barao-23156 839 \t https://www.sherdog.com/fighter/Cole-Escovedo-2291 840 \t https://www.sherdog.com/fighter/Tony-Ferguson-31239 841 \t https://www.sherdog.com/fighter/Ramsey-Nijem-36963 842 \t https://www.sherdog.com/fighter/Anthony-Pettis-26627 843 \t https://www.sherdog.com/fighter/Chris-Cope-25784 844 \t https://www.sherdog.com/fighter/Chuck-ONeil-15855 845 \t https://www.sherdog.com/fighter/Daniel-Downes-41666 846 \t https://www.sherdog.com/fighter/Shamar-Bailey-20744 847 \t https://www.sherdog.com/fighter/Ryan-McGillivray-18533 848 \t https://www.sherdog.com/fighter/Clay-Harvison-21131 849 \t https://www.sherdog.com/fighter/Justin-Edwards-37452 850 \t https://www.sherdog.com/fighter/Scott-Jorgensen-16852 851 \t https://www.sherdog.com/fighter/Ken-Stone-24913 852 \t https://www.sherdog.com/fighter/Francisco-Rivera-11908 853 \t https://www.sherdog.com/fighter/Dave-Herman-19720 854 \t https://www.sherdog.com/fighter/John-Olav-Einemo-2873 855 \t https://www.sherdog.com/fighter/Vagner-Rocha-43107 856 \t https://www.sherdog.com/fighter/James-Head-23253 857 \t https://www.sherdog.com/fighter/Jason-Young-17758 858 \t https://www.sherdog.com/fighter/Aaron-Rosa-15129 859 \t https://www.sherdog.com/fighter/Javier-Vazquez-511 860 \t https://www.sherdog.com/fighter/Ricardo-Lamas-32051 861 \t https://www.sherdog.com/fighter/Edward-Faaloloto-55070 862 \t https://www.sherdog.com/fighter/Dominick-Cruz-12107 863 \t https://www.sherdog.com/fighter/Jeff-Hougland-4870 864 \t https://www.sherdog.com/fighter/Donny-Walker-11486 865 \t https://www.sherdog.com/fighter/Paul-Bradley-19726 866 \t https://www.sherdog.com/fighter/Ronny-Markes-21175 867 \t https://www.sherdog.com/fighter/Jim-Hettes-48046 868 \t https://www.sherdog.com/fighter/Stanislav-Nedkov-27115 869 \t https://www.sherdog.com/fighter/Johnny-Eduardo-426 870 \t https://www.sherdog.com/fighter/Erick-Silva-15009 871 \t https://www.sherdog.com/fighter/Luis-Ramos-3217 872 \t https://www.sherdog.com/fighter/Iuri-Alcantara-16129 "
     ]
    },
    {
     "name": "stdout",
     "output_type": "stream",
     "text": [
      "873 \t https://www.sherdog.com/fighter/Felipe-Arantes-31372 874 \t https://www.sherdog.com/fighter/Lance-Benoist-59764 875 \t https://www.sherdog.com/fighter/Mike-Stumpf-20967 876 \t https://www.sherdog.com/fighter/Robbie-Peralta-21339 877 \t https://www.sherdog.com/fighter/Jorge-Lopez-23271 878 \t https://www.sherdog.com/fighter/Eddie-Yagin-2825 879 \t https://www.sherdog.com/fighter/Mike-Easton-9626 880 \t https://www.sherdog.com/fighter/Byron-Bloodworth-17355 881 \t https://www.sherdog.com/fighter/Walel-Watson-36403 882 \t https://www.sherdog.com/fighter/Joseph-Sandoval-63897 883 \t https://www.sherdog.com/fighter/Stipe-Miocic-39537 884 \t https://www.sherdog.com/fighter/Hatsu-Hioki-5466 885 \t https://www.sherdog.com/fighter/Bart-Palaszewski-3496 886 \t https://www.sherdog.com/fighter/Francis-Carmont-9798 887 \t https://www.sherdog.com/fighter/Clifford-Starks-56902 888 \t https://www.sherdog.com/fighter/Dustin-Jacoby-73825 889 \t https://www.sherdog.com/fighter/Brad-Pickett-11743 890 \t https://www.sherdog.com/fighter/Papy-Abedi-20812 891 \t https://www.sherdog.com/fighter/John-Maguire-15574 892 \t https://www.sherdog.com/fighter/Philip-De-Fries-46202 893 \t https://www.sherdog.com/fighter/Che-Mills-8800 894 \t https://www.sherdog.com/fighter/Vaughan-Lee-6946 895 \t https://www.sherdog.com/fighter/Cub-Swanson-11002 896 \t https://www.sherdog.com/fighter/Darren-Uyenoyama-4679 897 \t https://www.sherdog.com/fighter/Matt-Lucas-18915 898 \t https://www.sherdog.com/fighter/Cung-Le-14883 899 \t https://www.sherdog.com/fighter/Alex-Soto-50367 900 \t https://www.sherdog.com/fighter/Diego-Brandao-25097 901 \t https://www.sherdog.com/fighter/Dennis-Bermudez-58065 902 \t https://www.sherdog.com/fighter/John-Dodson-11660 903 \t https://www.sherdog.com/fighter/TJ-Dillashaw-62507 904 \t https://www.sherdog.com/fighter/Johnny-Bedford-19717 905 \t https://www.sherdog.com/fighter/Louis-Gaudinot-45230 906 \t https://www.sherdog.com/fighter/Marcus-Brimage-21618 907 \t https://www.sherdog.com/fighter/Stephen-Bass-28788 908 \t https://www.sherdog.com/fighter/John-Albert-43796 909 \t https://www.sherdog.com/fighter/Dustin-Pague-39781 910 \t https://www.sherdog.com/fighter/Roland-Delorme-37351 911 \t https://www.sherdog.com/fighter/Josh-Ferguson-26649 912 \t https://www.sherdog.com/fighter/Steven-Siler-22537 913 \t https://www.sherdog.com/fighter/Josh-Clopton-22105 914 \t https://www.sherdog.com/fighter/Bryan-Caraway-13791 915 \t https://www.sherdog.com/fighter/Dustin-Neace-13599 916 \t https://www.sherdog.com/fighter/Jake-Hecht-15759 917 \t https://www.sherdog.com/fighter/John-Cholish-35867 918 \t https://www.sherdog.com/fighter/Mitch-Clarke-22556 919 \t https://www.sherdog.com/fighter/Alistair-Overeem-461 920 \t https://www.sherdog.com/fighter/Carlo-Prater-6767 921 \t https://www.sherdog.com/fighter/Ednaldo-Oliveira-14972 922 \t https://www.sherdog.com/fighter/Antonio-Carvalho-5346 923 \t https://www.sherdog.com/fighter/Jared-Papazian-33531 924 \t https://www.sherdog.com/fighter/Khabib-Nurmagomedov-56035 925 \t https://www.sherdog.com/fighter/Tommy-Hayden-30943 926 \t https://www.sherdog.com/fighter/Daniel-Pineda-21564 927 \t https://www.sherdog.com/fighter/Pat-Schilling-54054 928 \t https://www.sherdog.com/fighter/Nick-Denis-19128 929 \t https://www.sherdog.com/fighter/Eric-Wisely-25320 930 \t https://www.sherdog.com/fighter/Lavar-Johnson-9511 931 \t https://www.sherdog.com/fighter/Max-Holloway-38671 932 \t https://www.sherdog.com/fighter/Henry-Martinez-13237 933 \t https://www.sherdog.com/fighter/Michael-Kuiper-42901 934 \t https://www.sherdog.com/fighter/Stephen-Thompson-59608 935 \t https://www.sherdog.com/fighter/Daniel-Stittgen-42258 936 \t https://www.sherdog.com/fighter/Justin-Salas-16180 937 \t https://www.sherdog.com/fighter/Anton-Kuivanen-14865 938 \t https://www.sherdog.com/fighter/Tim-Means-11281 939 \t https://www.sherdog.com/fighter/Bernardo-Magalhaes-26495 940 \t https://www.sherdog.com/fighter/Eiji-Mitsuoka-2235 941 \t https://www.sherdog.com/fighter/Issei-Tamura-34371 942 \t https://www.sherdog.com/fighter/Yasuhiro-Urushitani-1349 943 \t https://www.sherdog.com/fighter/Ian-McCall-5001 944 \t https://www.sherdog.com/fighter/Nick-Penner-23736 945 \t https://www.sherdog.com/fighter/Andrew-Craig-63284 946 \t https://www.sherdog.com/fighter/Shawn-Jordan-45624 947 \t https://www.sherdog.com/fighter/Oli-Thompson-54543 948 \t https://www.sherdog.com/fighter/Siyar-Bahadurzada-5453 949 \t https://www.sherdog.com/fighter/Tom-DeBlass-29744 950 \t https://www.sherdog.com/fighter/Magnus-Cedenblad-22137 951 \t https://www.sherdog.com/fighter/Reza-Madadi-18921 952 \t https://www.sherdog.com/fighter/Yoislandy-Izquierdo-64716 953 \t https://www.sherdog.com/fighter/Simeon-Thoresen-19977 954 \t https://www.sherdog.com/fighter/Besam-Yousef-32445 955 \t https://www.sherdog.com/fighter/Chad-Griggs-15932 956 \t https://www.sherdog.com/fighter/Chris-Clements-13469 957 \t https://www.sherdog.com/fighter/Maximo-Blanco-36618 958 \t https://www.sherdog.com/fighter/Tim-Elliott-49213 959 \t https://www.sherdog.com/fighter/John-Lineker-41906 960 \t https://www.sherdog.com/fighter/Marcus-LeVesseur-23538 961 \t https://www.sherdog.com/fighter/Antonio-Silva-12354 962 \t https://www.sherdog.com/fighter/Shane-del-Rosario-17393 963 \t https://www.sherdog.com/fighter/Glover-Teixeira-4655 964 \t https://www.sherdog.com/fighter/Michael-Chiesa-46224 965 \t https://www.sherdog.com/fighter/Al-Iaquinta-42817 966 \t https://www.sherdog.com/fighter/Justin-Lawrence-73756 967 \t https://www.sherdog.com/fighter/John-Cofer-33523 968 \t https://www.sherdog.com/fighter/Daron-Cruickshank-53717 969 \t https://www.sherdog.com/fighter/Chris-Tickle-22955 970 \t https://www.sherdog.com/fighter/Myles-Jury-34236 971 \t https://www.sherdog.com/fighter/Chris-Saunders-7358 972 \t https://www.sherdog.com/fighter/Sam-Sicilia-53205 973 \t https://www.sherdog.com/fighter/Cristiano-Marcello-3530 974 \t https://www.sherdog.com/fighter/Joe-Proctor-46307 975 \t https://www.sherdog.com/fighter/Jeremy-Larsen-19863 976 \t https://www.sherdog.com/fighter/Erik-Perez-35509 977 \t https://www.sherdog.com/fighter/Buddy-Roberts-23811 978 \t https://www.sherdog.com/fighter/Caio-Magalhaes-51163 979 \t https://www.sherdog.com/fighter/CJ-Keith-70452 980 \t https://www.sherdog.com/fighter/Brock-Jardine-36630 981 \t https://www.sherdog.com/fighter/Joey-Gambino-55503 982 \t https://www.sherdog.com/fighter/Cezar-Ferreira-22400 983 \t https://www.sherdog.com/fighter/Sergio-Moraes-21343 984 \t https://www.sherdog.com/fighter/Rony-Mariano-Bezerra-38190 985 \t https://www.sherdog.com/fighter/Godofredo-Castro-40623 986 \t https://www.sherdog.com/fighter/Hacran-Dias-19789 987 \t https://www.sherdog.com/fighter/Rodrigo-Damm-11507 988 \t https://www.sherdog.com/fighter/Anistavio-Medeiros-de-Figueiredo-21962 989 \t https://www.sherdog.com/fighter/Francisco-Trinaldo-31103 990 \t https://www.sherdog.com/fighter/Delson-Heleno-5434 991 \t https://www.sherdog.com/fighter/Hugo-Viana-65456 992 \t https://www.sherdog.com/fighter/John-Teixeira-da-Conceicao-44311 993 \t https://www.sherdog.com/fighter/Thiago-de-Oliveira-Perpetuo-53207 994 \t https://www.sherdog.com/fighter/Leonardo-Mafra-Texeira-76653 995 \t https://www.sherdog.com/fighter/Marcos-Vinicius-Borges-Pancini-51728 996 \t https://www.sherdog.com/fighter/Wagner-Campos-22197 997 \t https://www.sherdog.com/fighter/Milton-Vieira-4481 998 \t https://www.sherdog.com/fighter/Marcelo-Guimaraes-20277 999 \t https://www.sherdog.com/fighter/Hector-Lombard-11292 1000 \t https://www.sherdog.com/fighter/Ryan-Jimmo-21044 1001 \t https://www.sherdog.com/fighter/Mitch-Gagnon-37404 1002 \t https://www.sherdog.com/fighter/Wagner-Prado-53134 1003 \t https://www.sherdog.com/fighter/John-Moraga-55159 1004 \t https://www.sherdog.com/fighter/Ulysses-Gomez-30396 1005 \t https://www.sherdog.com/fighter/Chico-Camus-42850 1006 \t https://www.sherdog.com/fighter/Roger-Hollett-15907 1007 \t https://www.sherdog.com/fighter/Jimi-Manuwa-37528 1008 \t https://www.sherdog.com/fighter/Akira-Corassani-22641 1009 \t https://www.sherdog.com/fighter/Andy-Ogle-42659 1010 \t https://www.sherdog.com/fighter/Tom-Watson-15179 1011 \t https://www.sherdog.com/fighter/Gunnar-Nelson-25246 1012 \t https://www.sherdog.com/fighter/Jussier-da-Silva-36939 1013 \t https://www.sherdog.com/fighter/Phil-Harris-8753 "
     ]
    },
    {
     "name": "stdout",
     "output_type": "stream",
     "text": [
      "1014 \t https://www.sherdog.com/fighter/Renee-Forte-37684 1015 \t https://www.sherdog.com/fighter/Jon-Tuck-45108 1016 \t https://www.sherdog.com/fighter/Motonobu-Tezuka-19390 1017 \t https://www.sherdog.com/fighter/Azamat-Gashimov-71175 1018 \t https://www.sherdog.com/fighter/Abel-Trujillo-17129 1019 \t https://www.sherdog.com/fighter/Colton-Smith-63163 1020 \t https://www.sherdog.com/fighter/Mike-Ricci-33532 1021 \t https://www.sherdog.com/fighter/Rustam-Khabilov-45417 1022 \t https://www.sherdog.com/fighter/Vinc-Pichel-57848 1023 \t https://www.sherdog.com/fighter/Mike-Rio-54833 1024 \t https://www.sherdog.com/fighter/Robert-Whittaker-45132 1025 \t https://www.sherdog.com/fighter/Bradley-Scott-44442 1026 \t https://www.sherdog.com/fighter/Norman-Parke-47549 1027 \t https://www.sherdog.com/fighter/Colin-Fletcher-34621 1028 \t https://www.sherdog.com/fighter/Yaotzin-Meza-15937 1029 \t https://www.sherdog.com/fighter/Ben-Alloway-60790 1030 \t https://www.sherdog.com/fighter/Manuel-Rodriguez-46484 1031 \t https://www.sherdog.com/fighter/Mike-Wilkinson-50586 1032 \t https://www.sherdog.com/fighter/Brendan-Loughnane-44417 1033 \t https://www.sherdog.com/fighter/Cody-Donovan-22304 1034 \t https://www.sherdog.com/fighter/Derek-Brunson-68494 1035 \t https://www.sherdog.com/fighter/Daniel-Sarafian-17665 1036 \t https://www.sherdog.com/fighter/Lucas-Martins-100031 1037 \t https://www.sherdog.com/fighter/Pedro-Nobre-44211 1038 \t https://www.sherdog.com/fighter/Ildemar-Alcantara-22223 1039 \t https://www.sherdog.com/fighter/Sean-Spencer-60908 1040 \t https://www.sherdog.com/fighter/Tyron-Woodley-42605 1041 \t https://www.sherdog.com/fighter/Bobby-Green-27953 1042 \t https://www.sherdog.com/fighter/Isaac-VallieFlagg-8180 1043 \t https://www.sherdog.com/fighter/Dustin-Kimura-41247 1044 \t https://www.sherdog.com/fighter/Ronda-Rousey-73073 1045 \t https://www.sherdog.com/fighter/Liz-Carmouche-67007 1046 \t https://www.sherdog.com/fighter/Caros-Fodor-45430 1047 \t https://www.sherdog.com/fighter/Neil-Magny-69166 1048 \t https://www.sherdog.com/fighter/Jon-Manley-26632 1049 \t https://www.sherdog.com/fighter/NahShon-Burrell-53596 1050 \t https://www.sherdog.com/fighter/Yuri-Villefort-47069 1051 \t https://www.sherdog.com/fighter/Mizuto-Hirota-12078 1052 \t https://www.sherdog.com/fighter/Kazuki-Tokudome-26192 1053 \t https://www.sherdog.com/fighter/Kyung-Ho-Kang-24067 1054 \t https://www.sherdog.com/fighter/Hyun-Gyu-Lim-21040 1055 \t https://www.sherdog.com/fighter/Bobby-Voelker-15156 1056 \t https://www.sherdog.com/fighter/Jordan-Mein-6749 1057 \t https://www.sherdog.com/fighter/Quinn-Mulhern-22873 1058 \t https://www.sherdog.com/fighter/Gegard-Mousasi-7466 1059 \t https://www.sherdog.com/fighter/Ilir-Latifi-40207 1060 \t https://www.sherdog.com/fighter/Ryan-Couture-51228 1061 \t https://www.sherdog.com/fighter/Tor-Troeng-6850 1062 \t https://www.sherdog.com/fighter/Adam-Cella-69956 1063 \t https://www.sherdog.com/fighter/Adlan-Amagov-41523 1064 \t https://www.sherdog.com/fighter/Chris-Spang-40205 1065 \t https://www.sherdog.com/fighter/Conor-McGregor-29688 1066 \t https://www.sherdog.com/fighter/Ryan-LaFlare-34409 1067 \t https://www.sherdog.com/fighter/Kelvin-Gastelum-74700 1068 \t https://www.sherdog.com/fighter/Uriah-Hall-14210 1069 \t https://www.sherdog.com/fighter/Cat-Zingano-33932 1070 \t https://www.sherdog.com/fighter/Miesha-Tate-26252 1071 \t https://www.sherdog.com/fighter/Bubba-McDaniel-14600 1072 \t https://www.sherdog.com/fighter/Gilbert-Smith-65128 1073 \t https://www.sherdog.com/fighter/Josh-Samman-17460 1074 \t https://www.sherdog.com/fighter/Kevin-Casey-24121 1075 \t https://www.sherdog.com/fighter/Luke-Barnatt-56567 1076 \t https://www.sherdog.com/fighter/Collin-Hart-47991 1077 \t https://www.sherdog.com/fighter/Dylan-Andrews-21803 1078 \t https://www.sherdog.com/fighter/Jimmy-Quinlan-84661 1079 \t https://www.sherdog.com/fighter/Clint-Hester-43866 1080 \t https://www.sherdog.com/fighter/Bristol-Marunde-12961 1081 \t https://www.sherdog.com/fighter/Gilbert-Melendez-5545 1082 \t https://www.sherdog.com/fighter/Daniel-Cormier-52311 1083 \t https://www.sherdog.com/fighter/Lorenz-Larkin-51345 1084 \t https://www.sherdog.com/fighter/Jorge-Masvidal-7688 1085 \t https://www.sherdog.com/fighter/Roger-Bowling-23052 1086 \t https://www.sherdog.com/fighter/Yoel-Romero-60762 1087 \t https://www.sherdog.com/fighter/Yancy-Medeiros-27738 1088 \t https://www.sherdog.com/fighter/Ovince-St-Preux-38842 1089 \t https://www.sherdog.com/fighter/Gian-Villante-42802 1090 \t https://www.sherdog.com/fighter/Sara-McMann-67094 1091 \t https://www.sherdog.com/fighter/Sheila-Gaff-43445 1092 \t https://www.sherdog.com/fighter/Kurt-Holobaugh-68751 1093 \t https://www.sherdog.com/fighter/Luke-Rockhold-23345 1094 \t https://www.sherdog.com/fighter/Ronaldo-Souza-8394 1095 \t https://www.sherdog.com/fighter/Joao-Zeferino-17577 1096 \t https://www.sherdog.com/fighter/Michel-Prazeres-22218 1097 \t https://www.sherdog.com/fighter/Iliarde-Santos-39391 1098 \t https://www.sherdog.com/fighter/KJ-Noons-6727 1099 \t https://www.sherdog.com/fighter/Estevan-Payan-24952 1100 \t https://www.sherdog.com/fighter/Leonardo-Santos-4810 1101 \t https://www.sherdog.com/fighter/William-Macario-69624 1102 \t https://www.sherdog.com/fighter/Rafael-Cavalcante-16161 1103 \t https://www.sherdog.com/fighter/Eddie-Mendez-37421 1104 \t https://www.sherdog.com/fighter/Leandro-Silva-86382 1105 \t https://www.sherdog.com/fighter/Antonio-Braga-Neto-19530 1106 \t https://www.sherdog.com/fighter/Anthony-Smith-29470 1107 \t https://www.sherdog.com/fighter/Alexis-Davis-22071 1108 \t https://www.sherdog.com/fighter/Rosi-Sexton-5358 1109 \t https://www.sherdog.com/fighter/James-Krause-31766 1110 \t https://www.sherdog.com/fighter/Tim-Kennedy-2830 1111 \t https://www.sherdog.com/fighter/Roger-Gracie-19854 1112 \t https://www.sherdog.com/fighter/Brian-Melancon-43621 1113 \t https://www.sherdog.com/fighter/Jessica-Andrade-100715 1114 \t https://www.sherdog.com/fighter/Trevor-Smith-51113 1115 \t https://www.sherdog.com/fighter/Germaine-de-Randamie-41745 1116 \t https://www.sherdog.com/fighter/Julie-Kedzie-10093 1117 \t https://www.sherdog.com/fighter/Thiago-Santos-90021 1118 \t https://www.sherdog.com/fighter/Jose-Maria-Tome-37681 1119 \t https://www.sherdog.com/fighter/Amanda-Nunes-31496 1120 \t https://www.sherdog.com/fighter/Francimar-Barroso-14702 1121 \t https://www.sherdog.com/fighter/Viscardi-Andrade-30298 1122 \t https://www.sherdog.com/fighter/James-Vick-81956 1123 \t https://www.sherdog.com/fighter/Brandon-Thatch-22298 1124 \t https://www.sherdog.com/fighter/Zak-Cummings-31808 1125 \t https://www.sherdog.com/fighter/Nikita-Krylov-110937 1126 \t https://www.sherdog.com/fighter/Piotr-Hallmann-53375 1127 \t https://www.sherdog.com/fighter/Ali-Bagautinov-81198 1128 \t https://www.sherdog.com/fighter/Edimilson-Souza-57343 1129 \t https://www.sherdog.com/fighter/Ramiro-Hernandez-26934 1130 \t https://www.sherdog.com/fighter/Elias-Silverio-88613 1131 \t https://www.sherdog.com/fighter/Ivan-Jorge-5432 1132 \t https://www.sherdog.com/fighter/Wilson-Reis-23401 1133 \t https://www.sherdog.com/fighter/Jesse-Ronson-56579 1134 \t https://www.sherdog.com/fighter/Daniel-Omielanczuk-54303 1135 \t https://www.sherdog.com/fighter/Nandor-Guelmino-28286 1136 \t https://www.sherdog.com/fighter/Igor-Araujo-12803 1137 \t https://www.sherdog.com/fighter/Yan-Cabral-27090 1138 \t https://www.sherdog.com/fighter/Alan-Patrick-Silva-Alves-31096 1139 \t https://www.sherdog.com/fighter/Garett-Whiteley-39261 1140 \t https://www.sherdog.com/fighter/Darrell-Montague-34214 1141 \t https://www.sherdog.com/fighter/Jessica-Eye-39575 1142 \t https://www.sherdog.com/fighter/Sarah-Kaufman-16524 1143 \t https://www.sherdog.com/fighter/Andre-Fili-58385 1144 \t https://www.sherdog.com/fighter/Kyoji-Horiguchi-64413 1145 \t https://www.sherdog.com/fighter/Nicholas-Musoke-26160 1146 \t https://www.sherdog.com/fighter/Robert-Whiteford-47105 1147 \t https://www.sherdog.com/fighter/Brian-Houston-59769 1148 \t https://www.sherdog.com/fighter/Santiago-Ponzinibbio-64593 1149 \t https://www.sherdog.com/fighter/Omari-Akhmedov-83462 1150 \t https://www.sherdog.com/fighter/Adriano-Martins-9907 1151 \t https://www.sherdog.com/fighter/Dustin-Ortiz-58097 1152 \t https://www.sherdog.com/fighter/Anthony-Lapsley-18590 "
     ]
    },
    {
     "name": "stdout",
     "output_type": "stream",
     "text": [
      "1153 \t https://www.sherdog.com/fighter/Sergio-Pettis-50987 1154 \t https://www.sherdog.com/fighter/Julianna-Pena-50883 1155 \t https://www.sherdog.com/fighter/Jessica-Rakoczy-53506 1156 \t https://www.sherdog.com/fighter/Chris-Holdsworth-51225 1157 \t https://www.sherdog.com/fighter/Davey-Grant-30564 1158 \t https://www.sherdog.com/fighter/Jessamyn-Duke-71307 1159 \t https://www.sherdog.com/fighter/Peggy-Morgan-91565 1160 \t https://www.sherdog.com/fighter/Raquel-Pennington-75564 1161 \t https://www.sherdog.com/fighter/Roxanne-Modafferi-8785 1162 \t https://www.sherdog.com/fighter/Tom-Niinimaki-5639 1163 \t https://www.sherdog.com/fighter/Jared-Rosholt-76763 1164 \t https://www.sherdog.com/fighter/Walt-Harris-72046 1165 \t https://www.sherdog.com/fighter/Drew-Dober-23982 1166 \t https://www.sherdog.com/fighter/Josh-Sampo-66883 1167 \t https://www.sherdog.com/fighter/Ryan-Benoit-48566 1168 \t https://www.sherdog.com/fighter/Bethe-Correia-103069 1169 \t https://www.sherdog.com/fighter/Justin-Scoggins-71120 1170 \t https://www.sherdog.com/fighter/Richie-Vaculik-21798 1171 \t https://www.sherdog.com/fighter/Krzysztof-Jotko-53380 1172 \t https://www.sherdog.com/fighter/Bruno-Santos-48052 1173 \t https://www.sherdog.com/fighter/Alex-Garcia-54124 1174 \t https://www.sherdog.com/fighter/Ben-Wall-78164 1175 \t https://www.sherdog.com/fighter/Zach-Makovsky-20522 1176 \t https://www.sherdog.com/fighter/Alptekin-Ozkilic-73826 1177 \t https://www.sherdog.com/fighter/Tarec-Saffiedine-21912 1178 \t https://www.sherdog.com/fighter/Tatsuya-Kawajiri-1326 1179 \t https://www.sherdog.com/fighter/Sean-Soriano-61682 1180 \t https://www.sherdog.com/fighter/Kiichi-Kunimoto-21039 1181 \t https://www.sherdog.com/fighter/Luiz-Jorge-Dutra-Jr-8121 1182 \t https://www.sherdog.com/fighter/Shunichi-Shimizu-22677 1183 \t https://www.sherdog.com/fighter/Will-Chope-69087 1184 \t https://www.sherdog.com/fighter/Katsunori-Kikuno-16806 1185 \t https://www.sherdog.com/fighter/Royston-Wee-88793 1186 \t https://www.sherdog.com/fighter/Dave-Galera-93863 1187 \t https://www.sherdog.com/fighter/Mairbek-Taisumov-33161 1188 \t https://www.sherdog.com/fighter/Tae-Hyun-Bang-23167 1189 \t https://www.sherdog.com/fighter/Jon-delos-Reyes-58594 1190 \t https://www.sherdog.com/fighter/Russell-Doane-30054 1191 \t https://www.sherdog.com/fighter/Leandro-Issa-19521 1192 \t https://www.sherdog.com/fighter/Louis-Smolka-64792 1193 \t https://www.sherdog.com/fighter/Beneil-Dariush-56583 1194 \t https://www.sherdog.com/fighter/George-Sullivan-15148 1195 \t https://www.sherdog.com/fighter/Mike-Rhodes-87296 1196 \t https://www.sherdog.com/fighter/Danny-Martinez-16777 1197 \t https://www.sherdog.com/fighter/Kevin-Lee-84342 1198 \t https://www.sherdog.com/fighter/Andy-Enz-61422 1199 \t https://www.sherdog.com/fighter/Rashid-Magomedov-41524 1200 \t https://www.sherdog.com/fighter/Anthony-Rocco-Martin-80436 1201 \t https://www.sherdog.com/fighter/Gasan-Umalatov-53109 1202 \t https://www.sherdog.com/fighter/Takenori-Sato-12196 1203 \t https://www.sherdog.com/fighter/Albert-Tumenov-60198 1204 \t https://www.sherdog.com/fighter/Zubaira-Tukhugov-63813 1205 \t https://www.sherdog.com/fighter/Douglas-Silva-de-Andrade-87981 1206 \t https://www.sherdog.com/fighter/Patrick-Cummins-72981 1207 \t https://www.sherdog.com/fighter/Pedro-Munhoz-52407 1208 \t https://www.sherdog.com/fighter/Aljamain-Sterling-66313 1209 \t https://www.sherdog.com/fighter/Cody-Gibson-38903 1210 \t https://www.sherdog.com/fighter/Ernest-Chavez-80837 1211 \t https://www.sherdog.com/fighter/Yosdenis-Cedeno-47066 1212 \t https://www.sherdog.com/fighter/Lipeng-Zhang-50416 1213 \t https://www.sherdog.com/fighter/Sai-Wang-47118 1214 \t https://www.sherdog.com/fighter/Yui-Chul-Nam-15987 1215 \t https://www.sherdog.com/fighter/Anying-Wang-135315 1216 \t https://www.sherdog.com/fighter/Albert-Cheng-63422 1217 \t https://www.sherdog.com/fighter/Mark-Eddiva-75370 1218 \t https://www.sherdog.com/fighter/Jumabieke-Tuerxun-83505 1219 \t https://www.sherdog.com/fighter/Neil-Seery-14062 1220 \t https://www.sherdog.com/fighter/Mats-Nilsson-32446 1221 \t https://www.sherdog.com/fighter/Claudio-Henrique-da-Silva-25830 1222 \t https://www.sherdog.com/fighter/Danny-Mitchell-40523 1223 \t https://www.sherdog.com/fighter/Francisco-Trevino-38029 1224 \t https://www.sherdog.com/fighter/Sean-Strickland-30452 1225 \t https://www.sherdog.com/fighter/Hans-Stringer-14825 1226 \t https://www.sherdog.com/fighter/Noad-Lahat-35732 1227 \t https://www.sherdog.com/fighter/Jim-Alers-36581 1228 \t https://www.sherdog.com/fighter/Alan-Omer-23437 1229 \t https://www.sherdog.com/fighter/Elias-Theodorou-81765 1230 \t https://www.sherdog.com/fighter/Sheldon-Westcott-23648 1231 \t https://www.sherdog.com/fighter/Chad-Laprise-69681 1232 \t https://www.sherdog.com/fighter/Olivier-AubinMercier-86241 1233 \t https://www.sherdog.com/fighter/Leslie-Smith-46542 1234 \t https://www.sherdog.com/fighter/Sean-OConnell-33156 1235 \t https://www.sherdog.com/fighter/Mike-de-la-Torre-17915 1236 \t https://www.sherdog.com/fighter/Nordine-Taleb-26261 1237 \t https://www.sherdog.com/fighter/Vik-Grujic-69858 1238 \t https://www.sherdog.com/fighter/Richard-Walsh-55587 1239 \t https://www.sherdog.com/fighter/Chris-Indich-42419 1240 \t https://www.sherdog.com/fighter/Tim-Gorman-17717 1241 \t https://www.sherdog.com/fighter/Alex-White-55954 1242 \t https://www.sherdog.com/fighter/Luke-Zachrich-15720 1243 \t https://www.sherdog.com/fighter/Hernani-Perpetuo-28185 1244 \t https://www.sherdog.com/fighter/Ray-Borg-84752 1245 \t https://www.sherdog.com/fighter/Mirsad-Bektic-59766 1246 \t https://www.sherdog.com/fighter/Chas-Skelly-47227 1247 \t https://www.sherdog.com/fighter/Derrick-Lewis-59284 1248 \t https://www.sherdog.com/fighter/Jack-May-83949 1249 \t https://www.sherdog.com/fighter/Chris-Beal-53369 1250 \t https://www.sherdog.com/fighter/Patrick-Williams-69607 1251 \t https://www.sherdog.com/fighter/Ruan-Potts-75842 1252 \t https://www.sherdog.com/fighter/Aaron-Phillips-55298 1253 \t https://www.sherdog.com/fighter/Jingliang-Li-26381 1254 \t https://www.sherdog.com/fighter/David-Michaud-53778 1255 \t https://www.sherdog.com/fighter/Antonio-Carlos-Jr-143157 1256 \t https://www.sherdog.com/fighter/Vitor-Miranda-13004 1257 \t https://www.sherdog.com/fighter/Warlley-Alves-70750 1258 \t https://www.sherdog.com/fighter/Marcio-Alexandre-Jr-95457 1259 \t https://www.sherdog.com/fighter/Alexander-Yakovlev-10846 1260 \t https://www.sherdog.com/fighter/Ricardo-Abreu-82392 1261 \t https://www.sherdog.com/fighter/Wagner-Silva-Gomes-115911 1262 \t https://www.sherdog.com/fighter/Marcos-Rogerio-de-Lima-51955 1263 \t https://www.sherdog.com/fighter/Richardson-Moreira-72825 1264 \t https://www.sherdog.com/fighter/Matt-Hobar-59713 1265 \t https://www.sherdog.com/fighter/Niklas-Backstrom-54620 1266 \t https://www.sherdog.com/fighter/Nick-Hein-50774 1267 \t https://www.sherdog.com/fighter/Pawel-Pawlak-65543 1268 \t https://www.sherdog.com/fighter/Ruslan-Magomedov-74434 1269 \t https://www.sherdog.com/fighter/Viktor-Pesta-74176 1270 \t https://www.sherdog.com/fighter/Jake-Lindsey-57214 1271 \t https://www.sherdog.com/fighter/Roger-Narvaez-60454 1272 \t https://www.sherdog.com/fighter/Valerie-Letourneau-21851 1273 \t https://www.sherdog.com/fighter/Elizabeth-Phillips-83021 1274 \t https://www.sherdog.com/fighter/Kajan-Johnson-5615 1275 \t https://www.sherdog.com/fighter/Michinori-Tanaka-71942 1276 \t https://www.sherdog.com/fighter/Jason-Saggo-58213 1277 \t https://www.sherdog.com/fighter/Josh-Shockley-24948 1278 \t https://www.sherdog.com/fighter/Jake-Matthews-122139 1279 \t https://www.sherdog.com/fighter/Dashon-Johnson-120663 1280 \t https://www.sherdog.com/fighter/Roldan-Sangchaan-103497 1281 \t https://www.sherdog.com/fighter/Rodrigo-Goiana-de-Lima-81136 1282 \t https://www.sherdog.com/fighter/Dan-Hooker-45122 1283 \t https://www.sherdog.com/fighter/Ian-Entwistle-50588 1284 \t https://www.sherdog.com/fighter/Joe-Ellenberger-14173 1285 \t https://www.sherdog.com/fighter/James-Moontasri-36889 1286 \t https://www.sherdog.com/fighter/Carlos-Diego-Ferreira-26358 1287 \t https://www.sherdog.com/fighter/Shane-Howell-20906 1288 \t https://www.sherdog.com/fighter/Alexey-Oleynik-2027 1289 \t https://www.sherdog.com/fighter/Anthony-Hamilton-58947 1290 \t https://www.sherdog.com/fighter/Rob-Font-76100 "
     ]
    },
    {
     "name": "stdout",
     "output_type": "stream",
     "text": [
      "1291 \t https://www.sherdog.com/fighter/Guilherme-Vasconcelos-108499 1292 \t https://www.sherdog.com/fighter/Bubba-Bush-29111 1293 \t https://www.sherdog.com/fighter/Corey-Anderson-171723 1294 \t https://www.sherdog.com/fighter/Matt-Van-Buren-64754 1295 \t https://www.sherdog.com/fighter/Eddie-Gordon-66410 1296 \t https://www.sherdog.com/fighter/Dhiego-Lima-59607 1297 \t https://www.sherdog.com/fighter/Carlos-Augusto-Inocente-Filho-17786 1298 \t https://www.sherdog.com/fighter/Juan-Manuel-Puig-44638 1299 \t https://www.sherdog.com/fighter/Patrick-Walsh-67971 1300 \t https://www.sherdog.com/fighter/Dan-Spohn-39485 1301 \t https://www.sherdog.com/fighter/Sarah-Moras-61600 1302 \t https://www.sherdog.com/fighter/Alexis-Dufresne-113687 1303 \t https://www.sherdog.com/fighter/Robert-Drysdale-67894 1304 \t https://www.sherdog.com/fighter/Keith-Berish-46314 1305 \t https://www.sherdog.com/fighter/Jerrod-Sanders-48156 1306 \t https://www.sherdog.com/fighter/Claudia-Gadelha-48404 1307 \t https://www.sherdog.com/fighter/Tina-Lahdemaki-70795 1308 \t https://www.sherdog.com/fighter/Chris-Dempsey-79277 1309 \t https://www.sherdog.com/fighter/Cathal-Pendred-64373 1310 \t https://www.sherdog.com/fighter/Mike-King-50928 1311 \t https://www.sherdog.com/fighter/Patrick-Holohan-63616 1312 \t https://www.sherdog.com/fighter/Brian-Ortega-65310 1313 \t https://www.sherdog.com/fighter/Tiago-dos-Santos-e-Silva-78479 1314 \t https://www.sherdog.com/fighter/Akbarh-Arreola-6120 1315 \t https://www.sherdog.com/fighter/Gilbert-Burns-91727 1316 \t https://www.sherdog.com/fighter/Andreas-Stahl-57322 1317 \t https://www.sherdog.com/fighter/Joanna-Jedrzejczyk-101411 1318 \t https://www.sherdog.com/fighter/Juliana-Lima-73710 1319 \t https://www.sherdog.com/fighter/Alan-Jouban-65878 1320 \t https://www.sherdog.com/fighter/Lauren-Murphy-66725 1321 \t https://www.sherdog.com/fighter/Sam-Alvey-35410 1322 \t https://www.sherdog.com/fighter/Frankie-Saenz-55410 1323 \t https://www.sherdog.com/fighter/Nolan-Ticman-72084 1324 \t https://www.sherdog.com/fighter/Brendan-OReilly-52633 1325 \t https://www.sherdog.com/fighter/Guangyou-Ning-26389 1326 \t https://www.sherdog.com/fighter/Jianping-Yang-26365 1327 \t https://www.sherdog.com/fighter/Alberto-Mina-16705 1328 \t https://www.sherdog.com/fighter/Shinsho-Anzai-47183 1329 \t https://www.sherdog.com/fighter/Yuta-Sasaki-63070 1330 \t https://www.sherdog.com/fighter/Colby-Covington-57269 1331 \t https://www.sherdog.com/fighter/Zhikui-Yao-122383 1332 \t https://www.sherdog.com/fighter/Milana-Dudieva-43885 1333 \t https://www.sherdog.com/fighter/Clay-Collard-78465 1334 \t https://www.sherdog.com/fighter/Valmir-Lazaro-22216 1335 \t https://www.sherdog.com/fighter/Chris-Heatherly-101117 1336 \t https://www.sherdog.com/fighter/Joby-Sanchez-50239 1337 \t https://www.sherdog.com/fighter/Joe-Soto-17004 1338 \t https://www.sherdog.com/fighter/Shayna-Baszler-12116 1339 \t https://www.sherdog.com/fighter/Damon-Jackson-113767 1340 \t https://www.sherdog.com/fighter/Chris-Wade-79335 1341 \t https://www.sherdog.com/fighter/Cain-Carrizosa-84645 1342 \t https://www.sherdog.com/fighter/Tateki-Matsuda-45607 1343 \t https://www.sherdog.com/fighter/Wendell-de-Oliveira-Marques-15393 1344 \t https://www.sherdog.com/fighter/Larissa-Pacheco-144115 1345 \t https://www.sherdog.com/fighter/Rin-Nakai-18887 1346 \t https://www.sherdog.com/fighter/Masanori-Kanehara-13767 1347 \t https://www.sherdog.com/fighter/Johnny-Case-28017 1348 \t https://www.sherdog.com/fighter/Eddie-Alvarez-9265 1349 \t https://www.sherdog.com/fighter/Jan-Blachowicz-25821 1350 \t https://www.sherdog.com/fighter/Scott-Askham-40518 1351 \t https://www.sherdog.com/fighter/Charles-Rosa-71116 1352 \t https://www.sherdog.com/fighter/Marcin-Bandel-55705 1353 \t https://www.sherdog.com/fighter/Roman-Salazar-24790 1354 \t https://www.sherdog.com/fighter/Paul-Felder-68205 1355 \t https://www.sherdog.com/fighter/Chris-Kelades-51576 1356 \t https://www.sherdog.com/fighter/Matt-Dwyer-53933 1357 \t https://www.sherdog.com/fighter/Christos-Giagos-68130 1358 \t https://www.sherdog.com/fighter/Daniel-Kelly-49516 1359 \t https://www.sherdog.com/fighter/Leon-Edwards-62665 1360 \t https://www.sherdog.com/fighter/Jorge-Antonio-Cezario-de-Oliveira-15380 1361 \t https://www.sherdog.com/fighter/Nina-Ansaroff-69632 1362 \t https://www.sherdog.com/fighter/Diego-Rivas-81835 1363 \t https://www.sherdog.com/fighter/Rodolfo-Rubio-31897 1364 \t https://www.sherdog.com/fighter/Thomas-Almeida-87865 1365 \t https://www.sherdog.com/fighter/Augusto-Montano-41494 1366 \t https://www.sherdog.com/fighter/Hector-Urbina-18168 1367 \t https://www.sherdog.com/fighter/Yair-Rodriguez-106305 1368 \t https://www.sherdog.com/fighter/Leonardo-Morales-111777 1369 \t https://www.sherdog.com/fighter/Alejandro-Perez-13428 1370 \t https://www.sherdog.com/fighter/Jose-Alberto-Quinonez-152627 1371 \t https://www.sherdog.com/fighter/Gabriel-Benitez-25733 1372 \t https://www.sherdog.com/fighter/Humberto-Brown-45721 1373 \t https://www.sherdog.com/fighter/Enrique-Briones-20939 1374 \t https://www.sherdog.com/fighter/Guido-Cannetti-69513 1375 \t https://www.sherdog.com/fighter/Marco-Beltran-40285 1376 \t https://www.sherdog.com/fighter/Marlon-Vera-97179 1377 \t https://www.sherdog.com/fighter/Josh-Copeland-75537 1378 \t https://www.sherdog.com/fighter/Paige-VanZant-99019 1379 \t https://www.sherdog.com/fighter/Kailin-Curran-62703 1380 \t https://www.sherdog.com/fighter/Doo-Ho-Choi-56689 1381 \t https://www.sherdog.com/fighter/Justin-Jones-93683 1382 \t https://www.sherdog.com/fighter/Ashlee-EvansSmith-75021 1383 \t https://www.sherdog.com/fighter/Carla-Esparza-63410 1384 \t https://www.sherdog.com/fighter/Rose-Namajunas-69083 1385 \t https://www.sherdog.com/fighter/Jessica-Penne-21247 1386 \t https://www.sherdog.com/fighter/Randa-Markos-75417 1387 \t https://www.sherdog.com/fighter/Felice-Herrig-42432 1388 \t https://www.sherdog.com/fighter/Lisa-Ellis-10071 1389 \t https://www.sherdog.com/fighter/Heather-Clark-67132 1390 \t https://www.sherdog.com/fighter/Bec-Rawlings-84964 1391 \t https://www.sherdog.com/fighter/Joanne-Calderwood-94103 1392 \t https://www.sherdog.com/fighter/Seo-Hee-Ham-21246 1393 \t https://www.sherdog.com/fighter/Tecia-Torres-85096 1394 \t https://www.sherdog.com/fighter/Angela-Magana-21720 1395 \t https://www.sherdog.com/fighter/Aisling-Daly-25245 1396 \t https://www.sherdog.com/fighter/Alex-Chambers-65649 1397 \t https://www.sherdog.com/fighter/Angela-Hill-148517 1398 \t https://www.sherdog.com/fighter/Emily-Kagan-68959 1399 \t https://www.sherdog.com/fighter/Willie-Gates-40436 1400 \t https://www.sherdog.com/fighter/Bryan-Barberena-51471 1401 \t https://www.sherdog.com/fighter/Henry-Cejudo-125297 1402 \t https://www.sherdog.com/fighter/Anthony-Birchak-53300 1403 \t https://www.sherdog.com/fighter/Antonio-dos-Santos-Jr-46759 1404 \t https://www.sherdog.com/fighter/Renato-Carneiro-61700 1405 \t https://www.sherdog.com/fighter/Jake-Collier-83599 1406 \t https://www.sherdog.com/fighter/Cody-Garbrandt-50381 1407 \t https://www.sherdog.com/fighter/Jared-Cannonier-78628 1408 \t https://www.sherdog.com/fighter/Marion-Reneau-61266 1409 \t https://www.sherdog.com/fighter/Ron-Stallings-11950 1410 \t https://www.sherdog.com/fighter/Frankie-Perez-79784 1411 \t https://www.sherdog.com/fighter/Sultan-Aliev-89761 1412 \t https://www.sherdog.com/fighter/Makwan-Amirkhani-69406 1413 \t https://www.sherdog.com/fighter/Anthony-Christodoulou-53712 1414 \t https://www.sherdog.com/fighter/Paul-Redmond-56615 1415 \t https://www.sherdog.com/fighter/Konstantin-Erokhin-98151 1416 \t https://www.sherdog.com/fighter/Cody-Pfister-48481 1417 \t https://www.sherdog.com/fighter/Holly-Holm-75125 1418 \t https://www.sherdog.com/fighter/Masio-Fullen-40356 1419 \t https://www.sherdog.com/fighter/Alex-Torres-172645 1420 \t https://www.sherdog.com/fighter/Joseph-Duffy-17052 1421 \t https://www.sherdog.com/fighter/Alex-Oliveira-110143 1422 \t https://www.sherdog.com/fighter/Fredy-Serrano-112413 1423 \t https://www.sherdog.com/fighter/Bentley-Syler-123973 1424 \t https://www.sherdog.com/fighter/Timothy-Johnson-72706 1425 \t https://www.sherdog.com/fighter/Shamil-Abdurakhimov-26808 1426 \t https://www.sherdog.com/fighter/Maryna-Moroz-151905 1427 \t https://www.sherdog.com/fighter/Bartosz-Fabinski-87101 "
     ]
    },
    {
     "name": "stdout",
     "output_type": "stream",
     "text": [
      "1428 \t https://www.sherdog.com/fighter/Garreth-McLellan-71237 1429 \t https://www.sherdog.com/fighter/Mickael-Lebout-81143 1430 \t https://www.sherdog.com/fighter/Damian-Stasiak-86920 1431 \t https://www.sherdog.com/fighter/Aleksandra-Albu-144949 1432 \t https://www.sherdog.com/fighter/Izabela-Badurek-122349 1433 \t https://www.sherdog.com/fighter/Steven-Ray-59838 1434 \t https://www.sherdog.com/fighter/Taylor-Lapilus-97337 1435 \t https://www.sherdog.com/fighter/Rocky-Lee-84854 1436 \t https://www.sherdog.com/fighter/Shane-Campbell-34625 1437 \t https://www.sherdog.com/fighter/Jonavin-Webb-81634 1438 \t https://www.sherdog.com/fighter/Ben-Nguyen-8183 1439 \t https://www.sherdog.com/fighter/Levan-Makashvili-126881 1440 \t https://www.sherdog.com/fighter/Islam-Makhachev-76836 1441 \t https://www.sherdog.com/fighter/Leo-Kuntz-44602 1442 \t https://www.sherdog.com/fighter/Darren-Till-73436 1443 \t https://www.sherdog.com/fighter/Nicolas-Dalby-63608 1444 \t https://www.sherdog.com/fighter/Elizeu-Zaleski-dos-Santos-63825 1445 \t https://www.sherdog.com/fighter/Ericka-Almeida-98419 1446 \t https://www.sherdog.com/fighter/Tom-Breese-45986 1447 \t https://www.sherdog.com/fighter/Steve-Kennedy-31092 1448 \t https://www.sherdog.com/fighter/Lukasz-Sajewski-31110 1449 \t https://www.sherdog.com/fighter/Arnold-Allen-97499 1450 \t https://www.sherdog.com/fighter/Magomed-Mustafaev-80231 1451 \t https://www.sherdog.com/fighter/Steve-Bosse-22732 1452 \t https://www.sherdog.com/fighter/Joe-Merritt-138127 1453 \t https://www.sherdog.com/fighter/Lewis-Gonzalez-84278 1454 \t https://www.sherdog.com/fighter/Tony-Sims-30021 1455 \t https://www.sherdog.com/fighter/Steve-Montgomery-49092 1456 \t https://www.sherdog.com/fighter/Sirwan-Kakai-21446 1457 \t https://www.sherdog.com/fighter/Kamaru-Usman-120691 1458 \t https://www.sherdog.com/fighter/Hayder-Hassan-46033 1459 \t https://www.sherdog.com/fighter/Michael-Graves-64989 1460 \t https://www.sherdog.com/fighter/Vicente-Luque-66474 1461 \t https://www.sherdog.com/fighter/Michelle-Waterson-23091 1462 \t https://www.sherdog.com/fighter/Dominic-Waters-68971 1463 \t https://www.sherdog.com/fighter/Lyman-Good-14207 1464 \t https://www.sherdog.com/fighter/Cortney-Casey-91121 1465 \t https://www.sherdog.com/fighter/Teemu-Packalen-92415 1466 \t https://www.sherdog.com/fighter/Jimmie-Rivera-40954 1467 \t https://www.sherdog.com/fighter/Chris-de-la-Rocha-146377 1468 \t https://www.sherdog.com/fighter/Andrew-Holbrook-78384 1469 \t https://www.sherdog.com/fighter/Dominique-Steele-47845 1470 \t https://www.sherdog.com/fighter/Glaico-Franca-117927 1471 \t https://www.sherdog.com/fighter/Fernando-Bruno-25491 1472 \t https://www.sherdog.com/fighter/Reginaldo-Vieira-52454 1473 \t https://www.sherdog.com/fighter/Dileno-Lopes-29635 1474 \t https://www.sherdog.com/fighter/Jessica-Aguilar-15174 1475 \t https://www.sherdog.com/fighter/Geane-Herrera-79290 1476 \t https://www.sherdog.com/fighter/Oluwale-Bamgbose-103153 1477 \t https://www.sherdog.com/fighter/Jonathan-Wilson-108571 1478 \t https://www.sherdog.com/fighter/Scott-Holtzman-78210 1479 \t https://www.sherdog.com/fighter/Misha-Cirkunov-59197 1480 \t https://www.sherdog.com/fighter/Daniel-Jolly-83243 1481 \t https://www.sherdog.com/fighter/Joaquim-Silva-146291 1482 \t https://www.sherdog.com/fighter/Nazareno-Malegarie-33115 1483 \t https://www.sherdog.com/fighter/Teruto-Ishihara-78898 1484 \t https://www.sherdog.com/fighter/Yusuke-Kasuya-63414 1485 \t https://www.sherdog.com/fighter/Roger-Zapata-81585 1486 \t https://www.sherdog.com/fighter/Sage-Northcutt-130911 1487 \t https://www.sherdog.com/fighter/Matheus-Nicolau-Pereira-69341 1488 \t https://www.sherdog.com/fighter/Bruno-Rodrigues-Mesquita-57480 1489 \t https://www.sherdog.com/fighter/Anton-Zafir-86294 1490 \t https://www.sherdog.com/fighter/Erick-Montano-40308 1491 \t https://www.sherdog.com/fighter/Enrique-Marin-27077 1492 \t https://www.sherdog.com/fighter/Enrique-Barzola-129351 1493 \t https://www.sherdog.com/fighter/Horacio-Gutierrez-172941 1494 \t https://www.sherdog.com/fighter/Alvaro-Herrera-44627 1495 \t https://www.sherdog.com/fighter/Vernon-Ramos-100921 1496 \t https://www.sherdog.com/fighter/Marco-Polo-Reyes-114125 1497 \t https://www.sherdog.com/fighter/Cesar-Arzamendia-87012 1498 \t https://www.sherdog.com/fighter/Dong-Hyun-Ma-21673 1499 \t https://www.sherdog.com/fighter/Danny-Roberts-64677 1500 \t https://www.sherdog.com/fighter/Nathan-Coy-25412 1501 \t https://www.sherdog.com/fighter/Ryan-Hall-15962 1502 \t https://www.sherdog.com/fighter/Artem-Lobov-73700 1503 \t https://www.sherdog.com/fighter/Jason-Knight-44957 1504 \t https://www.sherdog.com/fighter/Julian-Erosa-71442 1505 \t https://www.sherdog.com/fighter/Marcin-Wrzosek-85623 1506 \t https://www.sherdog.com/fighter/Chris-Gruetzemacher-36924 1507 \t https://www.sherdog.com/fighter/Abner-Lloveras-11729 1508 \t https://www.sherdog.com/fighter/Jocelyn-JonesLybarger-68957 1509 \t https://www.sherdog.com/fighter/Karolina-Kowalkiewicz-101401 1510 \t https://www.sherdog.com/fighter/Valentina-Shevchenko-45384 1511 \t https://www.sherdog.com/fighter/Francis-Ngannou-152341 1512 \t https://www.sherdog.com/fighter/Luis-Henrique-Barbosa-de-Oliveira-6608 1513 \t https://www.sherdog.com/fighter/Alex-Morono-64894 1514 \t https://www.sherdog.com/fighter/Justine-Kish-67098 1515 \t https://www.sherdog.com/fighter/Mehdi-Baghdad-41993 1516 \t https://www.sherdog.com/fighter/Luke-Sanders-74975 1517 \t https://www.sherdog.com/fighter/Kyle-Bochniak-86246 1518 \t https://www.sherdog.com/fighter/Joey-Gomez-64975 1519 \t https://www.sherdog.com/fighter/Elvis-Mutapcic-28038 1520 \t https://www.sherdog.com/fighter/Randy-Brown-115641 1521 \t https://www.sherdog.com/fighter/Felipe-Olivieri-28181 1522 \t https://www.sherdog.com/fighter/Alex-Nicholson-121077 1523 \t https://www.sherdog.com/fighter/Damian-Grabowski-30320 1524 \t https://www.sherdog.com/fighter/Mickey-Gall-160145 1525 \t https://www.sherdog.com/fighter/Mike-Jackson-63272 1526 \t https://www.sherdog.com/fighter/Augusto-Mendes-160663 1527 \t https://www.sherdog.com/fighter/Leonardo-Guimaraes-14971 1528 \t https://www.sherdog.com/fighter/Kelly-Faszholz-117453 1529 \t https://www.sherdog.com/fighter/Jarjis-Danho-76397 1530 \t https://www.sherdog.com/fighter/Thibault-Gouti-124975 1531 \t https://www.sherdog.com/fighter/David-Teymur-163937 1532 \t https://www.sherdog.com/fighter/Martin-Svensson-31065 1533 \t https://www.sherdog.com/fighter/Damien-Brown-62243 1534 \t https://www.sherdog.com/fighter/Curtis-Blaydes-172939 1535 \t https://www.sherdog.com/fighter/Marcin-Tybura-86928 1536 \t https://www.sherdog.com/fighter/Cristina-Stanciu-179481 1537 \t https://www.sherdog.com/fighter/Damir-Hadzovic-56139 1538 \t https://www.sherdog.com/fighter/Filip-Pejic-85664 1539 \t https://www.sherdog.com/fighter/Cyril-Asker-94411 1540 \t https://www.sherdog.com/fighter/Bojan-Velickovic-76620 1541 \t https://www.sherdog.com/fighter/Alessio-Di-Chirico-89875 1542 \t https://www.sherdog.com/fighter/Darrell-Horcher-47899 1543 \t https://www.sherdog.com/fighter/Cody-East-33359 1544 \t https://www.sherdog.com/fighter/Anna-Elmose-162539 1545 \t https://www.sherdog.com/fighter/Josh-Emmett-85885 1546 \t https://www.sherdog.com/fighter/Cristiane-Justino-14477 1547 \t https://www.sherdog.com/fighter/Luan-Chagas-113505 1548 \t https://www.sherdog.com/fighter/Jordan-Rinaldi-53815 1549 \t https://www.sherdog.com/fighter/Alberto-Emiliano-Pereira-77297 1550 \t https://www.sherdog.com/fighter/Adam-Milstead-60258 1551 \t https://www.sherdog.com/fighter/Henrique-da-Silva-175493 1552 \t https://www.sherdog.com/fighter/Ion-Cutelaba-101427 1553 \t https://www.sherdog.com/fighter/Jonathan-Meunier-146567 1554 \t https://www.sherdog.com/fighter/Belal-Muhammad-108315 1555 \t https://www.sherdog.com/fighter/Andrew-Sanchez-105321 1556 \t https://www.sherdog.com/fighter/Khalil-Rountree-77674 1557 \t https://www.sherdog.com/fighter/Tatiana-Suarez-161107 1558 \t https://www.sherdog.com/fighter/Amanda-Bobby-Cooper-138223 1559 \t https://www.sherdog.com/fighter/Will-Brooks-76241 1560 \t https://www.sherdog.com/fighter/Josh-Stansbury-18495 1561 \t https://www.sherdog.com/fighter/Cory-Hendricks-87323 1562 \t https://www.sherdog.com/fighter/Lando-Vannata-82446 1563 \t https://www.sherdog.com/fighter/Katlyn-Chookagian-119071 "
     ]
    },
    {
     "name": "stdout",
     "output_type": "stream",
     "text": [
      "1564 \t https://www.sherdog.com/fighter/Eric-Spicely-63723 1565 \t https://www.sherdog.com/fighter/Matthew-Lopez-136139 1566 \t https://www.sherdog.com/fighter/Devin-Clark-72777 1567 \t https://www.sherdog.com/fighter/Bojan-Mihajlovic-12400 1568 \t https://www.sherdog.com/fighter/JC-Cottrell-43874 1569 \t https://www.sherdog.com/fighter/Dmitry-Smoliakov-125781 1570 \t https://www.sherdog.com/fighter/Hector-Sandoval-35409 1571 \t https://www.sherdog.com/fighter/Joe-Gigliotti-160679 1572 \t https://www.sherdog.com/fighter/Danielle-Taylor-123439 1573 \t https://www.sherdog.com/fighter/Jason-Novelli-18136 1574 \t https://www.sherdog.com/fighter/Justin-Ledet-72052 1575 \t https://www.sherdog.com/fighter/Chase-Sherman-159319 1576 \t https://www.sherdog.com/fighter/Mike-Perry-176179 1577 \t https://www.sherdog.com/fighter/Sabah-Homasi-47068 1578 \t https://www.sherdog.com/fighter/Chris-Avila-155641 1579 \t https://www.sherdog.com/fighter/Max-Griffin-53904 1580 \t https://www.sherdog.com/fighter/Marvin-Vettori-80421 1581 \t https://www.sherdog.com/fighter/Felipe-Silva-128357 1582 \t https://www.sherdog.com/fighter/Jeremy-Kennedy-104645 1583 \t https://www.sherdog.com/fighter/Alessandro-Ricci-74266 1584 \t https://www.sherdog.com/fighter/Jessin-Ayari-55449 1585 \t https://www.sherdog.com/fighter/Jim-Wallhead-12903 1586 \t https://www.sherdog.com/fighter/Veronica-Macedo-180217 1587 \t https://www.sherdog.com/fighter/Christian-Colombo-55092 1588 \t https://www.sherdog.com/fighter/Jack-Hermansson-61146 1589 \t https://www.sherdog.com/fighter/Phil-Brooks-184933 1590 \t https://www.sherdog.com/fighter/Michael-McBride-109357 1591 \t https://www.sherdog.com/fighter/Jason-Gonzalez-66736 1592 \t https://www.sherdog.com/fighter/Rick-Glenn-20171 1593 \t https://www.sherdog.com/fighter/Albert-Morales-161099 1594 \t https://www.sherdog.com/fighter/Lina-Lansberg-122387 1595 \t https://www.sherdog.com/fighter/Gregor-Gillespie-111701 1596 \t https://www.sherdog.com/fighter/Zak-Ottow-100359 1597 \t https://www.sherdog.com/fighter/Brandon-Moreno-80173 1598 \t https://www.sherdog.com/fighter/Joachim-Christensen-31777 1599 \t https://www.sherdog.com/fighter/Ketlen-Vieira-178961 1600 \t https://www.sherdog.com/fighter/Marc-Diakiese-111545 1601 \t https://www.sherdog.com/fighter/Marcin-Held-47065 1602 \t https://www.sherdog.com/fighter/Martin-Bravo-99699 1603 \t https://www.sherdog.com/fighter/Claudio-Puelles-105897 1604 \t https://www.sherdog.com/fighter/Alexa-Grasso-142845 1605 \t https://www.sherdog.com/fighter/Alexander-Volkov-40951 1606 \t https://www.sherdog.com/fighter/Jack-Marshman-47545 1607 \t https://www.sherdog.com/fighter/Mark-Godbeer-54637 1608 \t https://www.sherdog.com/fighter/Brett-Johns-92891 1609 \t https://www.sherdog.com/fighter/Kwan-Ho-Kwak-156471 1610 \t https://www.sherdog.com/fighter/Abdul-Razak-Alhassan-151701 1611 \t https://www.sherdog.com/fighter/Charlie-Ward-163615 1612 \t https://www.sherdog.com/fighter/Gadzhimurad-Antigulov-55325 1613 \t https://www.sherdog.com/fighter/Darren-Stewart-128141 1614 \t https://www.sherdog.com/fighter/Alexander-Volkanovski-101527 1615 \t https://www.sherdog.com/fighter/Tyson-Pedro-146831 1616 \t https://www.sherdog.com/fighter/Jenel-Lausa-86123 1617 \t https://www.sherdog.com/fighter/Matt-Schnell-47006 1618 \t https://www.sherdog.com/fighter/Jamie-Moyle-85597 1619 \t https://www.sherdog.com/fighter/Saparbek-Safarov-76834 1620 \t https://www.sherdog.com/fighter/Ashley-Yoder-39298 1621 \t https://www.sherdog.com/fighter/Brian-Camozzi-101093 1622 \t https://www.sherdog.com/fighter/Gerald-Meerschaert-21501 1623 \t https://www.sherdog.com/fighter/Shane-Burgos-76052 1624 \t https://www.sherdog.com/fighter/Ryan-Janes-40126 1625 \t https://www.sherdog.com/fighter/JJ-Aldrich-75565 1626 \t https://www.sherdog.com/fighter/Emil-Meek-66143 1627 \t https://www.sherdog.com/fighter/Viviane-Pereira-136367 1628 \t https://www.sherdog.com/fighter/Paul-Craig-110167 1629 \t https://www.sherdog.com/fighter/Irene-Aldana-148377 1630 \t https://www.sherdog.com/fighter/Niko-Price-96921 1631 \t https://www.sherdog.com/fighter/Drakkar-Klose-84568 1632 \t https://www.sherdog.com/fighter/Devin-Powell-64166 1633 \t https://www.sherdog.com/fighter/Bobby-Nash-75423 1634 \t https://www.sherdog.com/fighter/Jordan-Johnson-124405 1635 \t https://www.sherdog.com/fighter/Jeremy-Kimball-59375 1636 \t https://www.sherdog.com/fighter/Alexandre-Pantoja-25023 1637 \t https://www.sherdog.com/fighter/Eric-Shelton-86414 1638 \t https://www.sherdog.com/fighter/Volkan-Oezdemir-58503 1639 \t https://www.sherdog.com/fighter/Marcel-Fortuna-79995 1640 \t https://www.sherdog.com/fighter/Ricardo-Ramos-121143 1641 \t https://www.sherdog.com/fighter/Gavin-Tucker-78469 1642 \t https://www.sherdog.com/fighter/Gina-Mazany-36287 1643 \t https://www.sherdog.com/fighter/Aiemann-Zahabi-121009 1644 \t https://www.sherdog.com/fighter/Cynthia-Calvillo-93095 1645 \t https://www.sherdog.com/fighter/Daniel-Spitz-172211 1646 \t https://www.sherdog.com/fighter/Andre-Soukhamthath-67967 1647 \t https://www.sherdog.com/fighter/Davi-Ramos-101995 1648 \t https://www.sherdog.com/fighter/Paulo-Henrique-Costa-147165 1649 \t https://www.sherdog.com/fighter/Lucie-Pudilova-159569 1650 \t https://www.sherdog.com/fighter/Pearl-Gonzalez-90485 1651 \t https://www.sherdog.com/fighter/Desmond-Green-89993 1652 \t https://www.sherdog.com/fighter/Magomed-Bibulatov-141553 1653 \t https://www.sherdog.com/fighter/Tom-Duquesnoy-92239 1654 \t https://www.sherdog.com/fighter/Cindy-Dandois-42457 1655 \t https://www.sherdog.com/fighter/Rashad-Coulter-81719 1656 \t https://www.sherdog.com/fighter/Oliver-Enkamp-122281 1657 \t https://www.sherdog.com/fighter/Marlon-Moraes-30936 1658 \t https://www.sherdog.com/fighter/Brian-Kelleher-53666 1659 \t https://www.sherdog.com/fighter/Deiveson-Figueiredo-110485 1660 \t https://www.sherdog.com/fighter/Luke-Jumeau-52853 1661 \t https://www.sherdog.com/fighter/Ashkan-Mokhtarian-144015 1662 \t https://www.sherdog.com/fighter/Chanmi-Jeon-128633 1663 \t https://www.sherdog.com/fighter/Rolando-Dy-87380 1664 \t https://www.sherdog.com/fighter/Frank-Camacho-22114 1665 \t https://www.sherdog.com/fighter/Naoki-Inoue-158487 1666 \t https://www.sherdog.com/fighter/Carls-John-de-Tomas-198787 1667 \t https://www.sherdog.com/fighter/Ji-Yeon-Kim-77250 1668 \t https://www.sherdog.com/fighter/Dominick-Reyes-145941 1669 \t https://www.sherdog.com/fighter/Jared-Gordon-74057 1670 \t https://www.sherdog.com/fighter/Michel-Quinones-75509 1671 \t https://www.sherdog.com/fighter/Justin-Gaethje-46648 1672 \t https://www.sherdog.com/fighter/Nick-Roehrick-189015 1673 \t https://www.sherdog.com/fighter/Tom-Gallicchio-17843 1674 \t https://www.sherdog.com/fighter/Cody-Stamann-61896 1675 \t https://www.sherdog.com/fighter/Terrion-Ware-106755 1676 \t https://www.sherdog.com/fighter/Trevin-Giles-111237 1677 \t https://www.sherdog.com/fighter/James-Bochnovic-130011 1678 \t https://www.sherdog.com/fighter/Justin-Willis-63873 1679 \t https://www.sherdog.com/fighter/James-Mulheron-63627 1680 \t https://www.sherdog.com/fighter/Galore-Bofando-59466 1681 \t https://www.sherdog.com/fighter/Danny-Henry-59830 1682 \t https://www.sherdog.com/fighter/Daniel-Teymur-163939 1683 \t https://www.sherdog.com/fighter/Amanda-Lemos-173973 1684 \t https://www.sherdog.com/fighter/Eryk-Anders-93407 1685 \t https://www.sherdog.com/fighter/Junior-Albini-67923 1686 \t https://www.sherdog.com/fighter/Tonya-Evinger-18248 1687 \t https://www.sherdog.com/fighter/Calvin-Kattar-23782 1688 \t https://www.sherdog.com/fighter/Jarred-Brooks-174665 1689 \t https://www.sherdog.com/fighter/Humberto-Bandenay-110397 1690 \t https://www.sherdog.com/fighter/Joseph-Morales-123553 1691 \t https://www.sherdog.com/fighter/Roberto-Sanchez-83282 1692 \t https://www.sherdog.com/fighter/Rob-Wilkinson-86279 1693 \t https://www.sherdog.com/fighter/Talita-Bernardo-186831 1694 \t https://www.sherdog.com/fighter/Mads-Burnell-84910 1695 \t https://www.sherdog.com/fighter/Aleksandar-Rakic-86829 1696 \t https://www.sherdog.com/fighter/Zabit-Magomedsharipov-114261 1697 \t https://www.sherdog.com/fighter/Mike-Santiago-66110 1698 \t https://www.sherdog.com/fighter/AbdulKerim-Edilov-63045 1699 \t https://www.sherdog.com/fighter/Arjan-Singh-Bhullar-175321 1700 \t https://www.sherdog.com/fighter/Alex-Reyes-24199 "
     ]
    },
    {
     "name": "stdout",
     "output_type": "stream",
     "text": [
      "1701 \t https://www.sherdog.com/fighter/Azunna-Anyanwu-68352 1702 \t https://www.sherdog.com/fighter/Gokhan-Saki-10925 1703 \t https://www.sherdog.com/fighter/Syuri-Kondo-216929 1704 \t https://www.sherdog.com/fighter/Daichi-Abe-191861 1705 \t https://www.sherdog.com/fighter/Mara-Romero-Borella-164915 1706 \t https://www.sherdog.com/fighter/Kalindra-Faria-48080 1707 \t https://www.sherdog.com/fighter/Poliana-Botelho-164275 1708 \t https://www.sherdog.com/fighter/Jodie-Esquibel-66876 1709 \t https://www.sherdog.com/fighter/Oskar-Piechota-77303 1710 \t https://www.sherdog.com/fighter/Nasrat-Haqparast-122581 1711 \t https://www.sherdog.com/fighter/Ramazan-Emeev-72356 1712 \t https://www.sherdog.com/fighter/Salim-Touahri-73527 1713 \t https://www.sherdog.com/fighter/Aspen-Ladd-141393 1714 \t https://www.sherdog.com/fighter/Marcelo-Golm-190735 1715 \t https://www.sherdog.com/fighter/Karl-Roberson-132605 1716 \t https://www.sherdog.com/fighter/JessicaRose-Clark-115991 1717 \t https://www.sherdog.com/fighter/Shane-Young-84215 1718 \t https://www.sherdog.com/fighter/Tai-Tuivasa-133745 1719 \t https://www.sherdog.com/fighter/Nadia-Kassem-214579 1720 \t https://www.sherdog.com/fighter/Adam-Wieczorek-86930 1721 \t https://www.sherdog.com/fighter/Guan-Wang-26368 1722 \t https://www.sherdog.com/fighter/Muslim-Salikhov-129929 1723 \t https://www.sherdog.com/fighter/Sheymon-Moraes-93951 1724 \t https://www.sherdog.com/fighter/Kenan-Song-181737 1725 \t https://www.sherdog.com/fighter/Xiaonan-Yan-67828 1726 \t https://www.sherdog.com/fighter/Yadong-Song-103807 1727 \t https://www.sherdog.com/fighter/Bharat-Khandare-86855 1728 \t https://www.sherdog.com/fighter/Yanan-Wu-203195 1729 \t https://www.sherdog.com/fighter/Wuliji-Buren-160545 1730 \t https://www.sherdog.com/fighter/Yaozong-Hu-251779 1731 \t https://www.sherdog.com/fighter/Nicco-Montano-138319 1732 \t https://www.sherdog.com/fighter/Sean-OMalley-135099 1733 \t https://www.sherdog.com/fighter/Barb-Honchak-41484 1734 \t https://www.sherdog.com/fighter/DeAnna-Bennett-75456 1735 \t https://www.sherdog.com/fighter/Melinda-Fabian-198055 1736 \t https://www.sherdog.com/fighter/Montana-De-La-Rosa-175479 1737 \t https://www.sherdog.com/fighter/Christina-Marks-49840 1738 \t https://www.sherdog.com/fighter/Rachael-Ostovich-69142 1739 \t https://www.sherdog.com/fighter/Karine-Gevorgyan-180823 1740 \t https://www.sherdog.com/fighter/Shana-Dobson-222841 1741 \t https://www.sherdog.com/fighter/Ariel-Beck-157211 1742 \t https://www.sherdog.com/fighter/Gillian-Robertson-219015 1743 \t https://www.sherdog.com/fighter/Emily-Whitmire-61380 1744 \t https://www.sherdog.com/fighter/Allen-Crowder-157353 1745 \t https://www.sherdog.com/fighter/Markus-Perez-131219 1746 \t https://www.sherdog.com/fighter/Benito-Lopez-122711 1747 \t https://www.sherdog.com/fighter/Alex-Perez-12443 1748 \t https://www.sherdog.com/fighter/Merab-Dvalishvili-157355 1749 \t https://www.sherdog.com/fighter/Julian-Marquez-77743 1750 \t https://www.sherdog.com/fighter/Michal-Oleksiejczuk-156397 1751 \t https://www.sherdog.com/fighter/Mark-De-La-Rosa-151745 1752 \t https://www.sherdog.com/fighter/Matt-Frevola-100247 1753 \t https://www.sherdog.com/fighter/Brandon-Davis-67782 1754 \t https://www.sherdog.com/fighter/Julio-Arce-71299 1755 \t https://www.sherdog.com/fighter/Dan-Ige-136499 1756 \t https://www.sherdog.com/fighter/Matt-Bessette-34374 1757 \t https://www.sherdog.com/fighter/Cory-Sandhagen-112869 1758 \t https://www.sherdog.com/fighter/Austin-Arnett-57016 1759 \t https://www.sherdog.com/fighter/Priscila-Cachoeira-227399 1760 \t https://www.sherdog.com/fighter/Polyana-Viana-153951 1761 \t https://www.sherdog.com/fighter/Maia-KahaunaeleStevenson-91345 1762 \t https://www.sherdog.com/fighter/Israel-Adesanya-56374 1763 \t https://www.sherdog.com/fighter/Curtis-Millender-127439 1764 \t https://www.sherdog.com/fighter/Steven-Peterson-60433 1765 \t https://www.sherdog.com/fighter/Geoff-Neal-72107 1766 \t https://www.sherdog.com/fighter/Tim-Williams-55756 1767 \t https://www.sherdog.com/fighter/Marcin-Prachnio-141251 1768 \t https://www.sherdog.com/fighter/Manny-Bermudez-112009 1769 \t https://www.sherdog.com/fighter/Yana-Kunitskaya-49412 1770 \t https://www.sherdog.com/fighter/Mackenzie-Dern-137171 1771 \t https://www.sherdog.com/fighter/Alexander-Hernandez-97669 1772 \t https://www.sherdog.com/fighter/Charles-Byrd-51234 1773 \t https://www.sherdog.com/fighter/John-Phillips-13470 1774 \t https://www.sherdog.com/fighter/Hakeem-Dawodu-158725 1775 \t https://www.sherdog.com/fighter/Magomed-Ankalaev-170785 1776 \t https://www.sherdog.com/fighter/Dmitriy-Sosnovskiy-116389 1777 \t https://www.sherdog.com/fighter/Mike-Rodriguez-107891 1778 \t https://www.sherdog.com/fighter/Ricky-Rainey-68769 1779 \t https://www.sherdog.com/fighter/Dan-Moret-52514 1780 \t https://www.sherdog.com/fighter/Lauren-Mueller-202159 1781 \t https://www.sherdog.com/fighter/Ricky-Simon-111209 1782 \t https://www.sherdog.com/fighter/Andrea-Lee-149037 1783 \t https://www.sherdog.com/fighter/Craig-White-47948 1784 \t https://www.sherdog.com/fighter/Carlo-Pedersoli-Jr-168505 1785 \t https://www.sherdog.com/fighter/Molly-McCann-150485 1786 \t https://www.sherdog.com/fighter/Sijara-Eubanks-193533 1787 \t https://www.sherdog.com/fighter/Chance-Rencountre-143911 1788 \t https://www.sherdog.com/fighter/Nathaniel-Wood-82395 1789 \t https://www.sherdog.com/fighter/Jose-Torres-171605 1790 \t https://www.sherdog.com/fighter/Megan-Anderson-149769 1791 \t https://www.sherdog.com/fighter/Petr-Yan-186873 1792 \t https://www.sherdog.com/fighter/Hector-Aldana-82725 1793 \t https://www.sherdog.com/fighter/Michael-Trizano-163551 1794 \t https://www.sherdog.com/fighter/Joe-Giannetti-176087 1795 \t https://www.sherdog.com/fighter/Brad-Katona-66518 1796 \t https://www.sherdog.com/fighter/Jay-Cucciniello-61607 1797 \t https://www.sherdog.com/fighter/Luis-Pena-174693 1798 \t https://www.sherdog.com/fighter/Richie-Smullen-136361 1799 \t https://www.sherdog.com/fighter/John-Gunther-86098 1800 \t https://www.sherdog.com/fighter/Allan-Zuniga-57253 1801 \t https://www.sherdog.com/fighter/Bryce-Mitchell-151837 1802 \t https://www.sherdog.com/fighter/Tyler-Diamond-143121 1803 \t https://www.sherdog.com/fighter/Blagoy-Ivanov-50154 1804 \t https://www.sherdog.com/fighter/Said-Nurmagomedov-103961 1805 \t https://www.sherdog.com/fighter/Raoni-Barcelos-94587 1806 \t https://www.sherdog.com/fighter/Jennifer-Maia-57135 1807 \t https://www.sherdog.com/fighter/Elias-Garcia-71080 1808 \t https://www.sherdog.com/fighter/Abu-Azaitar-55936 1809 \t https://www.sherdog.com/fighter/David-Zawada-72910 1810 \t https://www.sherdog.com/fighter/Nad-Narimani-67643 1811 \t https://www.sherdog.com/fighter/Khalid-Taha-117849 1812 \t https://www.sherdog.com/fighter/Darko-Stosic-107757 1813 \t https://www.sherdog.com/fighter/Pingyuan-Liu-83520 1814 \t https://www.sherdog.com/fighter/Kevin-Holland-108999 1815 \t https://www.sherdog.com/fighter/Montel-Jackson-206717 1816 \t https://www.sherdog.com/fighter/Matt-Sayles-93675 1817 \t https://www.sherdog.com/fighter/Weili-Zhang-186663 1818 \t https://www.sherdog.com/fighter/Alexey-Kunchenko-140641 1819 \t https://www.sherdog.com/fighter/Khalid-Murtazaliev-186791 1820 \t https://www.sherdog.com/fighter/Jin-Soo-Son-168171 1821 \t https://www.sherdog.com/fighter/Adam-Yandiev-186189 1822 \t https://www.sherdog.com/fighter/Stefan-Sekulic-151125 1823 \t https://www.sherdog.com/fighter/Andre-Ewell-204397 1824 \t https://www.sherdog.com/fighter/Marina-Rodriguez-193977 1825 \t https://www.sherdog.com/fighter/Ryan-Spann-68057 1826 \t https://www.sherdog.com/fighter/Augusto-Sakai-87303 1827 \t https://www.sherdog.com/fighter/Mayra-Bueno-Silva-223917 1828 \t https://www.sherdog.com/fighter/Luigi-Vendramini-225223 1829 \t https://www.sherdog.com/fighter/Livinha-Souza-128267 1830 \t https://www.sherdog.com/fighter/Jalin-Turner-158269 1831 \t https://www.sherdog.com/fighter/Jonathan-Martinez-124959 1832 \t https://www.sherdog.com/fighter/Chris-Fishgold-50861 1833 \t https://www.sherdog.com/fighter/Don-Madge-86651 1834 \t https://www.sherdog.com/fighter/Te-Edwards-156303 1835 \t https://www.sherdog.com/fighter/Thiago-Moises-130351 1836 \t https://www.sherdog.com/fighter/Maycee-Barber-253613 1837 \t https://www.sherdog.com/fighter/Hannah-Cifers-117571 "
     ]
    },
    {
     "name": "stdout",
     "output_type": "stream",
     "text": [
      "1838 \t https://www.sherdog.com/fighter/Bobby-Moffett-159019 1839 \t https://www.sherdog.com/fighter/Devonte-Smith-89163 1840 \t https://www.sherdog.com/fighter/Johnny-Walker-170203 1841 \t https://www.sherdog.com/fighter/Ian-Heinisch-187341 1842 \t https://www.sherdog.com/fighter/Laureano-Staropoli-141271 1843 \t https://www.sherdog.com/fighter/Jesus-Pinedo-146941 1844 \t https://www.sherdog.com/fighter/Anderson-dos-Santos-95053 1845 \t https://www.sherdog.com/fighter/Sergei-Pavlovich-184051 1846 \t https://www.sherdog.com/fighter/Vince-Morales-177019 1847 \t https://www.sherdog.com/fighter/Martin-Day-155883 1848 \t https://www.sherdog.com/fighter/Su-Mudaerji-228263 1849 \t https://www.sherdog.com/fighter/Juan-Francisco-Espino-Dieppa-249511 1850 \t https://www.sherdog.com/fighter/Justin-Frazier-77208 1851 \t https://www.sherdog.com/fighter/Macy-Chiasson-190279 1852 \t https://www.sherdog.com/fighter/Pannie-Kianzad-99523 1853 \t https://www.sherdog.com/fighter/Edmen-Shahbazyan-247691 1854 \t https://www.sherdog.com/fighter/Antonina-Shevchenko-45389 1855 \t https://www.sherdog.com/fighter/Kevin-Aguilar-57838 1856 \t https://www.sherdog.com/fighter/Maurice-Greene-85198 1857 \t https://www.sherdog.com/fighter/Michel-Batista-217891 1858 \t https://www.sherdog.com/fighter/Leah-Letson-150829 1859 \t https://www.sherdog.com/fighter/Julija-Stoliarenko-143533 1860 \t https://www.sherdog.com/fighter/Roosevelt-Roberts-191653 1861 \t https://www.sherdog.com/fighter/Chris-Gutierrez-59736 1862 \t https://www.sherdog.com/fighter/Sodiq-Yusuff-152359 1863 \t https://www.sherdog.com/fighter/Suman-Mokhtarian-154079 1864 \t https://www.sherdog.com/fighter/Jim-Crute-218959 1865 \t https://www.sherdog.com/fighter/Kai-KaraFrance-73692 1866 \t https://www.sherdog.com/fighter/Damir-Ismagulov-181183 1867 \t https://www.sherdog.com/fighter/Alex-Gorgees-222785 1868 \t https://www.sherdog.com/fighter/Kyle-Nelson-95383 1869 \t https://www.sherdog.com/fighter/Dwight-Grant-68983 1870 \t https://www.sherdog.com/fighter/Jordan-Griffin-56524 1871 \t https://www.sherdog.com/fighter/Juan-Adams-239097 1872 \t https://www.sherdog.com/fighter/Bevon-Lewis-211153 1873 \t https://www.sherdog.com/fighter/Greg-Hardy-271461 1874 \t https://www.sherdog.com/fighter/Ariane-Lipski-147487 1875 \t https://www.sherdog.com/fighter/Alonzo-Menifield-210501 1876 \t https://www.sherdog.com/fighter/Vinicius-Moreira-207291 1877 \t https://www.sherdog.com/fighter/Mario-Bautista-128107 1878 \t https://www.sherdog.com/fighter/Kyle-Stewart-102333 1879 \t https://www.sherdog.com/fighter/Sarah-Frota-222541 1880 \t https://www.sherdog.com/fighter/Anthony-Hernandez-86783 1881 \t https://www.sherdog.com/fighter/Taila-Santos-143185 1882 \t https://www.sherdog.com/fighter/Jairzinho-Rozenstruik-102803 1883 \t https://www.sherdog.com/fighter/Geraldo-de-Freitas-Jr-107229 1884 \t https://www.sherdog.com/fighter/Felipe-Dias-Colares-144701 1885 \t https://www.sherdog.com/fighter/Rogerio-Bontorin-132211 1886 \t https://www.sherdog.com/fighter/Marcos-Mariano-182785 1887 \t https://www.sherdog.com/fighter/Raulian-Paiva-167575 1888 \t https://www.sherdog.com/fighter/Callan-Potter-105689 1889 \t https://www.sherdog.com/fighter/Kron-Gracie-116971 1890 \t https://www.sherdog.com/fighter/Klidson-Abreu-111535 1891 \t https://www.sherdog.com/fighter/Ismail-Naurdiev-168833 1892 \t https://www.sherdog.com/fighter/Joel-Alvarez-190201 1893 \t https://www.sherdog.com/fighter/Ben-Askren-42390 1894 \t https://www.sherdog.com/fighter/Grant-Dawson-103525 1895 \t https://www.sherdog.com/fighter/Jeff-Hughes-23793 1896 \t https://www.sherdog.com/fighter/Nicolae-Negumereanu-237147 1897 \t https://www.sherdog.com/fighter/Mike-Grundy-84263 1898 \t https://www.sherdog.com/fighter/Ryan-MacDonald-116955 1899 \t https://www.sherdog.com/fighter/Jordan-Espinosa-64942 1900 \t https://www.sherdog.com/fighter/Kennedy-Nzechukwu-212289 1901 \t https://www.sherdog.com/fighter/Casey-Kenney-211031 1902 \t https://www.sherdog.com/fighter/Sabina-Mazo-190501 1903 \t https://www.sherdog.com/fighter/Zelim-Imadaev-232055 1904 \t https://www.sherdog.com/fighter/Boston-Salmon-131463 1905 \t https://www.sherdog.com/fighter/Randy-Costa-189731 1906 \t https://www.sherdog.com/fighter/Arman-Tsarukyan-213913 1907 \t https://www.sherdog.com/fighter/Alen-Amedovski-134209 1908 \t https://www.sherdog.com/fighter/Movsar-Evloev-183539 1909 \t https://www.sherdog.com/fighter/Sung-Woo-Choi-205299 1910 \t https://www.sherdog.com/fighter/Alex-da-Silva-Coelho-153799 1911 \t https://www.sherdog.com/fighter/Rafael-Fiziev-202657 1912 \t https://www.sherdog.com/fighter/Thomas-Gifford-74695 1913 \t https://www.sherdog.com/fighter/Takashi-Sato-147403 1914 \t https://www.sherdog.com/fighter/Virna-Jandiroba-137557 1915 \t https://www.sherdog.com/fighter/Mike-Davis-202169 1916 \t https://www.sherdog.com/fighter/Sergey-Spivak-179095 1917 \t https://www.sherdog.com/fighter/MarcAndre-Barriault-170803 1918 \t https://www.sherdog.com/fighter/Kyle-Prepolec-80613 1919 \t https://www.sherdog.com/fighter/Cole-Smith-153345 1920 \t https://www.sherdog.com/fighter/Luana-Carolina-189719 1921 \t https://www.sherdog.com/fighter/Carlos-Huachin-177353 1922 \t https://www.sherdog.com/fighter/Viviane-Araujo-200603 "
     ]
    }
   ],
   "source": [
    "get_information_about_all_fighters(fighters_links)"
   ]
  },
  {
   "cell_type": "code",
   "execution_count": 18,
   "metadata": {
    "ExecuteTime": {
     "end_time": "2019-05-23T17:09:05.111107Z",
     "start_time": "2019-05-23T17:09:05.108114Z"
    }
   },
   "outputs": [
    {
     "data": {
      "text/plain": [
       "1923"
      ]
     },
     "execution_count": 18,
     "metadata": {},
     "output_type": "execute_result"
    }
   ],
   "source": [
    "len(fighters)"
   ]
  },
  {
   "cell_type": "code",
   "execution_count": 20,
   "metadata": {
    "ExecuteTime": {
     "end_time": "2019-05-23T17:09:21.484117Z",
     "start_time": "2019-05-23T17:09:21.475120Z"
    }
   },
   "outputs": [
    {
     "data": {
      "text/plain": [
       "{'Name': 'Michal Oleksiejczuk',\n",
       " 'Nickname': '\"Lord\"',\n",
       " 'Birth date': '1995-02-22',\n",
       " 'Height': '182.88',\n",
       " 'Record': {'wins': '14', 'loses': '2', 'draws': '', 'nc': '1'},\n",
       " 'Affiliation': 'Gornik Leczna',\n",
       " 'Nationality': 'Poland',\n",
       " 'Location region': '',\n",
       " 'Location city': 'Barki',\n",
       " 'Weight': '92.99',\n",
       " 'wins summary': {'KO/TKO': '10',\n",
       "  'SUBMISSIONS': '1',\n",
       "  'DECISIONS': '3',\n",
       "  'OTHERS': ''},\n",
       " 'loses summary': {'KO/TKO': '1',\n",
       "  'SUBMISSIONS': '1',\n",
       "  'DECISIONS': '0',\n",
       "  'OTHERS': ''},\n",
       " 'bouts': [{'result': 'win',\n",
       "   'opponent': 'Rajmund Flejmer',\n",
       "   'event': 'Vale Tudo Promotions - Vale Tudo Cup 1',\n",
       "   'date': '2014-01-11',\n",
       "   'method': 'Decision (Unanimous)',\n",
       "   'referee': 'Thomas Jeruszka',\n",
       "   'round': '2',\n",
       "   'time': '5:00',\n",
       "   'dc reason': ''},\n",
       "  {'result': 'win',\n",
       "   'opponent': 'Mateusz Gola',\n",
       "   'event': 'TFN - Tymex Boxing Night',\n",
       "   'date': '2014-02-08',\n",
       "   'method': 'Decision (Unanimous)',\n",
       "   'referee': 'Bogan Pawlik',\n",
       "   'round': '3',\n",
       "   'time': '5:00',\n",
       "   'dc reason': ''},\n",
       "  {'result': 'loss',\n",
       "   'opponent': 'Jan Kwiaton',\n",
       "   'event': 'TFL 4 - Plaza vs. Wolny',\n",
       "   'date': '2014-05-17',\n",
       "   'method': 'Submission (Triangle Choke)',\n",
       "   'referee': 'Sebastian Jagielski',\n",
       "   'round': '1',\n",
       "   'time': '1:53',\n",
       "   'dc reason': ''},\n",
       "  {'result': 'win',\n",
       "   'opponent': 'Norbert Piskorski',\n",
       "   'event': 'TFL 5 / PLMMA 36 - Lublin',\n",
       "   'date': '2014-06-20',\n",
       "   'method': 'TKO (Leg Injury)',\n",
       "   'referee': 'Piotr Michalak',\n",
       "   'round': '1',\n",
       "   'time': '0:00',\n",
       "   'dc reason': ''},\n",
       "  {'result': 'loss',\n",
       "   'opponent': 'Marcin Wojcik',\n",
       "   'event': 'PLMMA 44 - Biezun',\n",
       "   'date': '2014-11-21',\n",
       "   'method': 'TKO (Punches)',\n",
       "   'referee': 'Piotr Michalak',\n",
       "   'round': '1',\n",
       "   'time': '2:12',\n",
       "   'dc reason': ''},\n",
       "  {'result': 'win',\n",
       "   'opponent': 'Seweryn Kirschhiebel',\n",
       "   'event': 'TFL 6 / PLMMA 46 - Lublin',\n",
       "   'date': '2015-01-24',\n",
       "   'method': 'TKO (Corner Stoppage)',\n",
       "   'referee': 'Piotr Michalak',\n",
       "   'round': '2',\n",
       "   'time': '2:25',\n",
       "   'dc reason': ''},\n",
       "  {'result': 'win',\n",
       "   'opponent': 'Tomasz Janiszewski',\n",
       "   'event': 'TFL 7 / PLMMA 55 - Krasnik',\n",
       "   'date': '2015-05-02',\n",
       "   'method': 'TKO (Strikes)',\n",
       "   'referee': 'Piotr Michalak',\n",
       "   'round': '2',\n",
       "   'time': '4:38',\n",
       "   'dc reason': ''},\n",
       "  {'result': 'win',\n",
       "   'opponent': 'Andrejs Zozulja',\n",
       "   'event': 'WFC - Wenglorz Fight Cup 6',\n",
       "   'date': '2015-09-26',\n",
       "   'method': 'KO (Punches)',\n",
       "   'referee': 'N/A',\n",
       "   'round': '1',\n",
       "   'time': '0:00',\n",
       "   'dc reason': ''},\n",
       "  {'result': 'win',\n",
       "   'opponent': 'Michal Dobias',\n",
       "   'event': 'WFC - Wenglorz Fight Cup 6',\n",
       "   'date': '2015-09-26',\n",
       "   'method': 'KO (Kick to the Body)',\n",
       "   'referee': 'N/A',\n",
       "   'round': '2',\n",
       "   'time': '0:00',\n",
       "   'dc reason': ''},\n",
       "  {'result': 'win',\n",
       "   'opponent': 'Lukasz Borowski',\n",
       "   'event': 'TFL 8 / AFC 7 - Title Show',\n",
       "   'date': '2016-01-16',\n",
       "   'method': 'Submission (Rear-Naked Choke)',\n",
       "   'referee': 'Piotr Michalak',\n",
       "   'round': '2',\n",
       "   'time': '3:39',\n",
       "   'dc reason': ''},\n",
       "  {'result': 'win',\n",
       "   'opponent': 'Wojciech Janusz',\n",
       "   'event': 'FEN 12 - Feel the Force',\n",
       "   'date': '2016-05-20',\n",
       "   'method': 'Decision (Unanimous)',\n",
       "   'referee': 'Piotr Michalak',\n",
       "   'round': '3',\n",
       "   'time': '5:00',\n",
       "   'dc reason': ''},\n",
       "  {'result': 'win',\n",
       "   'opponent': 'Lukasz Klinger',\n",
       "   'event': 'TFL 10 - Lublin',\n",
       "   'date': '2016-11-19',\n",
       "   'method': 'TKO (Punches)',\n",
       "   'referee': 'N/A',\n",
       "   'round': '1',\n",
       "   'time': '0:00',\n",
       "   'dc reason': ''},\n",
       "  {'result': 'win',\n",
       "   'opponent': 'Charles Andrade',\n",
       "   'event': 'TFL 11 - Slava Republic 2',\n",
       "   'date': '2017-04-01',\n",
       "   'method': 'KO (Punch)',\n",
       "   'referee': 'Piotr Michalak',\n",
       "   'round': '1',\n",
       "   'time': '1:58',\n",
       "   'dc reason': ''},\n",
       "  {'result': 'win',\n",
       "   'opponent': 'Riccardo Nosiglia',\n",
       "   'event': 'FEN 17 - Baltic Storm',\n",
       "   'date': '2017-05-12',\n",
       "   'method': 'KO (Punches)',\n",
       "   'referee': 'Piotr Michalak',\n",
       "   'round': '1',\n",
       "   'time': '1:40',\n",
       "   'dc reason': ''},\n",
       "  {'result': 'NC',\n",
       "   'opponent': 'Khalil Rountree',\n",
       "   'event': 'UFC 219 - Cyborg vs. Holm',\n",
       "   'date': '2017-12-30',\n",
       "   'method': 'No Contest (Overturned by NSAC)',\n",
       "   'referee': 'Herb Dean',\n",
       "   'round': '3',\n",
       "   'time': '5:00',\n",
       "   'dc reason': ''},\n",
       "  {'result': 'win',\n",
       "   'opponent': 'Gian Villante',\n",
       "   'event': 'UFC Fight Night 145 - Blachowicz vs. Santos',\n",
       "   'date': '2019-02-23',\n",
       "   'method': 'TKO (Punches)',\n",
       "   'referee': 'N/A',\n",
       "   'round': '1',\n",
       "   'time': '1:34',\n",
       "   'dc reason': ''},\n",
       "  {'result': 'win',\n",
       "   'opponent': 'Gadzhimurad Antigulov',\n",
       "   'event': 'UFC Fight Night 149 - Overeem vs. Oleynik',\n",
       "   'date': '2019-04-20',\n",
       "   'method': 'KO (Punch)',\n",
       "   'referee': 'Leon Roberts',\n",
       "   'round': '1',\n",
       "   'time': '0:44',\n",
       "   'dc reason': ''}]}"
      ]
     },
     "execution_count": 20,
     "metadata": {},
     "output_type": "execute_result"
    }
   ],
   "source": [
    "fighters[1750]"
   ]
  },
  {
   "cell_type": "code",
   "execution_count": 178,
   "metadata": {
    "ExecuteTime": {
     "end_time": "2019-05-21T22:01:30.785524Z",
     "start_time": "2019-05-21T22:01:30.596288Z"
    }
   },
   "outputs": [],
   "source": [
    "for ind in range(len(cropped)):\n",
    "    fighter = cropped[ind]\n",
    "    for stat in fighter:\n",
    "        if type(fighter[stat]) == dict:\n",
    "            for level2 in fighter[stat]:\n",
    "                fighter[stat][level2] = str(fighter[stat][level2])\n",
    "        if type(fighter[stat]) == list:\n",
    "            bouts = fighter[stat]\n",
    "            for bout_num in range(len(bouts)):\n",
    "                for bout_stat in bouts[bout_num]:\n",
    "                    bouts[bout_num][bout_stat] = str(bouts[bout_num][bout_stat])\n",
    "        if type(fighter[stat]) == str:\n",
    "            fighter[stat] = str(fighter[stat])"
   ]
  },
  {
   "cell_type": "code",
   "execution_count": 21,
   "metadata": {
    "ExecuteTime": {
     "end_time": "2019-05-23T17:09:41.623901Z",
     "start_time": "2019-05-23T17:09:40.107126Z"
    },
    "scrolled": true
   },
   "outputs": [],
   "source": [
    "json.dump(fighters,open('fighters_sherdog','w'))"
   ]
  },
  {
   "cell_type": "code",
   "execution_count": null,
   "metadata": {},
   "outputs": [],
   "source": []
  }
 ],
 "metadata": {
  "celltoolbar": "Raw Cell Format",
  "kernelspec": {
   "display_name": "Python 3",
   "language": "python",
   "name": "python3"
  },
  "language_info": {
   "codemirror_mode": {
    "name": "ipython",
    "version": 3
   },
   "file_extension": ".py",
   "mimetype": "text/x-python",
   "name": "python",
   "nbconvert_exporter": "python",
   "pygments_lexer": "ipython3",
   "version": "3.7.1"
  }
 },
 "nbformat": 4,
 "nbformat_minor": 2
}
