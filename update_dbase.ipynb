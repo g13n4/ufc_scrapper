{
 "cells": [
  {
   "cell_type": "code",
   "execution_count": 1,
   "metadata": {
    "ExecuteTime": {
     "end_time": "2019-06-03T06:01:05.645931Z",
     "start_time": "2019-06-03T06:01:05.279036Z"
    }
   },
   "outputs": [],
   "source": [
    "import pandas as pd\n",
    "import numpy as np\n",
    "\n",
    "from bs4 import BeautifulSoup\n",
    "import bs4\n",
    "from urllib.request import urlopen as uReq\n",
    "from urllib.request import Request, urlopen\n",
    "from unidecode import unidecode\n",
    "\n",
    "import os\n",
    "import re\n",
    "import pickle\n",
    "import json\n",
    "import copy"
   ]
  },
  {
   "cell_type": "code",
   "execution_count": 2,
   "metadata": {
    "ExecuteTime": {
     "end_time": "2019-06-03T06:01:05.729909Z",
     "start_time": "2019-06-03T06:01:05.647931Z"
    }
   },
   "outputs": [],
   "source": [
    "from selenium import webdriver\n",
    "from selenium.webdriver.common.keys import Keys\n",
    "from selenium.webdriver.firefox.firefox_binary import FirefoxBinary\n",
    "\n",
    "from selenium.webdriver.common.by import By\n",
    "from selenium.webdriver.support.ui import WebDriverWait\n",
    "from selenium.webdriver.support import expected_conditions as EC"
   ]
  },
  {
   "cell_type": "code",
   "execution_count": 3,
   "metadata": {
    "ExecuteTime": {
     "end_time": "2019-06-03T06:01:10.818927Z",
     "start_time": "2019-06-03T06:01:06.018029Z"
    }
   },
   "outputs": [],
   "source": [
    "binary = FirefoxBinary(r'C:\\Program Files\\Mozilla Firefox\\firefox.exe')\n",
    "driver = webdriver.Firefox(firefox_binary=binary)"
   ]
  },
  {
   "cell_type": "markdown",
   "metadata": {},
   "source": [
    "Sherdog"
   ]
  },
  {
   "cell_type": "code",
   "execution_count": 4,
   "metadata": {
    "ExecuteTime": {
     "end_time": "2019-06-03T06:01:18.190977Z",
     "start_time": "2019-06-03T06:01:17.984045Z"
    }
   },
   "outputs": [],
   "source": [
    "fighters_sherdog = json.load(open('fighters_sherdog','r'))"
   ]
  },
  {
   "cell_type": "code",
   "execution_count": 63,
   "metadata": {
    "ExecuteTime": {
     "end_time": "2019-06-03T07:06:38.791378Z",
     "start_time": "2019-06-03T07:06:38.784344Z"
    }
   },
   "outputs": [],
   "source": [
    "def sherdog_date_decoder(string,short=True):\n",
    "    if short:\n",
    "        months = {'Jan': '01','Feb': '02','Mar': '03',\n",
    "          'Apr': '04','May': '05','Jun': '06',\n",
    "          'Jul': '07','Aug': '08','Sep': '09',\n",
    "          'Oct': '10','Nov': '11','Dec': '12'}\n",
    "        new_date = string.split('/')\n",
    "        return new_date[2].strip()+'-'+months[new_date[0].strip()]+'-'+new_date[1].strip()\n",
    "    else:\n",
    "        months = {\"January\":\"01\",\"February\":\"02\",\"March\":\"03\",\"April\":\"04\",\"May\":\"05\",\"June\":\"06\",\n",
    "                  \"July\":\"07\",\"August\":\"08\",\"September\":\"09\",\"October\":\"10\",\"November\":\"11\",\"December\":\"12\"}\n",
    "        parts = string.split(' ')\n",
    "        return f\"{parts[2]}-{months[parts[0]]}-{parts[1].replace(',','')}\"\n",
    "        "
   ]
  },
  {
   "cell_type": "code",
   "execution_count": 173,
   "metadata": {
    "ExecuteTime": {
     "end_time": "2019-06-03T10:24:56.483013Z",
     "start_time": "2019-06-03T10:24:56.456029Z"
    },
    "code_folding": [],
    "run_control": {
     "marked": true
    }
   },
   "outputs": [],
   "source": [
    "def get_fighters_info_sherdog(url):\n",
    "    fighter = {'Name':'',\n",
    "               'Nickname':'',\n",
    "               'Birth date':'',\n",
    "               'Height':'',\n",
    "               'Record':{'wins':'','loses':'','draws':'','nc':''},\n",
    "               'Affiliation':'',\n",
    "               'Nationality':'',\n",
    "               'Location region':'',\n",
    "               'Location city':'',\n",
    "               'Weight':'',\n",
    "               'wins summary': {'KO/TKO':'','SUBMISSIONS':'','DECISIONS':'','OTHERS':''},\n",
    "               'loses summary': {'KO/TKO':'','SUBMISSIONS':'','DECISIONS':'','OTHERS':''},\n",
    "               'bouts':[]}\n",
    "    \n",
    "    driver.get(url)\n",
    "    site = BeautifulSoup(driver.page_source,'html.parser')\n",
    "    \n",
    "    #fighters summary\n",
    "    bio = site.find('div',class_='module bio_fighter vcard')\n",
    "    \n",
    "    \n",
    "    if not site.find('div',class_='module bio_fighter tagged'):\n",
    "        if len(bio.find('h1').find_all('span')) > 1:\n",
    "            fighter['Name'],fighter['Nickname'] = [x.text for x in bio.find('h1').find_all('span')]\n",
    "        else:\n",
    "            fighter['Name'] = str(bio.find('h1').find('span').text)\n",
    "    else:\n",
    "        fighter['Name'] = str(site.find('span',class_='fn').text)\n",
    "        fighter['Nickname'] = str(site.find('span',class_='nickname').text if site.find('span',class_='nickname') else '')\n",
    "        \n",
    "    \n",
    "    fighter['Birth date'] = str(bio.find('span',{'itemprop':'birthDate'}).text if bio.find('span',{'itemprop':'birthDate'}) else '')\n",
    "    if re.search('(\\d+\\.\\d+) cm',bio.find('div',class_='size_info').find('span',class_='item height').text):\n",
    "        fighter['Height'] = str(re.search('(\\d+\\.\\d+) cm',bio.find('div',class_='size_info').find('span',class_='item height').text)[1])\n",
    "    if re.search('(\\d+\\.\\d+) kg',bio.find('div',class_='size_info').find('span',class_='item weight').text):\n",
    "        fighter['Weight'] = str(re.search('(\\d+\\.\\d+) kg',bio.find('div',class_='size_info').find('span',class_='item weight').text)[1])\n",
    "    fighter['Record']['wins'] = str(bio.find('span',class_='counter').text)\n",
    "    fighter['Record']['loses'] = str(bio.find('div',class_='bio_graph loser').find('span',class_='counter').text)\n",
    "    \n",
    "    if bio.find('div',class_='right_side'):\n",
    "        for outs in bio.find('div',class_='right_side').find_all('div',class_='bio_graph'):\n",
    "            if outs.find('span','result').text == 'Draws': fighter['Record']['draws'] = str(outs.find('span','counter').text)\n",
    "            if outs.find('span','result').text == 'N/C': fighter['Record']['nc'] = str(outs.find('span','counter').text)\n",
    "    \n",
    "    bouts_summary = [re.match('\\d+',x.text)[0] for x in bio.find_all('span',class_='graph_tag')]\n",
    "    if len(bouts_summary) == 8:\n",
    "        fighter['wins summary']['KO/TKO'], fighter['wins summary']['SUBMISSIONS'], fighter['wins summary']['DECISIONS'], fighter['wins summary']['OTHERS'] = bouts_summary[0:4]\n",
    "        fighter['loses summary']['KO/TKO'], fighter['loses summary']['SUBMISSIONS'], fighter['loses summary']['DECISIONS'], fighter['loses summary']['OTHERS'] = bouts_summary[4:]\n",
    "    else:\n",
    "        fighter['wins summary']['KO/TKO'], fighter['wins summary']['SUBMISSIONS'], fighter['wins summary']['DECISIONS'] = bouts_summary[0:3]\n",
    "        fighter['loses summary']['KO/TKO'], fighter['loses summary']['SUBMISSIONS'], fighter['loses summary']['DECISIONS'] = bouts_summary[3:]\n",
    "        \n",
    "    fighter['Nationality'] = str(bio.find('strong',{'itemprop':'nationality'}).text if bio.find('strong',{'itemprop':'nationality'}) else '')\n",
    "    fighter['Affiliation'] =str(bio.find('a',class_='association').text if bio.find('a',class_='association') else '')\n",
    "    \n",
    "    if bio.find('span',class_='locality'):\n",
    "        if ',' in bio.find('span',class_='locality').text:\n",
    "            fighter['Location city'], fighter['Location region'] = bio.find('span',class_='locality').text.split(',')\n",
    "        else:\n",
    "            fighter['Location city'] = str(bio.find('span',class_='locality').text)\n",
    "    \n",
    "    #fights description\n",
    "    for history in site.find_all('div',class_='module fight_history'):\n",
    "        if (re.search('Pro Exhibition',history.find('h2').text,re.IGNORECASE) or \n",
    "        re.search('Amateur',history.find('h2').text,re.IGNORECASE) or\n",
    "        re.search('Upcoming',history.find('h2').text,re.IGNORECASE)): continue\n",
    "\n",
    "        for bout in history.find_all('tr')[1:][::-1]:\n",
    "            bout_info = {'result':'','opponent':'','event':'','date':'','method':'','referee':'','round':'','time':'','dc reason':\"\"}\n",
    "            fight_info = bout.find_all('td')\n",
    "            bout_info['result'] = str(fight_info[0].text)\n",
    "            bout_info['opponent'] = str(fight_info[1].text)\n",
    "            bout_info['event'] = str(fight_info[2].a.text)\n",
    "            bout_info['date'] = str(sherdog_date_decoder(fight_info[2].find('span','sub_line').text) if fight_info[2].find('span','sub_line') else '')\n",
    "            bout_info['method'] = str(fight_info[3].contents[0])\n",
    "            if len(fight_info[3].contents) == 2:\n",
    "                pass\n",
    "            elif len(fight_info[3].contents[2]) == 1: bout_info['referee'] = str(fight_info[3].contents[2].text if fight_info[3].contents[2] else '')\n",
    "            else:\n",
    "                bout_info['referee'] = str(fight_info[3].contents[4].text if str(fight_info[3].contents[4]) != 'N/A' else '')\n",
    "                bout_info['dc reason'] = str(unidecode(fight_info[3].contents[2]))\n",
    "\n",
    "            bout_info['round'] = str(fight_info[4].text)\n",
    "            bout_info['time'] = str(fight_info[5].text)\n",
    "            fighter['bouts'].append(bout_info)\n",
    "        \n",
    "    return fighter"
   ]
  },
  {
   "cell_type": "code",
   "execution_count": 174,
   "metadata": {
    "ExecuteTime": {
     "end_time": "2019-06-03T10:25:14.902912Z",
     "start_time": "2019-06-03T10:25:14.895914Z"
    }
   },
   "outputs": [],
   "source": [
    "def update_sherdog(size=1):\n",
    "    driver.get(f\"https://www.sherdog.com/organizations/Ultimate-Fighting-Championship-UFC-2/recent-events/1\")\n",
    "    site =  BeautifulSoup(driver.page_source,'html.parser')\n",
    "    fighters_links = []\n",
    "    \n",
    "    for card in site.find('div',{'id':'recent_tab'}).find('tbody').find_all('tr')[1:1+size]:\n",
    "        link = \"https://www.sherdog.com\" + card.a['href']\n",
    "        driver.get(link)\n",
    "        site = BeautifulSoup(driver.page_source,'html.parser')\n",
    "        for main_card in site.find('div',class_='module fight_card').find_all('a'):\n",
    "            if main_card.find('span'):\n",
    "                if main_card.find('span').text not in fighters_links:\n",
    "                    fighters_links.append(get_fighters_info_sherdog(\"https://www.sherdog.com\"+main_card['href']))\n",
    "\n",
    "        for fight in site.find('div',class_='content table').find_all('tr',{'itemprop':'subEvent'}):\n",
    "            for fighter in fight.find_all('td',{'itemprop':'performer'}):\n",
    "                if fighter.a.text not in fighters_links:\n",
    "                    fighters_links.append(get_fighters_info_sherdog(\"https://www.sherdog.com\"+fighter.a['href']))\n",
    "                \n",
    "    return fighters_links"
   ]
  },
  {
   "cell_type": "code",
   "execution_count": 175,
   "metadata": {
    "ExecuteTime": {
     "end_time": "2019-06-03T10:25:16.258376Z",
     "start_time": "2019-06-03T10:25:16.254369Z"
    }
   },
   "outputs": [],
   "source": [
    "def update(old,new):\n",
    "    to_delete = [y for y,x in enumerate(old) if x['Name'] in [x['Name'] for x in new]]\n",
    "    for fighter_index in sorted(to_delete)[::-1]:\n",
    "        del old[fighter_index]\n",
    "    return old + new"
   ]
  },
  {
   "cell_type": "code",
   "execution_count": 176,
   "metadata": {
    "ExecuteTime": {
     "end_time": "2019-06-03T10:28:56.281149Z",
     "start_time": "2019-06-03T10:25:17.151924Z"
    }
   },
   "outputs": [],
   "source": [
    "sherdog_update_dbase = update_sherdog(2)"
   ]
  },
  {
   "cell_type": "code",
   "execution_count": 177,
   "metadata": {
    "ExecuteTime": {
     "end_time": "2019-06-03T10:29:01.374773Z",
     "start_time": "2019-06-03T10:29:01.359778Z"
    }
   },
   "outputs": [],
   "source": [
    "updated_list_sherdog = update(fighters_sherdog,sherdog_update_dbase)"
   ]
  },
  {
   "cell_type": "code",
   "execution_count": 178,
   "metadata": {
    "ExecuteTime": {
     "end_time": "2019-06-03T10:29:02.708184Z",
     "start_time": "2019-06-03T10:29:02.703447Z"
    }
   },
   "outputs": [
    {
     "data": {
      "text/plain": [
       "1934"
      ]
     },
     "execution_count": 178,
     "metadata": {},
     "output_type": "execute_result"
    }
   ],
   "source": [
    "len(updated_list_sherdog)"
   ]
  },
  {
   "cell_type": "code",
   "execution_count": 179,
   "metadata": {
    "ExecuteTime": {
     "end_time": "2019-06-03T10:29:14.742525Z",
     "start_time": "2019-06-03T10:29:13.134931Z"
    }
   },
   "outputs": [],
   "source": [
    "json.dump(updated_list_sherdog,open('fighters_sherdog_June_3','w'))"
   ]
  },
  {
   "cell_type": "markdown",
   "metadata": {},
   "source": [
    "Tapology"
   ]
  },
  {
   "cell_type": "code",
   "execution_count": 101,
   "metadata": {
    "ExecuteTime": {
     "end_time": "2019-06-03T09:20:49.233878Z",
     "start_time": "2019-06-03T09:20:48.479122Z"
    }
   },
   "outputs": [],
   "source": [
    "fighters = json.load(open('tapology_fighters_June_3.txt','r'))"
   ]
  },
  {
   "cell_type": "code",
   "execution_count": 147,
   "metadata": {
    "ExecuteTime": {
     "end_time": "2019-06-03T10:04:29.391043Z",
     "start_time": "2019-06-03T10:04:26.111858Z"
    }
   },
   "outputs": [],
   "source": [
    "link = urlopen(f'https://www.tapology.com/fightcenter?group=ufc&page=0&region=&schedule=results')\n",
    "site = BeautifulSoup(link,'html.parser')\n",
    "\n",
    "cards = [(\"https://www.tapology.com\" + x.find('span','name').a['href']) for x in site.find_all('section',class_=\"fcListing\")][0:2]\n",
    "fighters_renew= []\n",
    "fighters_updated = []\n",
    "\n",
    "for link in cards:\n",
    "    site = BeautifulSoup(urlopen(link),'html.parser')\n",
    "\n",
    "\n",
    "    for bout in site.find_all('li','fightCard'):\n",
    "            for name in bout.find_all('a'):\n",
    "                if re.match('/fightcenter/bouts/',name.get('href')): continue\n",
    "                fighters_renew.append(\"https://www.tapology.com\" + name.get('href'))  "
   ]
  },
  {
   "cell_type": "code",
   "execution_count": 141,
   "metadata": {
    "ExecuteTime": {
     "end_time": "2019-06-03T09:54:05.456929Z",
     "start_time": "2019-06-03T09:54:05.450919Z"
    }
   },
   "outputs": [],
   "source": [
    "def get_last_ufc_card(size=1):\n",
    "    link = urlopen(f'https://www.tapology.com/fightcenter?group=ufc&page=0&region=&schedule=results')\n",
    "    site = BeautifulSoup(link,'html.parser')\n",
    "\n",
    "    cards = [(\"https://www.tapology.com\" + x.find('span','name').a['href']) for x in site.find_all('section',class_=\"fcListing\")][0:size]\n",
    "    fighters_renew= []\n",
    "    fighters_updated = []\n",
    "    \n",
    "    for link in cards:\n",
    "        site = BeautifulSoup(urlopen(link),'html.parser')\n",
    "\n",
    "\n",
    "        for bout in site.find_all('li','fightCard'):\n",
    "                for name in bout.find_all('a'):\n",
    "                    if re.match('/fightcenter/bouts/',name.get('href')): continue\n",
    "                    fighters_renew.append(\"https://www.tapology.com\" + name.get('href'))  \n",
    "\n",
    "    for fighter in list(set(fighters_renew)):\n",
    "        fighters_updated.append(get_fighters_info(fighter))\n",
    "    \n",
    "    return fighters_updated"
   ]
  },
  {
   "cell_type": "code",
   "execution_count": 117,
   "metadata": {
    "ExecuteTime": {
     "end_time": "2019-06-03T09:31:02.982126Z",
     "start_time": "2019-06-03T09:31:02.976141Z"
    }
   },
   "outputs": [],
   "source": [
    "def get_score(string):\n",
    "    if not string: return {'nc':'0','wins':'0', 'loses':'0','draws':'0'}\n",
    "    score = {'nc':'0'}\n",
    "    score['wins'], score['loses'], score['draws'] = re.search('\\d+-\\d+-\\d+',string)[0].split('-')\n",
    "    if re.search('NC',string):\n",
    "        score['nc'] = re.search('(\\d+) NC',\"16-4-0, 1 NC (Win-Loss-Draw)\")[1]\n",
    "    return score\n",
    "\n",
    "def get_last_fight_date(string):\n",
    "    months = {'January': '01','February': '02','March': '03',\n",
    "          'April': '04','May': '05','June': '06',\n",
    "          'July': '07','August': '08','September': '09',\n",
    "          'October': '10','November': '11','December': '12'}\n",
    "    month = months[re.search('\\w+',string)[0]]\n",
    "    day, year = list(re.findall('\\d+',string))\n",
    "    return f'{year}-{month}-{day}'"
   ]
  },
  {
   "cell_type": "code",
   "execution_count": 172,
   "metadata": {
    "ExecuteTime": {
     "end_time": "2019-06-03T10:23:48.950930Z",
     "start_time": "2019-06-03T10:23:48.920938Z"
    }
   },
   "outputs": [],
   "source": [
    "def get_fighters_info(url):\n",
    "    driver.implicitly_wait(2)\n",
    "    driver.get(url)\n",
    "    \n",
    "    element = WebDriverWait(driver, 3).until(EC.presence_of_element_located((By.ID, \"fighterRecordControls\")))\n",
    "    element.find_element_by_class_name('right').click()\n",
    "#   driver.find_element_by_id('fighterRecordControls').find_element_by_class_name('right').click()\n",
    "    site = BeautifulSoup(driver.page_source,'html.parser')\n",
    "    \n",
    "    fighter = {'Name':'',\n",
    "       'Nickame':'',\n",
    "       'Birth date':'',\n",
    "       'Given name':'',\n",
    "       'Height':'',\n",
    "       'Reach':'',\n",
    "       'Record':{'wins':'','loses':'','draws':'','nc':''},\n",
    "       'Last fight':'',\n",
    "       'Affiliation':'',\n",
    "       'Born':'',\n",
    "       'Fighting out of':'',\n",
    "       'bouts':[]}\n",
    "    \n",
    "\n",
    "    fighter['Name'] = unidecode(site.find('div','fighterUpcomingHeader').find_all('h1')[1].string)\n",
    "    fighter['Nickame'] = '' if not site.find('div','fighterUpcomingHeader').find('h4','nickname').string else site.find('div','fighterUpcomingHeader').find('h4','nickname').string.strip()[1:-1]\n",
    "\n",
    "    for row in site.find('div','details details_two_columns').find_all('li'):\n",
    "        for strong_text,plain_text in zip(row.find_all('strong'),row.find_all('span')):\n",
    "            strong_text, plain_text = strong_text.string, plain_text.string\n",
    "            if re.search('Given Name:',strong_text): fighter['Given name'] = plain_text\n",
    "            if re.search('Pro MMA Record:',strong_text): fighter['Record'] = get_score(plain_text)\n",
    "            if re.search('Date of Birth',strong_text): fighter['Birth date'] = plain_text.replace('.','-')\n",
    "            if re.search('Last Fight:',strong_text): fighter['Last fight'] = get_last_fight_date(plain_text)\n",
    "            if re.search('Affiliation:',strong_text): fighter['Affiliation'] = plain_text\n",
    "            if re.search('Height:',strong_text) and re.search('\\((.*)cm\\)',plain_text): fighter['Height'] = re.search('\\((.*)cm\\)',plain_text)[1]\n",
    "            if re.search('Reach:',strong_text)  and re.search('\\((.*)cm\\)',plain_text): fighter['Reach'] = re.search('\\((.*)cm\\)',plain_text)[1]\n",
    "            if re.search('Born:',strong_text): fighter['Born'] = plain_text\n",
    "            if re.search('Fighting out of:',strong_text): fighter['Fighting out of'] = plain_text\n",
    "    \n",
    "    for fight in site.find('div',id='fighterRecord').find_all('li')[::-1]:\n",
    "        \n",
    "        bout_info = {\n",
    "            'Billing':'',\n",
    "            'Class weight':'',\n",
    "            'Decision':'',\n",
    "            'Duration':'',\n",
    "            'Fight under':'',\n",
    "            \"Fighter's record\":'',\n",
    "            'Injuries':'',\n",
    "            'Odds':'',\n",
    "            \"Opponent's name\":'',\n",
    "            \"Opponent's record\":'',\n",
    "            'Pay':'',\n",
    "            'Referee':'',\n",
    "            'Round':'',\n",
    "            'Time':'',\n",
    "            'Title in a fight':'',\n",
    "            'Way':'',\n",
    "            'Weigh-In':'',\n",
    "            'Weightclass':'',\n",
    "            'Weightclass title name':'',\n",
    "            'Win or Lose':'',\n",
    "            'fight date':''}\n",
    "        \n",
    "        \n",
    "        if (fight.find('div','record nonMma') or \n",
    "            re.search('Cancelled Bout', fight.find('div','lead').text) or \n",
    "            re.search('Confirmed Upcoming Bout', fight.find('div','lead').text) or \n",
    "            fight.find('div',{'data-result':'cancelled'})): continue\n",
    "\n",
    "        bout_info[\"Opponent's name\"] = unidecode(fight.find('div','name').text)\n",
    "        \n",
    "        if fight.find('span',{\"title\":'Fighter Record Before Fight'}):\n",
    "            bout_info[\"Fighter's record\"] = get_score(fight.find('span',{\"title\":'Fighter Record Before Fight'}).text)\n",
    "            del bout_info[\"Fighter's record\"]['nc']\n",
    "        else:\n",
    "            bout_info[\"Fighter's record\"] = {'wins':'0','loses':'0','draws':'0'}\n",
    "            \n",
    "        if fight.find('span',{\"title\":'Opponent Record Before Fight'}):\n",
    "            bout_info[\"Opponent's record\"] = get_score(fight.find('span',{\"title\":'Opponent Record Before Fight'}).text)\n",
    "            del bout_info[\"Opponent's record\"]['nc']\n",
    "\n",
    "        if '·' in fight.find('div','lead').text:\n",
    "            win_info = fight.find('div','lead').text.split('·')\n",
    "            if len(win_info) == 2:\n",
    "                bout_info[\"Win or Lose\"] =  win_info[0]\n",
    "                bout_info[\"Way\"] =  win_info[1]                \n",
    "            elif len(win_info) == 3:\n",
    "                bout_info[\"Win or Lose\"] =  win_info[0]\n",
    "                bout_info[\"Way\"] =  win_info[1]\n",
    "                bout_info[\"Decision\"] = win_info[2]\n",
    "            else:\n",
    "                bout_info[\"Win or Lose\"] = win_info[0]\n",
    "                bout_info[\"Way\"] = win_info[1]\n",
    "                bout_info[\"Time\"] = win_info[2]\n",
    "                bout_info['Round'] = win_info[3]\n",
    "        else:\n",
    "            bout_info[\"Win or Lose\"] = fight.find('div','lead').text\n",
    "        \n",
    "        bout_info[\"Fight under\"] = fight.find('div','notes').text\n",
    "        bout_info[\"fight date\"] = fight.find('div','date').text.replace('.','-')\n",
    "\n",
    "        if fight.find('div',class_='detail tall'):\n",
    "            for additional_info in fight.find('div',class_='detail tall').find_all('div'):\n",
    "                if additional_info.find_all('span'):\n",
    "                    first, second = list(additional_info.find_all('span'))\n",
    "\n",
    "                    if first.text == 'Title Bout:': \n",
    "                        if '·' in second.text:\n",
    "                            bout_info['Title in a fight'], bout_info['Weightclass title name'] = second.text.split('·')\n",
    "                        else: \n",
    "                            bout_info['Weightclass title name'] = second.text\n",
    "                    \n",
    "                    if first.text == 'Billing:': bout_info['Billing'] = second.text\n",
    "                    if first.text == 'Duration:':\n",
    "                        if re.search(\"(.*\\d)\",second.text)[0]:\n",
    "                            bout_info['Duration'] = re.search(\"(.*\\d)\",second.text)[0]\n",
    "                        else:\n",
    "                            bout_info['Duration'] = second.text\n",
    "                        \n",
    "\n",
    "                    if first.text == 'Weight:':\n",
    "                        for weightclass_info in second.text.split('·'):\n",
    "                            if not re.search(\"\\d\",weightclass_info):\n",
    "                                bout_info['Weightclass'] = weightclass_info\n",
    "\n",
    "                            elif re.search(\"Weigh-In\",weightclass_info,re.IGNORECASE):\n",
    "                                bout_info['Weigh-In'] = re.search('(\\d+\\.?\\d? lbs)',weightclass_info)[0]\n",
    "                                \n",
    "                            else:\n",
    "                                bout_info['Class weight'] = re.search('(\\d+\\.?\\d? lbs)',weightclass_info)[0] if re.search('(\\d+\\.?\\d? lbs)',weightclass_info) else ''\n",
    "\n",
    "\n",
    "                    if first.text == 'Odds:': bout_info['Odds'] = second.text.split('·')[0]\n",
    "                    if first.text == 'Referee:': bout_info['Referee'] = second.text\n",
    "                    if first.text == 'Disclosed Pay:': bout_info['Pay'] = re.search('\\$(\\d+) ',second.text.replace(',',''))[1]\n",
    "                    if first.text == 'Injuries:': bout_info['Injuries'] = second.text\n",
    "        \n",
    "        fighter['bouts'].append(bout_info)\n",
    "    \n",
    "    return fighter"
   ]
  },
  {
   "cell_type": "code",
   "execution_count": 119,
   "metadata": {
    "ExecuteTime": {
     "end_time": "2019-06-03T09:31:08.758072Z",
     "start_time": "2019-06-03T09:31:08.753074Z"
    }
   },
   "outputs": [],
   "source": [
    "def update(old,new):\n",
    "    to_delete = [y for y,x in enumerate(old) if x['Name'] in [x['Name'] for x in new]]\n",
    "    for fighter in sorted(to_delete)[::-1]:\n",
    "        del old[fighter]\n",
    "    return old + new"
   ]
  },
  {
   "cell_type": "code",
   "execution_count": 142,
   "metadata": {
    "ExecuteTime": {
     "end_time": "2019-06-03T10:01:02.506498Z",
     "start_time": "2019-06-03T09:58:39.367936Z"
    }
   },
   "outputs": [],
   "source": [
    "new_info = get_last_ufc_card(size=2)"
   ]
  },
  {
   "cell_type": "code",
   "execution_count": 152,
   "metadata": {
    "ExecuteTime": {
     "end_time": "2019-06-03T10:07:33.850918Z",
     "start_time": "2019-06-03T10:07:33.839918Z"
    }
   },
   "outputs": [],
   "source": [
    "updated_tapology_fighters = update(fighters,new_info)"
   ]
  },
  {
   "cell_type": "code",
   "execution_count": 154,
   "metadata": {
    "ExecuteTime": {
     "end_time": "2019-06-03T10:08:30.274853Z",
     "start_time": "2019-06-03T10:08:26.063990Z"
    }
   },
   "outputs": [],
   "source": [
    "json.dump(updated_tapology_fighters,open('tapology_fighters_June_3.txt','w'))"
   ]
  },
  {
   "cell_type": "markdown",
   "metadata": {},
   "source": [
    "ufc stats"
   ]
  },
  {
   "cell_type": "code",
   "execution_count": 186,
   "metadata": {
    "ExecuteTime": {
     "end_time": "2019-06-03T10:50:12.532025Z",
     "start_time": "2019-06-03T10:50:10.224595Z"
    }
   },
   "outputs": [],
   "source": [
    "fighters_ufc_stats = json.load(open('all_ufc_stats_info_June_3','r'))"
   ]
  },
  {
   "cell_type": "code",
   "execution_count": 187,
   "metadata": {
    "ExecuteTime": {
     "end_time": "2019-06-03T10:50:15.596257Z",
     "start_time": "2019-06-03T10:50:15.591258Z"
    }
   },
   "outputs": [],
   "source": [
    "def get_all_fighters(cards_links,fighter_links = dict()):\n",
    "    for link in cards_links:\n",
    "        site = BeautifulSoup(urlopen(link),'html.parser')\n",
    "        for fight in site.find('tbody',class_='b-fight-details__table-body').find_all('tr',class_='b-fight-details__table-row'):\n",
    "            for fighter in fight.find_all('a',class_='b-link_style_black'):\n",
    "                if fighter.text.strip() not in fighter_links:\n",
    "                    fighter_links[fighter.text.strip()] = fighter['href']\n",
    "    \n",
    "    return fighter_links"
   ]
  },
  {
   "cell_type": "code",
   "execution_count": 198,
   "metadata": {
    "ExecuteTime": {
     "end_time": "2019-06-03T11:17:48.422303Z",
     "start_time": "2019-06-03T11:17:46.936283Z"
    }
   },
   "outputs": [
    {
     "name": "stdout",
     "output_type": "stream",
     "text": [
      "http://ufcstats.com/event-details/cbc071cb20ea59c7\n",
      "http://ufcstats.com/event-details/6b8f28da9a483049\n"
     ]
    }
   ],
   "source": [
    "link = urlopen(f'http://ufcstats.com/statistics/events/completed')\n",
    "site = BeautifulSoup(link,'html.parser')\n",
    "info = []\n",
    "for card in site.find('tbody').find_all('a',class_='b-link')[1:3]:\n",
    "    print(card['href'])"
   ]
  },
  {
   "cell_type": "code",
   "execution_count": 188,
   "metadata": {
    "ExecuteTime": {
     "end_time": "2019-06-03T10:50:16.115560Z",
     "start_time": "2019-06-03T10:50:16.110562Z"
    },
    "scrolled": true
   },
   "outputs": [],
   "source": [
    "def get_last_card(size=1): \n",
    "    link = urlopen(f'http://ufcstats.com/statistics/events/completed')\n",
    "    site = BeautifulSoup(link,'html.parser')\n",
    "    info = []\n",
    "    for card in site.find('tbody').find_all('a',class_='b-link')[1:size+1]:\n",
    "        link = card['href']\n",
    "        fighters = get_all_fighters([link])\n",
    "    \n",
    "        for fighter in fighters.keys():\n",
    "            print(fighter)\n",
    "            info.append(get_fighters_info(fighters[fighter]))\n",
    "    \n",
    "    return info"
   ]
  },
  {
   "cell_type": "code",
   "execution_count": 189,
   "metadata": {
    "ExecuteTime": {
     "end_time": "2019-06-03T10:50:16.918612Z",
     "start_time": "2019-06-03T10:50:16.855111Z"
    },
    "code_folding": [
     0
    ],
    "run_control": {
     "marked": true
    }
   },
   "outputs": [],
   "source": [
    "def get_bout_info(link):\n",
    "    site = BeautifulSoup(urlopen(link),'html.parser')\n",
    "    \n",
    "    bout_info = {'Card name':'',\n",
    "                 'Bout name':'',\n",
    "                 \"fight bonus\":'', \n",
    "                 'perf bonus':'', \n",
    "                 'sub bonus':'',\n",
    "                 'ko bonus':'', \n",
    "                 'Method':'',\n",
    "                 'Round':'',\n",
    "                 'title fight':'',\n",
    "                 'Details':'',\n",
    "                 'Score 1':'',\n",
    "                 'Score 2':'',\n",
    "                 'Score 3':'',\n",
    "                 'Fighter1 stats':{\n",
    "                     'Totals':{'Name':'',\n",
    "                         'KD':'',\n",
    "                               'SIG. STR.':{'attempted':'','landed':''},\n",
    "                               'SIG. STR. %':'',\n",
    "                               'TOTAL STR.':{'attempted':'','landed':''},\n",
    "                               'TD':{'attempted':'','landed':''},\n",
    "                               'TD %':'',\n",
    "                               'SUB. ATT':'',\n",
    "                               'PASS':'',\n",
    "                               'REV.':''},\n",
    "\n",
    "                     'Totals per Round':[],\n",
    "\n",
    "                     'Significant Strikes':{'Name':'',\n",
    "                         'SIG. STR.':{'attempted':'','landed':''},\n",
    "                               'SIG. STR. %':'',\n",
    "                               'HEAD':{'attempted':'','landed':''},\n",
    "                               'BODY':{'attempted':'','landed':''},\n",
    "                               'LEG':{'attempted':'','landed':''},\n",
    "                               'DISTANCE':{'attempted':'','landed':''},\n",
    "                               'CLINCH':{'attempted':'','landed':''},\n",
    "                               'GROUND':{'attempted':'','landed':''}},\n",
    "\n",
    "                     'Significant Strikes per Round':[],\n",
    "                 },\n",
    "\n",
    "                 'Fighter2 stats':{\n",
    "                     'Totals':{'Name':'',\n",
    "                               'KD':'',\n",
    "                               'SIG. STR.':{'attempted':'','landed':''},\n",
    "                               'SIG. STR. %':'',\n",
    "                               'TOTAL STR.':{'attempted':'','landed':''},\n",
    "                               'TD':{'attempted':'','landed':''},\n",
    "                               'TD %':'',\n",
    "                               'SUB. ATT':'',\n",
    "                               'PASS':'',\n",
    "                               'REV.':''},\n",
    "\n",
    "                     'Totals per Round':[],\n",
    "\n",
    "                     'Significant Strikes':{\n",
    "                         'Name':'',      \n",
    "                         'SIG. STR.':{'attempted':'','landed':''},\n",
    "                               'SIG. STR. %':'',\n",
    "                               'HEAD':{'attempted':'','landed':''},\n",
    "                               'BODY':{'attempted':'','landed':''},\n",
    "                               'LEG':{'attempted':'','landed':''},\n",
    "                               'DISTANCE':{'attempted':'','landed':''},\n",
    "                               'CLINCH':{'attempted':'','landed':''},\n",
    "                               'GROUND':{'attempted':'','landed':''}},\n",
    "\n",
    "                     'Significant Strikes per Round':[],\n",
    "                 },\n",
    "\n",
    "                'Fighter1':{'Result':'','Name':'', },\n",
    "                'Fighter2':{'Result':'','Name':'', }}\n",
    "\n",
    "\n",
    "    totals_round = {'Round':'',\n",
    "                    'Name':'',\n",
    "                    'KD':'',\n",
    "                    'SIG. STR.':{'attempted':'','landed':''},\n",
    "                    'SIG. STR. %':'',\n",
    "                    'TOTAL STR.':{'attempted':'','landed':''},\n",
    "                    'TD':{'attempted':'','landed':''},\n",
    "                    'TD %':'',\n",
    "                    'SUB. ATT':'',\n",
    "                    'PASS':'',\n",
    "                    'REV.':''}\n",
    "\n",
    "    sigstrikes_round = {'Name':'','Round':'',\n",
    "                       'SIG. STR.':{'attempted':'','landed':''},\n",
    "                       'SIG. STR. %':'',\n",
    "                       'HEAD':{'attempted':'','landed':''},\n",
    "                       'BODY':{'attempted':'','landed':''},\n",
    "                       'LEG':{'attempted':'','landed':''},\n",
    "                       'DISTANCE':{'attempted':'','landed':''},\n",
    "                       'CLINCH':{'attempted':'','landed':''},\n",
    "                       'GROUND':{'attempted':'','landed':''}}\n",
    "    \n",
    "    #Card name\n",
    "    bout_info['Card name'] = site.find('a',class_='b-link').text.strip()\n",
    "    bout_info['Bout name'] = site.find('i',class_='b-fight-details__fight-title').text.strip()\n",
    "    bout_info['Fighter1']['Result'], bout_info['Fighter2']['Result'] = [x.text.strip() for x in site.find('div',class_='b-fight-details__persons clearfix').find_all('i')]\n",
    "    bout_info['Fighter1']['Name'], bout_info['Fighter2']['Name'] = [x.text.strip() for x in site.find('div',class_='b-fight-details__persons clearfix').find_all('h3')]\n",
    "    bout_info['Fighter1']['Nickname'], bout_info['Fighter2']['Nickname'] = [x.text.strip()[1:-1] for x in site.find('div',class_='b-fight-details__persons clearfix').find_all('p')]\n",
    "    for bonus in site.find('i',class_='b-fight-details__fight-title').find_all('img'):\n",
    "        if re.search('/(\\w+).png',bonus['src'])[1] == 'belt': bout_info['title fight'] = True\n",
    "        else:\n",
    "            bout_info[re.search('/(\\w+).png',bonus['src'])[1]+' bonus'] = True\n",
    "    #Methods\n",
    "    method = site.find('p',class_=\"b-fight-details__text\").find('i','b-fight-details__text-item_first').contents\n",
    "    bout_info[method[1].text.strip()[:-1]] = method[3].text.strip()\n",
    "    descs = site.find('p',class_=\"b-fight-details__text\").find_all('i',class_=\"b-fight-details__text-item\")\n",
    "    bout_info[descs[0].contents[1].text.strip()[:-1]] = descs[0].contents[2].strip()\n",
    "    bout_info[descs[1].contents[1].text.strip()[:-1]] = descs[1].contents[2].strip()\n",
    "    bout_info[descs[2].contents[1].text.strip()[:-1]] = descs[2].contents[2].strip()\n",
    "    bout_info[descs[3].contents[1].text.strip()[:-1]] = descs[3].contents[3].text.strip()\n",
    "\n",
    "    #Refs or details\n",
    "    if len(site.find_all('p',class_='b-fight-details__text')[1].find_all('i','b-fight-details__text-item')) == 3:\n",
    "        cards = site.find_all('p',class_='b-fight-details__text')[1].find_all('i','b-fight-details__text-item')\n",
    "\n",
    "        bout_info['Score 1'] = {'Name':cards[0].contents[1].text}\n",
    "        bout_info['Score 1']['Fighter1'], bout_info['Score 1']['Fighter2'] = cards[0].contents[2].strip()[:-1].split('-')\n",
    "\n",
    "        bout_info['Score 2'] = {'Name':cards[0].contents[1].text}\n",
    "        bout_info['Score 2']['Fighter1'], bout_info['Score 2']['Fighter2'] = cards[1].contents[2].strip()[:-1].split('-')\n",
    "\n",
    "        bout_info['Score 3'] = {'Name':cards[0].contents[1].text}\n",
    "        bout_info['Score 3']['Fighter1'], bout_info['Score 3']['Fighter2'] = cards[2].contents[2].strip()[:-1].split('-')\n",
    "    else:\n",
    "        bout_info['Details'] = site.find_all('p',class_='b-fight-details__text')[1].contents[2].strip()\n",
    "        \n",
    "    if not site.find('section',class_='b-fight-details__section js-fight-section').find('p'):\n",
    "        return bout_info\n",
    "    \n",
    "    stats = site.find_all('tbody',class_='b-fight-details__table-body')\n",
    "\n",
    "    #Totals \n",
    "    f1,f2 = bout_info['Fighter1 stats']['Totals'], bout_info['Fighter2 stats']['Totals']\n",
    "    totals_head = stats[0].find_all('td')\n",
    "    f1['Name'],f2['Name'] = [x.text.strip() for x in totals_head[0].find_all('p')]\n",
    "    f1['KD'],f2['KD'] = [x.text.strip() for x in totals_head[1].find_all('p')]\n",
    "    f1['SIG. STR.']['landed'],f1['SIG. STR.']['attempted'], f2['SIG. STR.']['landed'],f2['SIG. STR.']['attempted'] = [a.strip() for x in totals_head[2].find_all('p') for a in x.text.split('of')]\n",
    "    f1['SIG. STR. %'],f2['SIG. STR. %'] = [x.text.strip() for x in totals_head[3].find_all('p')]\n",
    "    f1['TOTAL STR.']['landed'],f1['TOTAL STR.']['attempted'], f2['TOTAL STR.']['landed'],f2['TOTAL STR.']['attempted'] = [a.strip() for x in totals_head[4].find_all('p') for a in x.text.split('of')]\n",
    "    f1['TD']['landed'],f1['TD']['attempted'], f2['TD']['landed'],f2['TD']['attempted'] = [a.strip() for x in totals_head[5].find_all('p') for a in x.text.split('of')]\n",
    "    f1['TD %'],f2['TD %'] = [x.text.strip() for x in totals_head[6].find_all('p')]\n",
    "    f1['SUB. ATT'],f2['SUB. ATT'] = [x.text.strip() for x in totals_head[7].find_all('p')]\n",
    "    f1['PASS'],f2['PASS'] = [x.text.strip() for x in totals_head[8].find_all('p')]\n",
    "    f1['REV.'],f2['REV.'] = [x.text.strip() for x in totals_head[9].find_all('p')]\n",
    "\n",
    "    #TotalsPR\n",
    "    totals_per_round = stats[1].find_all('td')\n",
    "\n",
    "    for col_index in range(0,len(totals_per_round),10):\n",
    "        fighter1round = copy.deepcopy(totals_round)\n",
    "        fighter2round = copy.deepcopy(totals_round)\n",
    "\n",
    "        fighter1round['Round'], fighter2round['Round'] = [f'{(col_index//10)+1}'] *2\n",
    "        fighter1round['Name'],fighter2round['Name'] = [x.text.strip() for x in totals_per_round[0+col_index].find_all('p')]\n",
    "        fighter1round['KD'],fighter2round['KD'] = [x.text.strip() for x in totals_per_round[1+col_index].find_all('p')]\n",
    "        fighter1round['SIG. STR.']['landed'],fighter1round['SIG. STR.']['attempted'], fighter2round['SIG. STR.']['landed'],fighter2round['SIG. STR.']['attempted'] = [a.strip() for x in totals_per_round[2+col_index].find_all('p') for a in x.text.split('of')]\n",
    "        fighter1round['SIG. STR. %'],fighter2round['SIG. STR. %'] = [x.text.strip() for x in totals_per_round[3+col_index].find_all('p')]\n",
    "        fighter1round['TOTAL STR.']['landed'],fighter1round['TOTAL STR.']['attempted'], fighter2round['TOTAL STR.']['landed'],fighter2round['TOTAL STR.']['attempted'] = [a.strip() for x in totals_per_round[4+col_index].find_all('p') for a in x.text.split('of')]\n",
    "        fighter1round['TD']['landed'],fighter1round['TD']['attempted'], fighter2round['TD']['landed'],fighter2round['TD']['attempted'] = [a.strip() for x in totals_per_round[5+col_index].find_all('p') for a in x.text.split('of')]\n",
    "        fighter1round['TD %'],fighter2round['TD %'] = [x.text.strip() for x in totals_per_round[6+col_index].find_all('p')]\n",
    "        fighter1round['SUB. ATT'],fighter2round['SUB. ATT'] = [x.text.strip() for x in totals_per_round[7+col_index].find_all('p')]\n",
    "        fighter1round['PASS'],fighter2round['PASS'] = [x.text.strip() for x in totals_per_round[8+col_index].find_all('p')]\n",
    "        fighter1round['REV.'],fighter2round['REV.'] = [x.text.strip() for x in totals_per_round[9+col_index].find_all('p')]\n",
    "\n",
    "        bout_info['Fighter1 stats']['Totals per Round'].append(dict(fighter1round))\n",
    "        bout_info['Fighter2 stats']['Totals per Round'].append(dict(fighter2round))\n",
    "\n",
    "    #Sigs\n",
    "    sig_strikes = stats[2].find_all('td')\n",
    "    f1,f2 = bout_info['Fighter1 stats']['Significant Strikes'], bout_info['Fighter2 stats']['Significant Strikes']\n",
    "\n",
    "    f1['Name'],f2['Name'] = [x.text.strip() for x in totals_head[0].find_all('p')]\n",
    "    f1['SIG. STR.']['landed'],f1['SIG. STR.']['attempted'], f2['SIG. STR.']['landed'],f2['SIG. STR.']['attempted'] = [a.strip() for x in sig_strikes[1].find_all('p') for a in x.text.split('of')]\n",
    "    f1['SIG. STR. %'],f2['SIG. STR. %'] = [x.text.strip() for x in sig_strikes[2].find_all('p')]\n",
    "    f1['HEAD']['landed'],f1['HEAD']['attempted'], f2['HEAD']['landed'],f2['HEAD']['attempted'] = [a.strip() for x in sig_strikes[3].find_all('p') for a in x.text.split('of')]\n",
    "    f1['BODY']['landed'],f1['BODY']['attempted'], f2['BODY']['landed'],f2['BODY']['attempted'] = [a.strip() for x in sig_strikes[4].find_all('p') for a in x.text.split('of')]\n",
    "    f1['LEG']['landed'],f1['LEG']['attempted'], f2['LEG']['landed'],f2['LEG']['attempted'] = [a.strip() for x in sig_strikes[5].find_all('p') for a in x.text.split('of')]\n",
    "    f1['DISTANCE']['landed'],f1['DISTANCE']['attempted'], f2['DISTANCE']['landed'],f2['DISTANCE']['attempted'] = [a.strip() for x in sig_strikes[6].find_all('p') for a in x.text.split('of')]\n",
    "    f1['CLINCH']['landed'],f1['CLINCH']['attempted'], f2['CLINCH']['landed'],f2['CLINCH']['attempted'] = [a.strip() for x in sig_strikes[7].find_all('p') for a in x.text.split('of')]\n",
    "    f1['GROUND']['landed'],f1['GROUND']['attempted'], f2['GROUND']['landed'],f2['GROUND']['attempted'] = [a.strip() for x in sig_strikes[8].find_all('p') for a in x.text.split('of')]\n",
    "\n",
    "    #SigsPR\n",
    "\n",
    "    sig_strikes_per_round = stats[3].find_all('td')\n",
    "\n",
    "    for col_index in range(0,len(sig_strikes_per_round),9):\n",
    "        fighter1round = copy.deepcopy(sigstrikes_round)\n",
    "        fighter2round = copy.deepcopy(sigstrikes_round)\n",
    "\n",
    "        fighter1round['Round'], fighter2round['Round'] = [f'{((col_index+3)//10)+1}'] * 2\n",
    "        fighter1round['Name'],fighter2round['Name'] = [x.text.strip() for x in sig_strikes_per_round[0+col_index].find_all('p')]\n",
    "        fighter1round['SIG. STR.']['landed'],fighter1round['SIG. STR.']['attempted'], fighter2round['SIG. STR.']['landed'],fighter2round['SIG. STR.']['attempted'] = [a.strip() for x in sig_strikes_per_round[1+col_index].find_all('p') for a in x.text.split('of')]\n",
    "        fighter1round['SIG. STR. %'],fighter2round['SIG. STR. %'] = [x.text.strip() for x in sig_strikes_per_round[2+col_index].find_all('p')]\n",
    "        fighter1round['HEAD']['landed'],fighter1round['HEAD']['attempted'], fighter2round['HEAD']['landed'],fighter2round['HEAD']['attempted'] = [a.strip() for x in sig_strikes_per_round[3+col_index].find_all('p') for a in x.text.split('of')]\n",
    "        fighter1round['BODY']['landed'],fighter1round['BODY']['attempted'], fighter2round['BODY']['landed'],fighter2round['BODY']['attempted'] = [a.strip() for x in sig_strikes_per_round[4+col_index].find_all('p') for a in x.text.split('of')]\n",
    "        fighter1round['LEG']['landed'],fighter1round['LEG']['attempted'], fighter2round['LEG']['landed'],fighter2round['LEG']['attempted'] = [a.strip() for x in sig_strikes_per_round[5+col_index].find_all('p') for a in x.text.split('of')]\n",
    "        fighter1round['DISTANCE']['landed'],fighter1round['DISTANCE']['attempted'], fighter2round['DISTANCE']['landed'],fighter2round['DISTANCE']['attempted'] = [a.strip() for x in sig_strikes_per_round[6+col_index].find_all('p') for a in x.text.split('of')]\n",
    "        fighter1round['CLINCH']['landed'],fighter1round['CLINCH']['attempted'], fighter2round['CLINCH']['landed'],fighter2round['CLINCH']['attempted'] = [a.strip() for x in sig_strikes_per_round[7+col_index].find_all('p') for a in x.text.split('of')]\n",
    "        fighter1round['GROUND']['landed'],fighter1round['GROUND']['attempted'], fighter2round['GROUND']['landed'],fighter2round['GROUND']['attempted'] = [a.strip() for x in sig_strikes_per_round[8+col_index].find_all('p') for a in x.text.split('of')]\n",
    "\n",
    "        bout_info['Fighter1 stats']['Significant Strikes per Round'].append(dict(fighter1round))\n",
    "        bout_info['Fighter2 stats']['Significant Strikes per Round'].append(dict(fighter2round))\n",
    "    \n",
    "    return bout_info"
   ]
  },
  {
   "cell_type": "code",
   "execution_count": 190,
   "metadata": {
    "ExecuteTime": {
     "end_time": "2019-06-03T10:50:17.231566Z",
     "start_time": "2019-06-03T10:50:17.222581Z"
    },
    "code_folding": [
     0
    ],
    "run_control": {
     "marked": false
    }
   },
   "outputs": [],
   "source": [
    "def get_fighters_info(url):\n",
    "    site = BeautifulSoup(urlopen(url),'html.parser')\n",
    "    \n",
    "    fighter = {'Name':'',\n",
    "               'Nickname':'',\n",
    "               'Weight':'',\n",
    "               'Height':'',\n",
    "               'Reach':'',\n",
    "               'STANCE':'',\n",
    "               'DOB':'',\n",
    "               'Carrer stats':{\"SLpM\":'', \n",
    "                               'Str. Acc.':'', \n",
    "                               'SApM':'', \n",
    "                               'Str. Def':'',  \n",
    "                               'TD Avg.':'', \n",
    "                               \"TD Acc.\":\"\", \n",
    "                               \"TD Def.\":'', \n",
    "                               \"Sub. Avg.\":''},\n",
    "              'bouts':[]}\n",
    "    \n",
    "    fighter['Name'] = site.find('h2',class_='b-content__title').span.text.strip()\n",
    "    fighter['Nickname'] = site.find('p',class_='b-content__Nickname').text.strip() if site.find('p',class_='b-content__Nickname') else ''\n",
    "    \n",
    "    for line in site.find('ul',class_='b-list__box-list').find_all('li'):\n",
    "        fighter[line.contents[1].text.strip()[:-1]] = unidecode(line.contents[2]).strip()\n",
    "    if fighter['Reach'] == '--': fighter['Reach'] = ''\n",
    "    \n",
    "    for line in site.find('div',class_='b-list__info-box-left clearfix').find_all('li'):\n",
    "        if line.find('i').text == '\\n': continue\n",
    "        fighter['Carrer stats'][line.contents[1].text.strip()[:-1]] = unidecode(line.contents[2]).strip()\n",
    "    \n",
    "    for bout in site.find('tbody',class_='b-fight-details__table-body').find_all('tr',onclick=True):\n",
    "        fighter['bouts'].append(get_bout_info(bout['data-link']))\n",
    "    \n",
    "    \n",
    "    return fighter"
   ]
  },
  {
   "cell_type": "code",
   "execution_count": 191,
   "metadata": {
    "ExecuteTime": {
     "end_time": "2019-06-03T11:12:44.724281Z",
     "start_time": "2019-06-03T10:50:19.159034Z"
    },
    "scrolled": true
   },
   "outputs": [
    {
     "name": "stdout",
     "output_type": "stream",
     "text": [
      "Anthony Smith\n",
      "Alexander Gustafsson\n",
      "Aleksandar Rakic\n",
      "Jimi Manuwa\n",
      "Makwan Amirkhani\n",
      "Chris Fishgold\n",
      "Christos Giagos\n",
      "Damir Hadzovic\n",
      "Daniel Teymur\n",
      "Sung Bin Jo\n",
      "Sergey Khandozhko\n",
      "Rostem Akman\n",
      "Lina Lansberg\n",
      "Tonya Evinger\n",
      "Leonardo Santos\n",
      "Stevie Ray\n",
      "Frank Camacho\n",
      "Nick Hein\n",
      "Bea Malecki\n",
      "Duda Santana\n",
      "Devin Clark\n",
      "Darko Stosic\n",
      "Joel Alvarez\n",
      "Danilo Belluardo\n",
      "Anthony Smith\n",
      "Alexander Gustafsson\n",
      "Aleksandar Rakic\n",
      "Jimi Manuwa\n",
      "Makwan Amirkhani\n",
      "Chris Fishgold\n",
      "Christos Giagos\n",
      "Damir Hadzovic\n",
      "Daniel Teymur\n",
      "Sung Bin Jo\n",
      "Sergey Khandozhko\n",
      "Rostem Akman\n",
      "Lina Lansberg\n",
      "Tonya Evinger\n",
      "Leonardo Santos\n",
      "Stevie Ray\n",
      "Frank Camacho\n",
      "Nick Hein\n",
      "Bea Malecki\n",
      "Duda Santana\n",
      "Devin Clark\n",
      "Darko Stosic\n",
      "Joel Alvarez\n",
      "Danilo Belluardo\n",
      "Rafael Dos Anjos\n",
      "Kevin Lee\n",
      "Ian Heinisch\n",
      "Antonio Carlos Junior\n",
      "Felicia Spencer\n",
      "Megan Anderson\n",
      "Vicente Luque\n",
      "Derrick Krantz\n",
      "Charles Oliveira\n",
      "Nik Lentz\n",
      "Davi Ramos\n",
      "Austin Hubbard\n",
      "Aspen Ladd\n",
      "Sijara Eubanks\n",
      "Desmond Green\n",
      "Charles Jourdain\n",
      "Michel Pereira\n",
      "Danny Roberts\n",
      "Grant Dawson\n",
      "Michael Trizano\n",
      "Ed Herman\n",
      "Patrick Cummins\n",
      "Zak Cummings\n",
      "Trevin Giles\n",
      "Julio Arce\n",
      "Julian Erosa\n"
     ]
    }
   ],
   "source": [
    "ufc_stas_update = get_last_card(2)"
   ]
  },
  {
   "cell_type": "code",
   "execution_count": null,
   "metadata": {},
   "outputs": [],
   "source": [
    "#check why their returns wrong number"
   ]
  },
  {
   "cell_type": "code",
   "execution_count": 200,
   "metadata": {
    "ExecuteTime": {
     "end_time": "2019-06-03T11:24:14.083470Z",
     "start_time": "2019-06-03T11:24:14.072487Z"
    }
   },
   "outputs": [],
   "source": [
    "new_ufc_stats = update(fighters_ufc_stats,ufc_stas_update)"
   ]
  },
  {
   "cell_type": "code",
   "execution_count": 201,
   "metadata": {
    "ExecuteTime": {
     "end_time": "2019-06-03T11:24:14.803951Z",
     "start_time": "2019-06-03T11:24:14.800944Z"
    }
   },
   "outputs": [
    {
     "data": {
      "text/plain": [
       "1934"
      ]
     },
     "execution_count": 201,
     "metadata": {},
     "output_type": "execute_result"
    }
   ],
   "source": [
    "len(new_ufc_stats)"
   ]
  },
  {
   "cell_type": "code",
   "execution_count": 202,
   "metadata": {
    "ExecuteTime": {
     "end_time": "2019-06-03T11:24:31.900002Z",
     "start_time": "2019-06-03T11:24:16.543182Z"
    }
   },
   "outputs": [],
   "source": [
    "json.dump(new_ufc_stats,open('all_ufc_stats_info_June_3','w'))"
   ]
  },
  {
   "cell_type": "code",
   "execution_count": null,
   "metadata": {},
   "outputs": [],
   "source": [
    "#events keys"
   ]
  },
  {
   "cell_type": "code",
   "execution_count": 34,
   "metadata": {
    "ExecuteTime": {
     "end_time": "2019-06-03T06:43:05.555462Z",
     "start_time": "2019-06-03T06:43:05.551449Z"
    }
   },
   "outputs": [],
   "source": [
    "dict_of_cards_dates = json.load(open('ufc_stats_event_dates','r'))"
   ]
  },
  {
   "cell_type": "code",
   "execution_count": 68,
   "metadata": {
    "ExecuteTime": {
     "end_time": "2019-06-03T07:17:53.157475Z",
     "start_time": "2019-06-03T07:17:53.154481Z"
    }
   },
   "outputs": [],
   "source": [
    "dict_of_events = {}"
   ]
  },
  {
   "cell_type": "code",
   "execution_count": 75,
   "metadata": {
    "ExecuteTime": {
     "end_time": "2019-06-03T07:20:26.940181Z",
     "start_time": "2019-06-03T07:20:26.935179Z"
    }
   },
   "outputs": [],
   "source": [
    "def date_decoder(string):\n",
    "    months = {'Jan': '01','Feb': '02','Mar': '03',\n",
    "      'Apr': '04','May': '05','Jun': '06',\n",
    "      'Jul': '07','Aug': '08','Sep': '09',\n",
    "      'Oct': '10','Nov': '11','Dec': '12'}\n",
    "    date = re.findall('\\w+',string)\n",
    "    return f\"{date[-1]}-{months[date[0]]}-{date[1]}\" "
   ]
  },
  {
   "cell_type": "code",
   "execution_count": 69,
   "metadata": {
    "ExecuteTime": {
     "end_time": "2019-06-03T07:17:53.852452Z",
     "start_time": "2019-06-03T07:17:53.847455Z"
    }
   },
   "outputs": [],
   "source": [
    "def get_all_events_dates(fighters_link):\n",
    "    for idx,l in enumerate(fighters_link):\n",
    "        print(idx,'\\t',end='')\n",
    "        site = BeautifulSoup(urlopen(l),'html.parser')\n",
    "        for cell in site.find('table',class_=\"b-fight-details__table_type_event-details\").find_all(\"td\",'l-page_align_left'):\n",
    "            if cell.a:\n",
    "                if re.search('event-details',cell.a['href']):\n",
    "                    dict_of_events[cell.a.text.strip()] = date_decoder(cell.find_all('p')[-1].text.strip())\n",
    "    return dict_of_events"
   ]
  },
  {
   "cell_type": "code",
   "execution_count": 70,
   "metadata": {
    "ExecuteTime": {
     "end_time": "2019-06-03T07:17:54.276543Z",
     "start_time": "2019-06-03T07:17:54.271553Z"
    }
   },
   "outputs": [],
   "source": [
    "def get_all_fighters(cards_links,fighter_links = dict()):\n",
    "    for link in cards_links:\n",
    "        site = BeautifulSoup(urlopen(link),'html.parser')\n",
    "        for fight in site.find('tbody',class_='b-fight-details__table-body').find_all('tr',class_='b-fight-details__table-row'):\n",
    "            for fighter in fight.find_all('a',class_='b-link_style_black'):\n",
    "                if fighter.text.strip() not in fighter_links:\n",
    "                    fighter_links[fighter.text.strip()] = fighter['href']\n",
    "    \n",
    "    return fighter_links"
   ]
  },
  {
   "cell_type": "code",
   "execution_count": 88,
   "metadata": {
    "ExecuteTime": {
     "end_time": "2019-06-03T08:32:41.379482Z",
     "start_time": "2019-06-03T08:32:41.375469Z"
    },
    "run_control": {
     "marked": true
    }
   },
   "outputs": [],
   "source": [
    "def get_last_card(ret_link=False): \n",
    "    link = f'http://ufcstats.com/statistics/events/completed'\n",
    "    site = BeautifulSoup(urlopen(link),'html.parser')\n",
    "    link = site.find('tbody').find_all('a',class_='b-link')[1]['href']\n",
    "    if ret_link:\n",
    "        return link\n",
    "    fighters = get_all_fighters([link])\n",
    "    get_all_events_dates(fighters.values())"
   ]
  },
  {
   "cell_type": "code",
   "execution_count": 77,
   "metadata": {
    "ExecuteTime": {
     "end_time": "2019-06-03T07:21:01.786819Z",
     "start_time": "2019-06-03T07:20:30.223179Z"
    },
    "scrolled": true
   },
   "outputs": [
    {
     "name": "stdout",
     "output_type": "stream",
     "text": [
      "0 \t1 \t2 \t3 \t4 \t5 \t6 \t7 \t8 \t9 \t10 \t11 \t12 \t13 \t14 \t15 \t16 \t17 \t18 \t19 \t20 \t21 \t22 \t23 \t"
     ]
    }
   ],
   "source": [
    "get_last_card()"
   ]
  },
  {
   "cell_type": "code",
   "execution_count": 79,
   "metadata": {
    "ExecuteTime": {
     "end_time": "2019-06-03T07:21:59.627618Z",
     "start_time": "2019-06-03T07:21:59.624616Z"
    },
    "scrolled": true
   },
   "outputs": [],
   "source": [
    "dict_of_cards_dates.update(dict_of_events)"
   ]
  },
  {
   "cell_type": "code",
   "execution_count": 83,
   "metadata": {
    "ExecuteTime": {
     "end_time": "2019-06-03T07:24:54.950668Z",
     "start_time": "2019-06-03T07:24:54.943661Z"
    }
   },
   "outputs": [],
   "source": [
    "json.dump(dict_of_cards_dates,open('ufc_stats_event_dates_june_3','w'))"
   ]
  },
  {
   "cell_type": "code",
   "execution_count": null,
   "metadata": {},
   "outputs": [],
   "source": [
    "#update women"
   ]
  },
  {
   "cell_type": "code",
   "execution_count": 85,
   "metadata": {
    "ExecuteTime": {
     "end_time": "2019-06-03T08:30:46.179064Z",
     "start_time": "2019-06-03T08:30:46.174066Z"
    }
   },
   "outputs": [],
   "source": [
    "women_dict = json.load(open(\"womens dict\",'r'))"
   ]
  },
  {
   "cell_type": "code",
   "execution_count": 91,
   "metadata": {
    "ExecuteTime": {
     "end_time": "2019-06-03T08:35:48.620471Z",
     "start_time": "2019-06-03T08:35:48.617471Z"
    }
   },
   "outputs": [],
   "source": [
    "def is_woman(string):\n",
    "    if re.search('women',string,re.IGNORECASE):\n",
    "        return 1\n",
    "    else: return 0"
   ]
  },
  {
   "cell_type": "code",
   "execution_count": 92,
   "metadata": {
    "ExecuteTime": {
     "end_time": "2019-06-03T08:35:49.100065Z",
     "start_time": "2019-06-03T08:35:49.095075Z"
    }
   },
   "outputs": [],
   "source": [
    "fighters_wclasses = dict()\n",
    "def get_all_weightclasses(cards_links):\n",
    "    for link in cards_links:\n",
    "        site = BeautifulSoup(urlopen(link),'html.parser')\n",
    "        for fight in site.find('tbody',class_='b-fight-details__table-body').find_all('tr',class_='b-fight-details__table-row'):\n",
    "            info = fight.find_all('p','b-fight-details__table-text')\n",
    "            wclass = info[11].text.strip()\n",
    "            f1 = info[1].text.strip()\n",
    "            f2 = info[2].text.strip()\n",
    "            fighters_wclasses[f1] = wclass\n",
    "            fighters_wclasses[f2] = wclass"
   ]
  },
  {
   "cell_type": "code",
   "execution_count": 93,
   "metadata": {
    "ExecuteTime": {
     "end_time": "2019-06-03T08:35:52.318083Z",
     "start_time": "2019-06-03T08:35:49.879253Z"
    }
   },
   "outputs": [],
   "source": [
    "get_all_weightclasses([get_last_card(ret_link=True)])"
   ]
  },
  {
   "cell_type": "code",
   "execution_count": 96,
   "metadata": {
    "ExecuteTime": {
     "end_time": "2019-06-03T08:36:47.900075Z",
     "start_time": "2019-06-03T08:36:47.896077Z"
    }
   },
   "outputs": [],
   "source": [
    "updated_women = {k:is_woman(v) for k,v in fighters_wclasses.items()}"
   ]
  },
  {
   "cell_type": "code",
   "execution_count": 97,
   "metadata": {
    "ExecuteTime": {
     "end_time": "2019-06-03T08:37:03.442092Z",
     "start_time": "2019-06-03T08:37:03.440093Z"
    }
   },
   "outputs": [],
   "source": [
    "women_dict.update(updated_women)"
   ]
  },
  {
   "cell_type": "code",
   "execution_count": 100,
   "metadata": {
    "ExecuteTime": {
     "end_time": "2019-06-03T08:40:24.866062Z",
     "start_time": "2019-06-03T08:40:24.856065Z"
    }
   },
   "outputs": [],
   "source": [
    "json.dump(women_dict,open(\"womens dict\",'w'))"
   ]
  },
  {
   "cell_type": "code",
   "execution_count": null,
   "metadata": {},
   "outputs": [],
   "source": []
  }
 ],
 "metadata": {
  "kernelspec": {
   "display_name": "Python 3",
   "language": "python",
   "name": "python3"
  },
  "language_info": {
   "codemirror_mode": {
    "name": "ipython",
    "version": 3
   },
   "file_extension": ".py",
   "mimetype": "text/x-python",
   "name": "python",
   "nbconvert_exporter": "python",
   "pygments_lexer": "ipython3",
   "version": "3.7.1"
  }
 },
 "nbformat": 4,
 "nbformat_minor": 2
}
