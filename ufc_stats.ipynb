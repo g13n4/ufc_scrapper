{
 "cells": [
  {
   "cell_type": "code",
   "execution_count": 50,
   "metadata": {
    "ExecuteTime": {
     "end_time": "2019-05-29T17:22:37.608293Z",
     "start_time": "2019-05-29T17:22:37.604307Z"
    },
    "run_control": {
     "marked": true
    }
   },
   "outputs": [],
   "source": [
    "from bs4 import BeautifulSoup\n",
    "import bs4\n",
    "from urllib.request import Request, urlopen\n",
    "from unidecode import unidecode\n",
    "\n",
    "import os\n",
    "import re\n",
    "import pickle\n",
    "import json\n",
    "import copy"
   ]
  },
  {
   "cell_type": "code",
   "execution_count": 51,
   "metadata": {
    "ExecuteTime": {
     "end_time": "2019-05-29T17:22:37.908295Z",
     "start_time": "2019-05-29T17:22:37.904298Z"
    }
   },
   "outputs": [],
   "source": [
    "def get_all_ufc_cards():\n",
    "    cards_links = []\n",
    "    for page in range(20,0,-1):\n",
    "        link = urlopen(f'http://ufcstats.com/statistics/events/completed?page={page}')\n",
    "        site = BeautifulSoup(link,'html.parser')\n",
    "        for link in site.find('tbody').find_all('a',class_='b-link')[::-1]:\n",
    "            cards_links.append(link['href'])\n",
    "    return cards_links"
   ]
  },
  {
   "cell_type": "code",
   "execution_count": 3,
   "metadata": {
    "ExecuteTime": {
     "end_time": "2019-05-29T12:47:33.539033Z",
     "start_time": "2019-05-29T12:47:00.241030Z"
    }
   },
   "outputs": [],
   "source": [
    "cards_links = get_all_ufc_cards()"
   ]
  },
  {
   "cell_type": "code",
   "execution_count": 5,
   "metadata": {
    "ExecuteTime": {
     "end_time": "2019-05-29T12:49:13.789072Z",
     "start_time": "2019-05-29T12:49:13.785072Z"
    }
   },
   "outputs": [
    {
     "data": {
      "text/plain": [
       "'http://ufcstats.com/event-details/cbc071cb20ea59c7'"
      ]
     },
     "execution_count": 5,
     "metadata": {},
     "output_type": "execute_result"
    }
   ],
   "source": [
    "cards_links.pop()"
   ]
  },
  {
   "cell_type": "code",
   "execution_count": 6,
   "metadata": {
    "ExecuteTime": {
     "end_time": "2019-05-29T12:49:22.822071Z",
     "start_time": "2019-05-29T12:49:22.817071Z"
    }
   },
   "outputs": [
    {
     "data": {
      "text/plain": [
       "'http://ufcstats.com/event-details/6b8f28da9a483049'"
      ]
     },
     "execution_count": 6,
     "metadata": {},
     "output_type": "execute_result"
    }
   ],
   "source": [
    "cards_links[-1]"
   ]
  },
  {
   "cell_type": "code",
   "execution_count": 33,
   "metadata": {
    "ExecuteTime": {
     "end_time": "2019-05-29T13:56:16.445513Z",
     "start_time": "2019-05-29T13:56:16.442514Z"
    }
   },
   "outputs": [],
   "source": [
    "fighters_wclasses = dict()"
   ]
  },
  {
   "cell_type": "code",
   "execution_count": 36,
   "metadata": {
    "ExecuteTime": {
     "end_time": "2019-05-29T14:02:36.725492Z",
     "start_time": "2019-05-29T14:02:36.721479Z"
    }
   },
   "outputs": [],
   "source": [
    "def get_all_weightclasses(cards_links):\n",
    "    for link in cards_links:\n",
    "        site = BeautifulSoup(urlopen(link),'html.parser')\n",
    "        for fight in site.find('tbody',class_='b-fight-details__table-body').find_all('tr',class_='b-fight-details__table-row'):\n",
    "            info = fight.find_all('p','b-fight-details__table-text')\n",
    "            wclass = info[11].text.strip()\n",
    "            f1 = info[1].text.strip()\n",
    "            f2 = info[2].text.strip()\n",
    "            fighters_wclasses[f1] = wclass\n",
    "            fighters_wclasses[f2] = wclass"
   ]
  },
  {
   "cell_type": "code",
   "execution_count": 38,
   "metadata": {
    "ExecuteTime": {
     "end_time": "2019-05-29T14:14:57.335454Z",
     "start_time": "2019-05-29T14:02:51.521475Z"
    }
   },
   "outputs": [],
   "source": [
    "get_all_weightclasses(cards_links)"
   ]
  },
  {
   "cell_type": "code",
   "execution_count": 42,
   "metadata": {
    "ExecuteTime": {
     "end_time": "2019-05-29T14:21:38.036367Z",
     "start_time": "2019-05-29T14:21:38.033381Z"
    }
   },
   "outputs": [],
   "source": [
    "def is_woman(string):\n",
    "    if re.search('women',string,re.IGNORECASE):\n",
    "        return 1\n",
    "    else: return 0"
   ]
  },
  {
   "cell_type": "code",
   "execution_count": 44,
   "metadata": {
    "ExecuteTime": {
     "end_time": "2019-05-29T14:22:17.446362Z",
     "start_time": "2019-05-29T14:22:17.440376Z"
    }
   },
   "outputs": [],
   "source": [
    "women = {k:is_woman(v) for k,v in fighters_wclasses.items()}"
   ]
  },
  {
   "cell_type": "code",
   "execution_count": 47,
   "metadata": {
    "ExecuteTime": {
     "end_time": "2019-05-29T14:23:21.270441Z",
     "start_time": "2019-05-29T14:23:21.266451Z"
    }
   },
   "outputs": [
    {
     "data": {
      "text/plain": [
       "1"
      ]
     },
     "execution_count": 47,
     "metadata": {},
     "output_type": "execute_result"
    }
   ],
   "source": [
    "women['Rose Namajunas']"
   ]
  },
  {
   "cell_type": "code",
   "execution_count": 49,
   "metadata": {
    "ExecuteTime": {
     "end_time": "2019-05-29T14:35:38.324538Z",
     "start_time": "2019-05-29T14:35:38.320545Z"
    }
   },
   "outputs": [
    {
     "data": {
      "text/plain": [
       "1925"
      ]
     },
     "execution_count": 49,
     "metadata": {},
     "output_type": "execute_result"
    }
   ],
   "source": [
    "len(women)"
   ]
  },
  {
   "cell_type": "code",
   "execution_count": 48,
   "metadata": {
    "ExecuteTime": {
     "end_time": "2019-05-29T14:26:32.437858Z",
     "start_time": "2019-05-29T14:26:32.424872Z"
    }
   },
   "outputs": [],
   "source": [
    "json.dump(women,open(\"womens dict\",'w'))"
   ]
  },
  {
   "cell_type": "code",
   "execution_count": 7,
   "metadata": {
    "ExecuteTime": {
     "end_time": "2019-05-25T10:47:33.377583Z",
     "start_time": "2019-05-25T10:47:33.372584Z"
    }
   },
   "outputs": [],
   "source": [
    "def get_all_fighters(cards_links,fighter_links = dict()):\n",
    "    for link in cards_links:\n",
    "        site = BeautifulSoup(urlopen(link),'html.parser')\n",
    "        for fight in site.find('tbody',class_='b-fight-details__table-body').find_all('tr',class_='b-fight-details__table-row'):\n",
    "            for fighter in fight.find_all('a',class_='b-link_style_black'):\n",
    "                if fighter.text.strip() not in fighter_links:\n",
    "                    fighter_links[fighter.text.strip()] = fighter['href']\n",
    "    \n",
    "    return fighter_links"
   ]
  },
  {
   "cell_type": "code",
   "execution_count": 8,
   "metadata": {
    "ExecuteTime": {
     "end_time": "2019-05-25T10:59:21.442169Z",
     "start_time": "2019-05-25T10:47:34.460198Z"
    }
   },
   "outputs": [],
   "source": [
    "fighters_link = get_all_fighters(cards_links)"
   ]
  },
  {
   "cell_type": "code",
   "execution_count": 61,
   "metadata": {
    "ExecuteTime": {
     "end_time": "2019-05-25T11:35:27.913534Z",
     "start_time": "2019-05-25T11:35:27.909535Z"
    }
   },
   "outputs": [],
   "source": [
    "def date_decoder(string):\n",
    "    months = {'Jan': '01','Feb': '02','Mar': '03',\n",
    "      'Apr': '04','May': '05','Jun': '06',\n",
    "      'Jul': '07','Aug': '08','Sep': '09',\n",
    "      'Oct': '10','Nov': '11','Dec': '12'}\n",
    "    date = re.findall('\\w+',string)\n",
    "    return f\"{date[-1]}-{months[date[0]]}-{date[1]}\" "
   ]
  },
  {
   "cell_type": "code",
   "execution_count": 70,
   "metadata": {
    "ExecuteTime": {
     "end_time": "2019-05-25T11:44:41.726566Z",
     "start_time": "2019-05-25T11:44:41.718584Z"
    }
   },
   "outputs": [
    {
     "ename": "AttributeError",
     "evalue": "'list' object has no attribute 'values'",
     "output_type": "error",
     "traceback": [
      "\u001b[1;31m---------------------------------------------------------------------------\u001b[0m",
      "\u001b[1;31mAttributeError\u001b[0m                            Traceback (most recent call last)",
      "\u001b[1;32m<ipython-input-70-206e4a91e96c>\u001b[0m in \u001b[0;36m<module>\u001b[1;34m\u001b[0m\n\u001b[1;32m----> 1\u001b[1;33m \u001b[0mfighters_link\u001b[0m \u001b[1;33m=\u001b[0m \u001b[1;33m[\u001b[0m\u001b[0mx\u001b[0m \u001b[1;32mfor\u001b[0m \u001b[0mx\u001b[0m \u001b[1;32min\u001b[0m \u001b[0mfighters_link\u001b[0m\u001b[1;33m.\u001b[0m\u001b[0mvalues\u001b[0m\u001b[1;33m(\u001b[0m\u001b[1;33m)\u001b[0m\u001b[1;33m]\u001b[0m\u001b[1;33m\u001b[0m\u001b[1;33m\u001b[0m\u001b[0m\n\u001b[0m",
      "\u001b[1;31mAttributeError\u001b[0m: 'list' object has no attribute 'values'"
     ]
    }
   ],
   "source": [
    "fighters_link = [x for x in fighters_link.values()]"
   ]
  },
  {
   "cell_type": "code",
   "execution_count": 80,
   "metadata": {
    "ExecuteTime": {
     "end_time": "2019-05-25T11:46:11.047577Z",
     "start_time": "2019-05-25T11:46:11.044593Z"
    }
   },
   "outputs": [],
   "source": [
    "dict_of_events = {}"
   ]
  },
  {
   "cell_type": "code",
   "execution_count": 81,
   "metadata": {
    "ExecuteTime": {
     "end_time": "2019-05-25T11:46:11.826578Z",
     "start_time": "2019-05-25T11:46:11.820579Z"
    }
   },
   "outputs": [],
   "source": [
    "def get_all_events_dates(fighters_link):\n",
    "    for idx,l in enumerate(fighters_link):\n",
    "        print(idx,'\\t',end='')\n",
    "        site = BeautifulSoup(urlopen(l),'html.parser')\n",
    "        for cell in site.find('table',class_=\"b-fight-details__table_type_event-details\").find_all(\"td\",'l-page_align_left'):\n",
    "            if cell.a:\n",
    "                if re.search('event-details',cell.a['href']):\n",
    "                    dict_of_events[cell.a.text.strip()] = date_decoder(cell.find_all('p')[-1].text.strip())\n",
    "    return dict_of_events"
   ]
  },
  {
   "cell_type": "code",
   "execution_count": 82,
   "metadata": {
    "ExecuteTime": {
     "end_time": "2019-05-25T12:24:44.567961Z",
     "start_time": "2019-05-25T11:46:20.214292Z"
    },
    "scrolled": true
   },
   "outputs": [
    {
     "name": "stdout",
     "output_type": "stream",
     "text": [
      "0 \t1 \t2 \t3 \t4 \t5 \t6 \t7 \t8 \t9 \t10 \t11 \t12 \t13 \t14 \t15 \t16 \t17 \t18 \t19 \t20 \t21 \t22 \t23 \t24 \t25 \t26 \t27 \t28 \t29 \t30 \t31 \t32 \t33 \t34 \t35 \t36 \t37 \t38 \t39 \t40 \t41 \t42 \t43 \t44 \t45 \t46 \t47 \t48 \t49 \t50 \t51 \t52 \t53 \t54 \t55 \t56 \t57 \t58 \t59 \t60 \t61 \t62 \t63 \t64 \t65 \t66 \t67 \t68 \t69 \t70 \t71 \t72 \t73 \t74 \t75 \t76 \t77 \t78 \t79 \t80 \t81 \t82 \t83 \t84 \t85 \t86 \t87 \t88 \t89 \t90 \t91 \t92 \t93 \t94 \t95 \t96 \t97 \t98 \t99 \t100 \t101 \t102 \t103 \t104 \t105 \t106 \t107 \t108 \t109 \t110 \t111 \t112 \t113 \t114 \t115 \t116 \t117 \t118 \t119 \t120 \t121 \t122 \t123 \t124 \t125 \t126 \t127 \t128 \t129 \t130 \t131 \t132 \t133 \t134 \t135 \t136 \t137 \t138 \t139 \t140 \t141 \t142 \t143 \t144 \t145 \t146 \t147 \t148 \t149 \t150 \t151 \t152 \t153 \t154 \t155 \t156 \t157 \t158 \t159 \t160 \t161 \t162 \t163 \t164 \t165 \t166 \t167 \t168 \t169 \t170 \t171 \t172 \t173 \t174 \t175 \t176 \t177 \t178 \t179 \t180 \t181 \t182 \t183 \t184 \t185 \t186 \t187 \t188 \t189 \t190 \t191 \t192 \t193 \t194 \t195 \t196 \t197 \t198 \t199 \t200 \t201 \t202 \t203 \t204 \t205 \t206 \t207 \t208 \t209 \t210 \t211 \t212 \t213 \t214 \t215 \t216 \t217 \t218 \t219 \t220 \t221 \t222 \t223 \t224 \t225 \t226 \t227 \t228 \t229 \t230 \t231 \t232 \t233 \t234 \t235 \t236 \t237 \t238 \t239 \t240 \t241 \t242 \t243 \t244 \t245 \t246 \t247 \t248 \t249 \t250 \t251 \t252 \t253 \t254 \t255 \t256 \t257 \t258 \t259 \t260 \t261 \t262 \t263 \t264 \t265 \t266 \t267 \t268 \t269 \t270 \t271 \t272 \t273 \t274 \t275 \t276 \t277 \t278 \t279 \t280 \t281 \t282 \t283 \t284 \t285 \t286 \t287 \t288 \t289 \t290 \t291 \t292 \t293 \t294 \t295 \t296 \t297 \t298 \t299 \t300 \t301 \t302 \t303 \t304 \t305 \t306 \t307 \t308 \t309 \t310 \t311 \t312 \t313 \t314 \t315 \t316 \t317 \t318 \t319 \t320 \t321 \t322 \t323 \t324 \t325 \t326 \t327 \t328 \t329 \t330 \t331 \t332 \t333 \t334 \t335 \t336 \t337 \t338 \t339 \t340 \t341 \t342 \t343 \t344 \t345 \t346 \t347 \t348 \t349 \t350 \t351 \t352 \t353 \t354 \t355 \t356 \t357 \t358 \t359 \t360 \t361 \t362 \t363 \t364 \t365 \t366 \t367 \t368 \t369 \t370 \t371 \t372 \t373 \t374 \t375 \t376 \t377 \t378 \t379 \t380 \t381 \t382 \t383 \t384 \t385 \t386 \t387 \t388 \t389 \t390 \t391 \t392 \t393 \t394 \t395 \t396 \t397 \t398 \t399 \t400 \t401 \t402 \t403 \t404 \t405 \t406 \t407 \t408 \t409 \t410 \t411 \t412 \t413 \t414 \t415 \t416 \t417 \t418 \t419 \t420 \t421 \t422 \t423 \t424 \t425 \t426 \t427 \t428 \t429 \t430 \t431 \t432 \t433 \t434 \t435 \t436 \t437 \t438 \t439 \t440 \t441 \t442 \t443 \t444 \t445 \t446 \t447 \t448 \t449 \t450 \t451 \t452 \t453 \t454 \t455 \t456 \t457 \t458 \t459 \t460 \t461 \t462 \t463 \t464 \t465 \t466 \t467 \t468 \t469 \t470 \t471 \t472 \t473 \t474 \t475 \t476 \t477 \t478 \t479 \t480 \t481 \t482 \t483 \t484 \t485 \t486 \t487 \t488 \t489 \t490 \t491 \t492 \t493 \t494 \t495 \t496 \t497 \t498 \t499 \t500 \t501 \t502 \t503 \t504 \t505 \t506 \t507 \t508 \t509 \t510 \t511 \t512 \t513 \t514 \t515 \t516 \t517 \t518 \t519 \t520 \t521 \t522 \t523 \t524 \t525 \t526 \t527 \t528 \t529 \t530 \t531 \t532 \t533 \t534 \t535 \t536 \t537 \t538 \t539 \t540 \t541 \t542 \t543 \t544 \t545 \t546 \t547 \t548 \t549 \t550 \t551 \t552 \t553 \t554 \t555 \t556 \t557 \t558 \t559 \t560 \t561 \t562 \t563 \t564 \t565 \t566 \t567 \t568 \t569 \t570 \t571 \t572 \t573 \t574 \t575 \t576 \t577 \t578 \t579 \t580 \t581 \t582 \t583 \t584 \t585 \t586 \t587 \t588 \t589 \t590 \t591 \t592 \t593 \t594 \t595 \t596 \t597 \t598 \t599 \t600 \t601 \t602 \t603 \t604 \t605 \t606 \t607 \t608 \t609 \t610 \t611 \t612 \t613 \t614 \t615 \t616 \t617 \t618 \t619 \t620 \t621 \t622 \t623 \t624 \t625 \t626 \t627 \t628 \t629 \t630 \t631 \t632 \t633 \t634 \t635 \t636 \t637 \t638 \t639 \t640 \t641 \t642 \t643 \t644 \t645 \t646 \t647 \t648 \t649 \t650 \t651 \t652 \t653 \t654 \t655 \t656 \t657 \t658 \t659 \t660 \t661 \t662 \t663 \t664 \t665 \t666 \t667 \t668 \t669 \t670 \t671 \t672 \t673 \t674 \t675 \t676 \t677 \t678 \t679 \t680 \t681 \t682 \t683 \t684 \t685 \t686 \t687 \t688 \t689 \t690 \t691 \t692 \t693 \t694 \t695 \t696 \t697 \t698 \t699 \t700 \t701 \t702 \t703 \t704 \t705 \t706 \t707 \t708 \t709 \t710 \t711 \t712 \t713 \t714 \t715 \t716 \t717 \t718 \t719 \t720 \t721 \t722 \t723 \t724 \t725 \t726 \t727 \t728 \t729 \t730 \t731 \t732 \t733 \t734 \t735 \t736 \t737 \t738 \t739 \t740 \t741 \t742 \t743 \t744 \t745 \t746 \t747 \t748 \t749 \t750 \t751 \t752 \t753 \t754 \t755 \t756 \t757 \t758 \t759 \t760 \t761 \t762 \t763 \t764 \t765 \t766 \t767 \t768 \t769 \t770 \t771 \t772 \t773 \t774 \t775 \t776 \t777 \t778 \t779 \t780 \t781 \t782 \t783 \t784 \t785 \t786 \t787 \t788 \t789 \t790 \t791 \t792 \t793 \t794 \t795 \t796 \t797 \t798 \t799 \t800 \t801 \t802 \t803 \t804 \t805 \t806 \t807 \t808 \t809 \t810 \t811 \t812 \t813 \t814 \t815 \t816 \t817 \t818 \t819 \t820 \t821 \t822 \t823 \t824 \t825 \t826 \t827 \t828 \t829 \t830 \t831 \t832 \t833 \t834 \t835 \t836 \t837 \t838 \t839 \t840 \t841 \t842 \t843 \t844 \t845 \t846 \t847 \t848 \t849 \t850 \t851 \t852 \t853 \t854 \t855 \t856 \t857 \t858 \t859 \t860 \t861 \t862 \t863 \t864 \t865 \t866 \t867 \t868 \t869 \t870 \t871 \t872 \t873 \t874 \t875 \t876 \t877 \t878 \t879 \t880 \t881 \t882 \t883 \t884 \t885 \t886 \t887 \t888 \t889 \t890 \t891 \t892 \t893 \t894 \t895 \t896 \t897 \t898 \t899 \t900 \t901 \t902 \t903 \t904 \t905 \t906 \t907 \t908 \t909 \t910 \t911 \t912 \t913 \t914 \t915 \t916 \t917 \t918 \t919 \t920 \t921 \t922 \t923 \t924 \t925 \t926 \t927 \t928 \t929 \t930 \t931 \t932 \t933 \t934 \t935 \t936 \t937 \t938 \t939 \t940 \t941 \t942 \t943 \t944 \t945 \t946 \t947 \t948 \t949 \t950 \t951 \t952 \t953 \t954 \t955 \t956 \t957 \t958 \t959 \t960 \t961 \t962 \t963 \t964 \t965 \t966 \t967 \t968 \t969 \t970 \t971 \t972 \t973 \t974 \t975 \t976 \t977 \t978 \t979 \t980 \t981 \t982 \t983 \t984 \t985 \t986 \t987 \t988 \t989 \t990 \t991 \t992 \t993 \t994 \t995 \t996 \t997 \t998 \t999 \t1000 \t1001 \t1002 \t1003 \t1004 \t1005 \t1006 \t1007 \t1008 \t1009 \t1010 \t1011 \t1012 \t1013 \t1014 \t1015 \t1016 \t1017 \t1018 \t1019 \t1020 \t1021 \t1022 \t1023 \t1024 \t1025 \t1026 \t1027 \t1028 \t1029 \t1030 \t1031 \t1032 \t1033 \t1034 \t1035 \t1036 \t1037 \t1038 \t1039 \t1040 \t1041 \t1042 \t1043 \t1044 \t1045 \t1046 \t1047 \t1048 \t1049 \t1050 \t1051 \t1052 \t1053 \t1054 \t1055 \t1056 \t1057 \t1058 \t1059 \t1060 \t1061 \t1062 \t1063 \t1064 \t1065 \t1066 \t1067 \t1068 \t1069 \t1070 \t1071 \t1072 \t1073 \t1074 \t1075 \t1076 \t1077 \t1078 \t1079 \t1080 \t1081 \t1082 \t1083 \t1084 \t1085 \t1086 \t1087 \t1088 \t1089 \t1090 \t1091 \t1092 \t1093 \t1094 \t1095 \t1096 \t1097 \t1098 \t1099 \t1100 \t1101 \t1102 \t1103 \t1104 \t1105 \t1106 \t1107 \t1108 \t1109 \t1110 \t1111 \t1112 \t1113 \t1114 \t1115 \t1116 \t1117 \t1118 \t1119 \t1120 \t1121 \t1122 \t1123 \t1124 \t1125 \t1126 \t1127 \t1128 \t1129 \t1130 \t1131 \t1132 \t1133 \t1134 \t1135 \t1136 \t1137 \t1138 \t1139 \t1140 \t1141 \t1142 \t1143 \t1144 \t1145 \t1146 \t1147 \t1148 \t1149 \t1150 \t1151 \t1152 \t1153 \t1154 \t1155 \t1156 \t1157 \t1158 \t1159 \t1160 \t1161 \t1162 \t1163 \t1164 \t1165 \t1166 \t1167 \t1168 \t1169 \t1170 \t1171 \t1172 \t1173 \t1174 \t1175 \t1176 \t1177 \t1178 \t1179 \t1180 \t1181 \t1182 \t1183 \t1184 \t1185 \t1186 \t1187 \t1188 \t1189 \t1190 \t1191 \t1192 \t1193 \t1194 \t1195 \t1196 \t1197 \t1198 \t1199 \t1200 \t1201 \t1202 \t1203 \t1204 \t1205 \t1206 \t1207 \t1208 \t1209 \t1210 \t1211 \t1212 \t1213 \t1214 \t1215 \t1216 \t1217 \t1218 \t1219 \t1220 \t1221 \t1222 \t1223 \t1224 \t1225 \t1226 \t1227 \t1228 \t1229 \t1230 \t1231 \t1232 \t1233 \t1234 \t1235 \t1236 \t1237 \t1238 \t1239 \t1240 \t1241 \t1242 \t1243 \t1244 \t1245 \t1246 \t1247 \t1248 \t1249 \t1250 \t1251 \t1252 \t1253 \t1254 \t1255 \t1256 \t1257 \t1258 \t1259 \t1260 \t1261 \t1262 \t1263 \t1264 \t1265 \t1266 \t1267 \t1268 \t1269 \t1270 \t1271 \t1272 \t1273 \t1274 \t1275 \t1276 \t1277 \t1278 \t1279 \t1280 \t1281 \t1282 \t1283 \t1284 \t1285 \t1286 \t1287 \t1288 \t1289 \t1290 \t1291 \t1292 \t1293 \t1294 \t1295 \t1296 \t1297 \t1298 \t1299 \t1300 \t1301 \t1302 \t1303 \t1304 \t1305 \t1306 \t1307 \t1308 \t1309 \t1310 \t1311 \t1312 \t1313 \t1314 \t1315 \t1316 \t1317 \t1318 \t1319 \t1320 \t1321 \t1322 \t1323 \t1324 \t1325 \t1326 \t1327 \t1328 \t1329 \t1330 \t1331 \t1332 \t1333 \t1334 \t1335 \t1336 \t1337 \t1338 \t1339 \t1340 \t1341 \t1342 \t1343 \t1344 \t1345 \t1346 \t1347 \t1348 \t1349 \t1350 \t1351 \t1352 \t1353 \t1354 \t1355 \t1356 \t1357 \t1358 \t1359 \t1360 \t1361 \t1362 \t1363 \t1364 \t1365 \t1366 \t1367 \t1368 \t1369 \t1370 \t1371 \t1372 \t1373 \t1374 \t1375 \t1376 \t1377 \t1378 \t1379 \t1380 \t1381 \t1382 \t1383 \t1384 \t1385 \t1386 \t1387 \t1388 \t1389 \t1390 \t1391 \t1392 \t1393 \t1394 \t1395 \t1396 \t1397 \t1398 \t1399 \t1400 \t1401 \t1402 \t1403 \t1404 \t1405 \t1406 \t1407 \t1408 \t1409 \t1410 \t1411 \t1412 \t1413 \t1414 \t1415 \t1416 \t1417 \t1418 \t1419 \t1420 \t1421 \t1422 \t1423 \t1424 \t1425 \t1426 \t1427 \t1428 \t1429 \t1430 \t1431 \t1432 \t1433 \t1434 \t1435 \t1436 \t1437 \t1438 \t1439 \t1440 \t1441 \t1442 \t1443 \t1444 \t1445 \t1446 \t1447 \t1448 \t1449 \t1450 \t1451 \t1452 \t1453 \t1454 \t1455 \t1456 \t1457 \t1458 \t1459 \t1460 \t1461 \t1462 \t1463 \t1464 \t1465 \t1466 \t1467 \t1468 \t1469 \t1470 \t1471 \t1472 \t1473 \t1474 \t1475 \t1476 \t1477 \t1478 \t1479 \t1480 \t1481 \t1482 \t1483 \t1484 \t1485 \t1486 \t1487 \t1488 \t1489 \t1490 \t1491 \t1492 \t1493 \t1494 \t1495 \t1496 \t1497 \t1498 \t1499 \t1500 \t1501 \t1502 \t1503 \t1504 \t1505 \t1506 \t1507 \t1508 \t1509 \t1510 \t1511 \t1512 \t1513 \t1514 \t1515 \t1516 \t1517 \t1518 \t1519 \t1520 \t1521 \t1522 \t1523 \t1524 \t1525 \t1526 \t1527 \t1528 \t1529 \t1530 \t1531 \t1532 \t1533 \t1534 \t1535 \t1536 \t1537 \t1538 \t1539 \t1540 \t1541 \t1542 \t1543 \t1544 \t1545 \t1546 \t1547 \t1548 \t1549 \t1550 \t"
     ]
    },
    {
     "name": "stdout",
     "output_type": "stream",
     "text": [
      "1551 \t1552 \t1553 \t1554 \t1555 \t1556 \t1557 \t1558 \t1559 \t1560 \t1561 \t1562 \t1563 \t1564 \t1565 \t1566 \t1567 \t1568 \t1569 \t1570 \t1571 \t1572 \t1573 \t1574 \t1575 \t1576 \t1577 \t1578 \t1579 \t1580 \t1581 \t1582 \t1583 \t1584 \t1585 \t1586 \t1587 \t1588 \t1589 \t1590 \t1591 \t1592 \t1593 \t1594 \t1595 \t1596 \t1597 \t1598 \t1599 \t1600 \t1601 \t1602 \t1603 \t1604 \t1605 \t1606 \t1607 \t1608 \t1609 \t1610 \t1611 \t1612 \t1613 \t1614 \t1615 \t1616 \t1617 \t1618 \t1619 \t1620 \t1621 \t1622 \t1623 \t1624 \t1625 \t1626 \t1627 \t1628 \t1629 \t1630 \t1631 \t1632 \t1633 \t1634 \t1635 \t1636 \t1637 \t1638 \t1639 \t1640 \t1641 \t1642 \t1643 \t1644 \t1645 \t1646 \t1647 \t1648 \t1649 \t1650 \t1651 \t1652 \t1653 \t1654 \t1655 \t1656 \t1657 \t1658 \t1659 \t1660 \t1661 \t1662 \t1663 \t1664 \t1665 \t1666 \t1667 \t1668 \t1669 \t1670 \t1671 \t1672 \t1673 \t1674 \t1675 \t1676 \t1677 \t1678 \t1679 \t1680 \t1681 \t1682 \t1683 \t1684 \t1685 \t1686 \t1687 \t1688 \t1689 \t1690 \t1691 \t1692 \t1693 \t1694 \t1695 \t1696 \t1697 \t1698 \t1699 \t1700 \t1701 \t1702 \t1703 \t1704 \t1705 \t1706 \t1707 \t1708 \t1709 \t1710 \t1711 \t1712 \t1713 \t1714 \t1715 \t1716 \t1717 \t1718 \t1719 \t1720 \t1721 \t1722 \t1723 \t1724 \t1725 \t1726 \t1727 \t1728 \t1729 \t1730 \t1731 \t1732 \t1733 \t1734 \t1735 \t1736 \t1737 \t1738 \t1739 \t1740 \t1741 \t1742 \t1743 \t1744 \t1745 \t1746 \t1747 \t1748 \t1749 \t1750 \t1751 \t1752 \t1753 \t1754 \t1755 \t1756 \t1757 \t1758 \t1759 \t1760 \t1761 \t1762 \t1763 \t1764 \t1765 \t1766 \t1767 \t1768 \t1769 \t1770 \t1771 \t1772 \t1773 \t1774 \t1775 \t1776 \t1777 \t1778 \t1779 \t1780 \t1781 \t1782 \t1783 \t1784 \t1785 \t1786 \t1787 \t1788 \t1789 \t1790 \t1791 \t1792 \t1793 \t1794 \t1795 \t1796 \t1797 \t1798 \t1799 \t1800 \t1801 \t1802 \t1803 \t1804 \t1805 \t1806 \t1807 \t1808 \t1809 \t1810 \t1811 \t1812 \t1813 \t1814 \t1815 \t1816 \t1817 \t1818 \t1819 \t1820 \t1821 \t1822 \t1823 \t1824 \t1825 \t1826 \t1827 \t1828 \t1829 \t1830 \t1831 \t1832 \t1833 \t1834 \t1835 \t1836 \t1837 \t1838 \t1839 \t1840 \t1841 \t1842 \t1843 \t1844 \t1845 \t1846 \t1847 \t1848 \t1849 \t1850 \t1851 \t1852 \t1853 \t1854 \t1855 \t1856 \t1857 \t1858 \t1859 \t1860 \t1861 \t1862 \t1863 \t1864 \t1865 \t1866 \t1867 \t1868 \t1869 \t1870 \t1871 \t1872 \t1873 \t1874 \t1875 \t1876 \t1877 \t1878 \t1879 \t1880 \t1881 \t1882 \t1883 \t1884 \t1885 \t1886 \t1887 \t1888 \t1889 \t1890 \t1891 \t1892 \t1893 \t1894 \t1895 \t1896 \t1897 \t1898 \t1899 \t1900 \t1901 \t1902 \t1903 \t1904 \t1905 \t1906 \t1907 \t1908 \t1909 \t1910 \t1911 \t1912 \t1913 \t1914 \t1915 \t1916 \t1917 \t1918 \t1919 \t1920 \t1921 \t1922 \t1923 \t1924 \t1925 \t1926 \t1927 \t"
     ]
    }
   ],
   "source": [
    "dict_of_cards_dates = get_all_events_dates(fighters_link)"
   ]
  },
  {
   "cell_type": "code",
   "execution_count": 83,
   "metadata": {
    "ExecuteTime": {
     "end_time": "2019-05-25T12:26:40.376973Z",
     "start_time": "2019-05-25T12:26:40.368967Z"
    }
   },
   "outputs": [],
   "source": [
    "json.dump(dict_of_cards_dates,open('ufc_stats_event_dates','w'))"
   ]
  },
  {
   "cell_type": "code",
   "execution_count": null,
   "metadata": {},
   "outputs": [],
   "source": [
    "# SLpM - Significant Strikes Landed per Minute\n",
    "#Str. Acc. - Significant Striking Accuracy\n",
    "#SApM - Significant Strikes Absorbed per Minute\n",
    "#Str. Def. - Significant Strike Defence (the % of opponents strikes that did not land)\n",
    "#TD Avg. - Average Takedowns Landed per 15 minutes\n",
    "#TD Acc. - Takedown Accuracy\n",
    "#TD Def. - Takedown Defense (the % of opponents TD attempts that did not land)\n",
    "#Sub. Avg. - Average Submissions Attempted per 15 minutes "
   ]
  },
  {
   "cell_type": "code",
   "execution_count": null,
   "metadata": {},
   "outputs": [],
   "source": []
  },
  {
   "cell_type": "code",
   "execution_count": 20,
   "metadata": {
    "ExecuteTime": {
     "end_time": "2019-05-19T11:09:41.429956Z",
     "start_time": "2019-05-19T11:09:41.425954Z"
    }
   },
   "outputs": [],
   "source": [
    "def get_last_card_fighters(dict_links):\n",
    "    site = BeautifulSoup(urlopen(\"http://ufcstats.com/statistics/events/completed\"),'html.parser')\n",
    "    last_card = site.find_all('i',class_=\"b-statistics__table-content\")[1].a['href']\n",
    "    return get_all_fighters([last_card],dict_links)"
   ]
  },
  {
   "cell_type": "code",
   "execution_count": 2,
   "metadata": {
    "ExecuteTime": {
     "end_time": "2019-05-20T09:11:44.700348Z",
     "start_time": "2019-05-20T09:11:44.657366Z"
    }
   },
   "outputs": [],
   "source": [
    "fighters_link = json.load(open(\"ufc_stats_fighters_links\",'r'))"
   ]
  },
  {
   "cell_type": "code",
   "execution_count": 23,
   "metadata": {
    "ExecuteTime": {
     "end_time": "2019-05-19T11:12:30.700939Z",
     "start_time": "2019-05-19T11:12:28.068469Z"
    }
   },
   "outputs": [],
   "source": [
    "fighters_link = get_last_card_fighters(fighters_link)"
   ]
  },
  {
   "cell_type": "code",
   "execution_count": 4,
   "metadata": {
    "ExecuteTime": {
     "end_time": "2019-05-20T09:13:02.303234Z",
     "start_time": "2019-05-20T09:13:02.291238Z"
    }
   },
   "outputs": [],
   "source": [
    "def get_fighters_info(url):\n",
    "    site = BeautifulSoup(urlopen(url),'html.parser')\n",
    "    \n",
    "    fighter = {'Name':'',\n",
    "               'Nickname':'',\n",
    "               'Weight':'',\n",
    "               'Height':'',\n",
    "               'Reach':'',\n",
    "               'STANCE':'',\n",
    "               'DOB':'',\n",
    "               'Carrer stats':{\"SLpM\":'', \n",
    "                               'Str. Acc.':'', \n",
    "                               'SApM':'', \n",
    "                               'Str. Def':'',  \n",
    "                               'TD Avg.':'', \n",
    "                               \"TD Acc.\":\"\", \n",
    "                               \"TD Def.\":'', \n",
    "                               \"Sub. Avg.\":''},\n",
    "              'bouts':[]}\n",
    "    \n",
    "    fighter['Name'] = site.find('h2',class_='b-content__title').span.text.strip()\n",
    "    fighter['Nickname'] = site.find('p',class_='b-content__Nickname').text.strip() if site.find('p',class_='b-content__Nickname') else ''\n",
    "    \n",
    "    for line in site.find('ul',class_='b-list__box-list').find_all('li'):\n",
    "        fighter[line.contents[1].text.strip()[:-1]] = unidecode(line.contents[2]).strip()\n",
    "    if fighter['Reach'] == '--': fighter['Reach'] = ''\n",
    "    \n",
    "    for line in site.find('div',class_='b-list__info-box-left clearfix').find_all('li'):\n",
    "        if line.find('i').text == '\\n': continue\n",
    "        fighter['Carrer stats'][line.contents[1].text.strip()[:-1]] = unidecode(line.contents[2]).strip()\n",
    "    \n",
    "    for bout in site.find('tbody',class_='b-fight-details__table-body').find_all('tr',onclick=True):\n",
    "        fighter['bouts'].append(get_bout_info(bout['data-link']))\n",
    "    \n",
    "    \n",
    "    return fighter"
   ]
  },
  {
   "cell_type": "code",
   "execution_count": 5,
   "metadata": {
    "ExecuteTime": {
     "end_time": "2019-05-20T09:13:03.138670Z",
     "start_time": "2019-05-20T09:13:03.048708Z"
    },
    "code_folding": [
     3,
     75,
     87
    ],
    "run_control": {
     "marked": true
    }
   },
   "outputs": [],
   "source": [
    "def get_bout_info(link):\n",
    "    site = BeautifulSoup(urlopen(link),'html.parser')\n",
    "    \n",
    "    bout_info = {'Card name':'',\n",
    "                 'Bout name':'',\n",
    "                 \"fight bonus\":'', \n",
    "                 'perf bonus':'', \n",
    "                 'sub bonus':'',\n",
    "                 'ko bonus':'', \n",
    "                 'Method':'',\n",
    "                 'Round':'',\n",
    "                 'title fight':'',\n",
    "                 'Details':'',\n",
    "                 'Score 1':'',\n",
    "                 'Score 2':'',\n",
    "                 'Score 3':'',\n",
    "                 'Fighter1 stats':{\n",
    "                     'Totals':{'Name':'',\n",
    "                         'KD':'',\n",
    "                               'SIG. STR.':{'attempted':'','landed':''},\n",
    "                               'SIG. STR. %':'',\n",
    "                               'TOTAL STR.':{'attempted':'','landed':''},\n",
    "                               'TD':{'attempted':'','landed':''},\n",
    "                               'TD %':'',\n",
    "                               'SUB. ATT':'',\n",
    "                               'PASS':'',\n",
    "                               'REV.':''},\n",
    "\n",
    "                     'Totals per Round':[],\n",
    "\n",
    "                     'Significant Strikes':{'Name':'',\n",
    "                         'SIG. STR.':{'attempted':'','landed':''},\n",
    "                               'SIG. STR. %':'',\n",
    "                               'HEAD':{'attempted':'','landed':''},\n",
    "                               'BODY':{'attempted':'','landed':''},\n",
    "                               'LEG':{'attempted':'','landed':''},\n",
    "                               'DISTANCE':{'attempted':'','landed':''},\n",
    "                               'CLINCH':{'attempted':'','landed':''},\n",
    "                               'GROUND':{'attempted':'','landed':''}},\n",
    "\n",
    "                     'Significant Strikes per Round':[],\n",
    "                 },\n",
    "\n",
    "                 'Fighter2 stats':{\n",
    "                     'Totals':{'Name':'',\n",
    "                               'KD':'',\n",
    "                               'SIG. STR.':{'attempted':'','landed':''},\n",
    "                               'SIG. STR. %':'',\n",
    "                               'TOTAL STR.':{'attempted':'','landed':''},\n",
    "                               'TD':{'attempted':'','landed':''},\n",
    "                               'TD %':'',\n",
    "                               'SUB. ATT':'',\n",
    "                               'PASS':'',\n",
    "                               'REV.':''},\n",
    "\n",
    "                     'Totals per Round':[],\n",
    "\n",
    "                     'Significant Strikes':{\n",
    "                         'Name':'',      \n",
    "                         'SIG. STR.':{'attempted':'','landed':''},\n",
    "                               'SIG. STR. %':'',\n",
    "                               'HEAD':{'attempted':'','landed':''},\n",
    "                               'BODY':{'attempted':'','landed':''},\n",
    "                               'LEG':{'attempted':'','landed':''},\n",
    "                               'DISTANCE':{'attempted':'','landed':''},\n",
    "                               'CLINCH':{'attempted':'','landed':''},\n",
    "                               'GROUND':{'attempted':'','landed':''}},\n",
    "\n",
    "                     'Significant Strikes per Round':[],\n",
    "                 },\n",
    "\n",
    "                'Fighter1':{'Result':'','Name':'', },\n",
    "                'Fighter2':{'Result':'','Name':'', }}\n",
    "\n",
    "\n",
    "    totals_round = {'Round':'',\n",
    "                    'Name':'',\n",
    "                    'KD':'',\n",
    "                    'SIG. STR.':{'attempted':'','landed':''},\n",
    "                    'SIG. STR. %':'',\n",
    "                    'TOTAL STR.':{'attempted':'','landed':''},\n",
    "                    'TD':{'attempted':'','landed':''},\n",
    "                    'TD %':'',\n",
    "                    'SUB. ATT':'',\n",
    "                    'PASS':'',\n",
    "                    'REV.':''}\n",
    "\n",
    "    sigstrikes_round = {'Name':'','Round':'',\n",
    "                       'SIG. STR.':{'attempted':'','landed':''},\n",
    "                       'SIG. STR. %':'',\n",
    "                       'HEAD':{'attempted':'','landed':''},\n",
    "                       'BODY':{'attempted':'','landed':''},\n",
    "                       'LEG':{'attempted':'','landed':''},\n",
    "                       'DISTANCE':{'attempted':'','landed':''},\n",
    "                       'CLINCH':{'attempted':'','landed':''},\n",
    "                       'GROUND':{'attempted':'','landed':''}}\n",
    "    \n",
    "    #Card name\n",
    "    bout_info['Card name'] = site.find('a',class_='b-link').text.strip()\n",
    "    bout_info['Bout name'] = site.find('i',class_='b-fight-details__fight-title').text.strip()\n",
    "    bout_info['Fighter1']['Result'], bout_info['Fighter2']['Result'] = [x.text.strip() for x in site.find('div',class_='b-fight-details__persons clearfix').find_all('i')]\n",
    "    bout_info['Fighter1']['Name'], bout_info['Fighter2']['Name'] = [x.text.strip() for x in site.find('div',class_='b-fight-details__persons clearfix').find_all('h3')]\n",
    "    bout_info['Fighter1']['Nickname'], bout_info['Fighter2']['Nickname'] = [x.text.strip()[1:-1] for x in site.find('div',class_='b-fight-details__persons clearfix').find_all('p')]\n",
    "    for bonus in site.find('i',class_='b-fight-details__fight-title').find_all('img'):\n",
    "        if re.search('/(\\w+).png',bonus['src'])[1] == 'belt': bout_info['title fight'] = True\n",
    "        else:\n",
    "            bout_info[re.search('/(\\w+).png',bonus['src'])[1]+' bonus'] = True\n",
    "    #Methods\n",
    "    method = site.find('p',class_=\"b-fight-details__text\").find('i','b-fight-details__text-item_first').contents\n",
    "    bout_info[method[1].text.strip()[:-1]] = method[3].text.strip()\n",
    "    descs = site.find('p',class_=\"b-fight-details__text\").find_all('i',class_=\"b-fight-details__text-item\")\n",
    "    bout_info[descs[0].contents[1].text.strip()[:-1]] = descs[0].contents[2].strip()\n",
    "    bout_info[descs[1].contents[1].text.strip()[:-1]] = descs[1].contents[2].strip()\n",
    "    bout_info[descs[2].contents[1].text.strip()[:-1]] = descs[2].contents[2].strip()\n",
    "    bout_info[descs[3].contents[1].text.strip()[:-1]] = descs[3].contents[3].text.strip()\n",
    "\n",
    "    #Refs or details\n",
    "    if len(site.find_all('p',class_='b-fight-details__text')[1].find_all('i','b-fight-details__text-item')) == 3:\n",
    "        cards = site.find_all('p',class_='b-fight-details__text')[1].find_all('i','b-fight-details__text-item')\n",
    "\n",
    "        bout_info['Score 1'] = {'Name':cards[0].contents[1].text}\n",
    "        bout_info['Score 1']['Fighter1'], bout_info['Score 1']['Fighter2'] = cards[0].contents[2].strip()[:-1].split('-')\n",
    "\n",
    "        bout_info['Score 2'] = {'Name':cards[0].contents[1].text}\n",
    "        bout_info['Score 2']['Fighter1'], bout_info['Score 2']['Fighter2'] = cards[1].contents[2].strip()[:-1].split('-')\n",
    "\n",
    "        bout_info['Score 3'] = {'Name':cards[0].contents[1].text}\n",
    "        bout_info['Score 3']['Fighter1'], bout_info['Score 3']['Fighter2'] = cards[2].contents[2].strip()[:-1].split('-')\n",
    "    else:\n",
    "        bout_info['Details'] = site.find_all('p',class_='b-fight-details__text')[1].contents[2].strip()\n",
    "        \n",
    "    if not site.find('section',class_='b-fight-details__section js-fight-section').find('p'):\n",
    "        return bout_info\n",
    "    \n",
    "    stats = site.find_all('tbody',class_='b-fight-details__table-body')\n",
    "\n",
    "    #Totals \n",
    "    f1,f2 = bout_info['Fighter1 stats']['Totals'], bout_info['Fighter2 stats']['Totals']\n",
    "    totals_head = stats[0].find_all('td')\n",
    "    f1['Name'],f2['Name'] = [x.text.strip() for x in totals_head[0].find_all('p')]\n",
    "    f1['KD'],f2['KD'] = [x.text.strip() for x in totals_head[1].find_all('p')]\n",
    "    f1['SIG. STR.']['landed'],f1['SIG. STR.']['attempted'], f2['SIG. STR.']['landed'],f2['SIG. STR.']['attempted'] = [a.strip() for x in totals_head[2].find_all('p') for a in x.text.split('of')]\n",
    "    f1['SIG. STR. %'],f2['SIG. STR. %'] = [x.text.strip() for x in totals_head[3].find_all('p')]\n",
    "    f1['TOTAL STR.']['landed'],f1['TOTAL STR.']['attempted'], f2['TOTAL STR.']['landed'],f2['TOTAL STR.']['attempted'] = [a.strip() for x in totals_head[4].find_all('p') for a in x.text.split('of')]\n",
    "    f1['TD']['landed'],f1['TD']['attempted'], f2['TD']['landed'],f2['TD']['attempted'] = [a.strip() for x in totals_head[5].find_all('p') for a in x.text.split('of')]\n",
    "    f1['TD %'],f2['TD %'] = [x.text.strip() for x in totals_head[6].find_all('p')]\n",
    "    f1['SUB. ATT'],f2['SUB. ATT'] = [x.text.strip() for x in totals_head[7].find_all('p')]\n",
    "    f1['PASS'],f2['PASS'] = [x.text.strip() for x in totals_head[8].find_all('p')]\n",
    "    f1['REV.'],f2['REV.'] = [x.text.strip() for x in totals_head[9].find_all('p')]\n",
    "\n",
    "    #TotalsPR\n",
    "    totals_per_round = stats[1].find_all('td')\n",
    "\n",
    "    for col_index in range(0,len(totals_per_round),10):\n",
    "        fighter1round = copy.deepcopy(totals_round)\n",
    "        fighter2round = copy.deepcopy(totals_round)\n",
    "\n",
    "        fighter1round['Round'], fighter2round['Round'] = [f'{(col_index//10)+1}'] *2\n",
    "        fighter1round['Name'],fighter2round['Name'] = [x.text.strip() for x in totals_per_round[0+col_index].find_all('p')]\n",
    "        fighter1round['KD'],fighter2round['KD'] = [x.text.strip() for x in totals_per_round[1+col_index].find_all('p')]\n",
    "        fighter1round['SIG. STR.']['landed'],fighter1round['SIG. STR.']['attempted'], fighter2round['SIG. STR.']['landed'],fighter2round['SIG. STR.']['attempted'] = [a.strip() for x in totals_per_round[2+col_index].find_all('p') for a in x.text.split('of')]\n",
    "        fighter1round['SIG. STR. %'],fighter2round['SIG. STR. %'] = [x.text.strip() for x in totals_per_round[3+col_index].find_all('p')]\n",
    "        fighter1round['TOTAL STR.']['landed'],fighter1round['TOTAL STR.']['attempted'], fighter2round['TOTAL STR.']['landed'],fighter2round['TOTAL STR.']['attempted'] = [a.strip() for x in totals_per_round[4+col_index].find_all('p') for a in x.text.split('of')]\n",
    "        fighter1round['TD']['landed'],fighter1round['TD']['attempted'], fighter2round['TD']['landed'],fighter2round['TD']['attempted'] = [a.strip() for x in totals_per_round[5+col_index].find_all('p') for a in x.text.split('of')]\n",
    "        fighter1round['TD %'],fighter2round['TD %'] = [x.text.strip() for x in totals_per_round[6+col_index].find_all('p')]\n",
    "        fighter1round['SUB. ATT'],fighter2round['SUB. ATT'] = [x.text.strip() for x in totals_per_round[7+col_index].find_all('p')]\n",
    "        fighter1round['PASS'],fighter2round['PASS'] = [x.text.strip() for x in totals_per_round[8+col_index].find_all('p')]\n",
    "        fighter1round['REV.'],fighter2round['REV.'] = [x.text.strip() for x in totals_per_round[9+col_index].find_all('p')]\n",
    "\n",
    "        bout_info['Fighter1 stats']['Totals per Round'].append(dict(fighter1round))\n",
    "        bout_info['Fighter2 stats']['Totals per Round'].append(dict(fighter2round))\n",
    "\n",
    "    #Sigs\n",
    "    sig_strikes = stats[2].find_all('td')\n",
    "    f1,f2 = bout_info['Fighter1 stats']['Significant Strikes'], bout_info['Fighter2 stats']['Significant Strikes']\n",
    "\n",
    "    f1['Name'],f2['Name'] = [x.text.strip() for x in totals_head[0].find_all('p')]\n",
    "    f1['SIG. STR.']['landed'],f1['SIG. STR.']['attempted'], f2['SIG. STR.']['landed'],f2['SIG. STR.']['attempted'] = [a.strip() for x in sig_strikes[1].find_all('p') for a in x.text.split('of')]\n",
    "    f1['SIG. STR. %'],f2['SIG. STR. %'] = [x.text.strip() for x in sig_strikes[2].find_all('p')]\n",
    "    f1['HEAD']['landed'],f1['HEAD']['attempted'], f2['HEAD']['landed'],f2['HEAD']['attempted'] = [a.strip() for x in sig_strikes[3].find_all('p') for a in x.text.split('of')]\n",
    "    f1['BODY']['landed'],f1['BODY']['attempted'], f2['BODY']['landed'],f2['BODY']['attempted'] = [a.strip() for x in sig_strikes[4].find_all('p') for a in x.text.split('of')]\n",
    "    f1['LEG']['landed'],f1['LEG']['attempted'], f2['LEG']['landed'],f2['LEG']['attempted'] = [a.strip() for x in sig_strikes[5].find_all('p') for a in x.text.split('of')]\n",
    "    f1['DISTANCE']['landed'],f1['DISTANCE']['attempted'], f2['DISTANCE']['landed'],f2['DISTANCE']['attempted'] = [a.strip() for x in sig_strikes[6].find_all('p') for a in x.text.split('of')]\n",
    "    f1['CLINCH']['landed'],f1['CLINCH']['attempted'], f2['CLINCH']['landed'],f2['CLINCH']['attempted'] = [a.strip() for x in sig_strikes[7].find_all('p') for a in x.text.split('of')]\n",
    "    f1['GROUND']['landed'],f1['GROUND']['attempted'], f2['GROUND']['landed'],f2['GROUND']['attempted'] = [a.strip() for x in sig_strikes[8].find_all('p') for a in x.text.split('of')]\n",
    "\n",
    "    #SigsPR\n",
    "\n",
    "    sig_strikes_per_round = stats[3].find_all('td')\n",
    "\n",
    "    for col_index in range(0,len(sig_strikes_per_round),9):\n",
    "        fighter1round = copy.deepcopy(sigstrikes_round)\n",
    "        fighter2round = copy.deepcopy(sigstrikes_round)\n",
    "\n",
    "        fighter1round['Round'], fighter2round['Round'] = [f'{((col_index+3)//10)+1}'] * 2\n",
    "        fighter1round['Name'],fighter2round['Name'] = [x.text.strip() for x in sig_strikes_per_round[0+col_index].find_all('p')]\n",
    "        fighter1round['SIG. STR.']['landed'],fighter1round['SIG. STR.']['attempted'], fighter2round['SIG. STR.']['landed'],fighter2round['SIG. STR.']['attempted'] = [a.strip() for x in sig_strikes_per_round[1+col_index].find_all('p') for a in x.text.split('of')]\n",
    "        fighter1round['SIG. STR. %'],fighter2round['SIG. STR. %'] = [x.text.strip() for x in sig_strikes_per_round[2+col_index].find_all('p')]\n",
    "        fighter1round['HEAD']['landed'],fighter1round['HEAD']['attempted'], fighter2round['HEAD']['landed'],fighter2round['HEAD']['attempted'] = [a.strip() for x in sig_strikes_per_round[3+col_index].find_all('p') for a in x.text.split('of')]\n",
    "        fighter1round['BODY']['landed'],fighter1round['BODY']['attempted'], fighter2round['BODY']['landed'],fighter2round['BODY']['attempted'] = [a.strip() for x in sig_strikes_per_round[4+col_index].find_all('p') for a in x.text.split('of')]\n",
    "        fighter1round['LEG']['landed'],fighter1round['LEG']['attempted'], fighter2round['LEG']['landed'],fighter2round['LEG']['attempted'] = [a.strip() for x in sig_strikes_per_round[5+col_index].find_all('p') for a in x.text.split('of')]\n",
    "        fighter1round['DISTANCE']['landed'],fighter1round['DISTANCE']['attempted'], fighter2round['DISTANCE']['landed'],fighter2round['DISTANCE']['attempted'] = [a.strip() for x in sig_strikes_per_round[6+col_index].find_all('p') for a in x.text.split('of')]\n",
    "        fighter1round['CLINCH']['landed'],fighter1round['CLINCH']['attempted'], fighter2round['CLINCH']['landed'],fighter2round['CLINCH']['attempted'] = [a.strip() for x in sig_strikes_per_round[7+col_index].find_all('p') for a in x.text.split('of')]\n",
    "        fighter1round['GROUND']['landed'],fighter1round['GROUND']['attempted'], fighter2round['GROUND']['landed'],fighter2round['GROUND']['attempted'] = [a.strip() for x in sig_strikes_per_round[8+col_index].find_all('p') for a in x.text.split('of')]\n",
    "\n",
    "        bout_info['Fighter1 stats']['Significant Strikes per Round'].append(dict(fighter1round))\n",
    "        bout_info['Fighter2 stats']['Significant Strikes per Round'].append(dict(fighter2round))\n",
    "    \n",
    "    return bout_info"
   ]
  },
  {
   "cell_type": "code",
   "execution_count": 7,
   "metadata": {
    "ExecuteTime": {
     "end_time": "2019-05-20T09:14:00.677267Z",
     "start_time": "2019-05-20T09:14:00.673266Z"
    }
   },
   "outputs": [],
   "source": [
    "fighters_link_list = [fighters_link[x] for x in fighters_link.keys()]"
   ]
  },
  {
   "cell_type": "code",
   "execution_count": null,
   "metadata": {},
   "outputs": [],
   "source": [
    "import json\n",
    "json.dump(fighters,open('fighters_ufc_stats_158.txt','w'))"
   ]
  },
  {
   "cell_type": "code",
   "execution_count": 8,
   "metadata": {
    "ExecuteTime": {
     "end_time": "2019-05-20T09:14:15.924263Z",
     "start_time": "2019-05-20T09:14:15.911270Z"
    },
    "run_control": {
     "marked": true
    }
   },
   "outputs": [],
   "source": [
    "fighters = []"
   ]
  },
  {
   "cell_type": "code",
   "execution_count": 19,
   "metadata": {
    "ExecuteTime": {
     "end_time": "2019-05-20T17:25:43.336972Z",
     "start_time": "2019-05-20T17:25:43.333964Z"
    }
   },
   "outputs": [],
   "source": [
    "def get_information_about_all_fighters(sherdog_links: list):\n",
    "    for offset,link in enumerate(sherdog_links,1058):\n",
    "        fighters.append(get_fighters_info(link))\n",
    "        print(offset,end=' ')"
   ]
  },
  {
   "cell_type": "code",
   "execution_count": 20,
   "metadata": {
    "ExecuteTime": {
     "end_time": "2019-05-20T21:04:07.734536Z",
     "start_time": "2019-05-20T17:25:44.175126Z"
    },
    "scrolled": true
   },
   "outputs": [
    {
     "name": "stdout",
     "output_type": "stream",
     "text": [
      "1058 1059 1060 1061 1062 1063 1064 1065 1066 1067 1068 1069 1070 1071 1072 1073 1074 1075 1076 1077 1078 1079 1080 1081 1082 1083 1084 1085 1086 1087 1088 1089 1090 1091 1092 1093 1094 1095 1096 1097 1098 1099 1100 1101 1102 1103 1104 1105 1106 1107 1108 1109 1110 1111 1112 1113 1114 1115 1116 1117 1118 1119 1120 1121 1122 1123 1124 1125 1126 1127 1128 1129 1130 1131 1132 1133 1134 1135 1136 1137 1138 1139 1140 1141 1142 1143 1144 1145 1146 1147 1148 1149 1150 1151 1152 1153 1154 1155 1156 1157 1158 1159 1160 1161 1162 1163 1164 1165 1166 1167 1168 1169 1170 1171 1172 1173 1174 1175 1176 1177 1178 1179 1180 1181 1182 1183 1184 1185 1186 1187 1188 1189 1190 1191 1192 1193 1194 1195 1196 1197 1198 1199 1200 1201 1202 1203 1204 1205 1206 1207 1208 1209 1210 1211 1212 1213 1214 1215 1216 1217 1218 1219 1220 1221 1222 1223 1224 1225 1226 1227 1228 1229 1230 1231 1232 1233 1234 1235 1236 1237 1238 1239 1240 1241 1242 1243 1244 1245 1246 1247 1248 1249 1250 1251 1252 1253 1254 1255 1256 1257 1258 1259 1260 1261 1262 1263 1264 1265 1266 1267 1268 1269 1270 1271 1272 1273 1274 1275 1276 1277 1278 1279 1280 1281 1282 1283 1284 1285 1286 1287 1288 1289 1290 1291 1292 1293 1294 1295 1296 1297 1298 1299 1300 1301 1302 1303 1304 1305 1306 1307 1308 1309 1310 1311 1312 1313 1314 1315 1316 1317 1318 1319 1320 1321 1322 1323 1324 1325 1326 1327 1328 1329 1330 1331 1332 1333 1334 1335 1336 1337 1338 1339 1340 1341 1342 1343 1344 1345 1346 1347 1348 1349 1350 1351 1352 1353 1354 1355 1356 1357 1358 1359 1360 1361 1362 1363 1364 1365 1366 1367 1368 1369 1370 1371 1372 1373 1374 1375 1376 1377 1378 1379 1380 1381 1382 1383 1384 1385 1386 1387 1388 1389 1390 1391 1392 1393 1394 1395 1396 1397 1398 1399 1400 1401 1402 1403 1404 1405 1406 1407 1408 1409 1410 1411 1412 1413 1414 1415 1416 1417 1418 1419 1420 1421 1422 1423 1424 1425 1426 1427 1428 1429 1430 1431 1432 1433 1434 1435 1436 1437 1438 1439 1440 1441 1442 1443 1444 1445 1446 1447 1448 1449 1450 1451 1452 1453 1454 1455 1456 1457 1458 1459 1460 1461 1462 1463 1464 1465 1466 1467 1468 1469 1470 1471 1472 1473 1474 1475 1476 1477 1478 1479 1480 1481 1482 1483 1484 1485 1486 1487 1488 1489 1490 1491 1492 1493 1494 1495 1496 1497 1498 1499 1500 1501 1502 1503 1504 1505 1506 1507 1508 1509 1510 1511 1512 1513 1514 1515 1516 1517 1518 1519 1520 1521 1522 1523 1524 1525 1526 1527 1528 1529 1530 1531 1532 1533 1534 1535 1536 1537 1538 1539 1540 1541 1542 1543 1544 1545 1546 1547 1548 1549 1550 1551 1552 1553 1554 1555 1556 1557 1558 1559 1560 1561 1562 1563 1564 1565 1566 1567 1568 1569 1570 1571 1572 1573 1574 1575 1576 1577 1578 1579 1580 1581 1582 1583 1584 1585 1586 1587 1588 1589 1590 1591 1592 1593 1594 1595 1596 1597 1598 1599 1600 1601 1602 1603 1604 1605 1606 1607 1608 1609 1610 1611 1612 1613 1614 1615 1616 1617 1618 1619 1620 1621 1622 1623 1624 1625 1626 1627 1628 1629 1630 1631 1632 1633 1634 1635 1636 1637 1638 1639 1640 1641 1642 1643 1644 1645 1646 1647 1648 1649 1650 1651 1652 1653 1654 1655 1656 1657 1658 1659 1660 1661 1662 1663 1664 1665 1666 1667 1668 1669 1670 1671 1672 1673 1674 1675 1676 1677 1678 1679 1680 1681 1682 1683 1684 1685 1686 1687 1688 1689 1690 1691 1692 1693 1694 1695 1696 1697 1698 1699 1700 1701 1702 1703 1704 1705 1706 1707 1708 1709 1710 1711 1712 1713 1714 1715 1716 1717 1718 1719 1720 1721 1722 1723 1724 1725 1726 1727 1728 1729 1730 1731 1732 1733 1734 1735 1736 1737 1738 1739 1740 1741 1742 1743 1744 1745 1746 1747 1748 1749 1750 1751 1752 1753 1754 1755 1756 1757 1758 1759 1760 1761 1762 1763 1764 1765 1766 1767 1768 1769 1770 1771 1772 1773 1774 1775 1776 1777 1778 1779 1780 1781 1782 1783 1784 1785 1786 1787 1788 1789 1790 1791 1792 1793 1794 1795 1796 1797 1798 1799 1800 1801 1802 1803 1804 1805 1806 1807 1808 1809 1810 1811 1812 1813 1814 1815 1816 1817 1818 1819 1820 1821 1822 1823 1824 1825 1826 1827 1828 1829 1830 1831 1832 1833 1834 1835 1836 1837 1838 1839 1840 1841 1842 1843 1844 1845 1846 1847 1848 1849 1850 1851 1852 1853 1854 1855 1856 1857 1858 1859 1860 1861 1862 1863 1864 1865 1866 1867 1868 1869 1870 1871 1872 1873 1874 1875 1876 1877 1878 1879 1880 1881 1882 1883 1884 1885 1886 1887 1888 1889 1890 1891 1892 1893 1894 1895 1896 1897 1898 1899 1900 1901 1902 1903 1904 1905 1906 1907 1908 1909 1910 1911 1912 1913 1914 1915 1916 1917 1918 1919 1920 1921 1922 "
     ]
    }
   ],
   "source": [
    "get_information_about_all_fighters(fighters_link_list[1058:])"
   ]
  },
  {
   "cell_type": "code",
   "execution_count": 23,
   "metadata": {
    "ExecuteTime": {
     "end_time": "2019-05-20T21:06:23.810232Z",
     "start_time": "2019-05-20T21:06:09.020270Z"
    }
   },
   "outputs": [],
   "source": [
    "json.dump(fighters,open('all_ufc_stats_info','w'))"
   ]
  },
  {
   "cell_type": "code",
   "execution_count": 411,
   "metadata": {
    "ExecuteTime": {
     "end_time": "2019-05-19T21:02:47.691411Z",
     "start_time": "2019-05-19T21:02:44.585033Z"
    }
   },
   "outputs": [],
   "source": [
    "site = BeautifulSoup(urlopen(\"http://ufcstats.com/fight-details/03aec9073946907f\"),'html.parser')"
   ]
  },
  {
   "cell_type": "code",
   "execution_count": null,
   "metadata": {},
   "outputs": [],
   "source": [
    "fighters_ufc_stats = json.load(open('all_ufc_stats_info','r'))"
   ]
  }
 ],
 "metadata": {
  "kernelspec": {
   "display_name": "Python 3",
   "language": "python",
   "name": "python3"
  },
  "language_info": {
   "codemirror_mode": {
    "name": "ipython",
    "version": 3
   },
   "file_extension": ".py",
   "mimetype": "text/x-python",
   "name": "python",
   "nbconvert_exporter": "python",
   "pygments_lexer": "ipython3",
   "version": "3.7.1"
  }
 },
 "nbformat": 4,
 "nbformat_minor": 2
}
